{
  "nbformat": 4,
  "nbformat_minor": 0,
  "metadata": {
    "colab": {
      "provenance": [],
      "authorship_tag": "ABX9TyMiCUaYrp0K2Vvn1AeHASvr",
      "include_colab_link": true
    },
    "kernelspec": {
      "name": "python3",
      "display_name": "Python 3"
    },
    "language_info": {
      "name": "python"
    }
  },
  "cells": [
    {
      "cell_type": "markdown",
      "metadata": {
        "id": "view-in-github",
        "colab_type": "text"
      },
      "source": [
        "<a href=\"https://colab.research.google.com/github/Rashid-25/Python_Practice_beginner/blob/main/lists_practice.ipynb\" target=\"_parent\"><img src=\"https://colab.research.google.com/assets/colab-badge.svg\" alt=\"Open In Colab\"/></a>"
      ]
    },
    {
      "cell_type": "markdown",
      "source": [
        "# list operations"
      ],
      "metadata": {
        "id": "dZuVcYB6A5p-"
      }
    },
    {
      "cell_type": "code",
      "execution_count": 1,
      "metadata": {
        "id": "XZKYSc6UA4SE"
      },
      "outputs": [],
      "source": [
        "list1 = [1,2,3,4,5]\n",
        "list2 = [6,7,8,9,10]"
      ]
    },
    {
      "cell_type": "markdown",
      "source": [
        "# Element - Wise Operations\n",
        "Perform operations on corresponding elements of both lists"
      ],
      "metadata": {
        "id": "_ojrsakICQNd"
      }
    },
    {
      "cell_type": "code",
      "source": [
        "addition = [a + b for a, b in zip(list1, list2)]\n",
        "subtraction = [a - b for a, b in zip(list1, list2)]\n",
        "multiplication = [a * b for a, b in zip(list1, list2)]\n",
        "division = [a / b for a, b in zip(list1, list2)]\n",
        "print(\"Addition: \", addition)\n",
        "print(\"Subtraction: \", subtraction)\n",
        "print(\"Multiplication: \", multiplication)\n",
        "print(\"Division: \", division)"
      ],
      "metadata": {
        "colab": {
          "base_uri": "https://localhost:8080/"
        },
        "id": "V3lhnXzgCrJ-",
        "outputId": "f99955b5-7552-4a56-9e9e-abc91dfd921b"
      },
      "execution_count": 8,
      "outputs": [
        {
          "output_type": "stream",
          "name": "stdout",
          "text": [
            "Addition:  [7, 9, 11, 13, 15]\n",
            "Subtraction:  [-5, -5, -5, -5, -5]\n",
            "Multiplication:  [6, 14, 24, 36, 50]\n",
            "Division:  [0.16666666666666666, 0.2857142857142857, 0.375, 0.4444444444444444, 0.5]\n"
          ]
        }
      ]
    },
    {
      "cell_type": "markdown",
      "source": [
        "# Concatenation\n",
        "Combines both lists into one list"
      ],
      "metadata": {
        "id": "XCNuM73GG0oj"
      }
    },
    {
      "cell_type": "code",
      "source": [
        "combined = list1 + list2\n",
        "print(combined)"
      ],
      "metadata": {
        "colab": {
          "base_uri": "https://localhost:8080/"
        },
        "id": "rDgbl1SsHBYY",
        "outputId": "9427049a-3a41-42c7-b464-f1ecef76d1cc"
      },
      "execution_count": 9,
      "outputs": [
        {
          "output_type": "stream",
          "name": "stdout",
          "text": [
            "[1, 2, 3, 4, 5, 6, 7, 8, 9, 10]\n"
          ]
        }
      ]
    },
    {
      "cell_type": "markdown",
      "source": [
        "# Set Operations\n",
        "Converts lists to sets and find relationships"
      ],
      "metadata": {
        "id": "PijuIO_4Hls4"
      }
    },
    {
      "cell_type": "code",
      "source": [
        "union = list(set(list1) | set(list2))\n",
        "intersection = list(set(list1) & set(list2))\n",
        "difference = list(set(list1) - set(list2))\n",
        "print(\"Union: \", union)\n",
        "print(\"Intersection: \", intersection)\n",
        "print(\"Difference: \", difference)"
      ],
      "metadata": {
        "colab": {
          "base_uri": "https://localhost:8080/"
        },
        "id": "sooiajjsHzjX",
        "outputId": "ad4c1114-ac88-4665-9d30-64397493bfba"
      },
      "execution_count": 12,
      "outputs": [
        {
          "output_type": "stream",
          "name": "stdout",
          "text": [
            "Union:  [1, 2, 3, 4, 5, 6, 7, 8, 9, 10]\n",
            "Intersection:  []\n",
            "Difference:  [1, 2, 3, 4, 5]\n"
          ]
        }
      ]
    },
    {
      "cell_type": "markdown",
      "source": [
        "# Comparison"
      ],
      "metadata": {
        "id": "PrXYF79ENIKo"
      }
    },
    {
      "cell_type": "code",
      "source": [
        "len_comparison = len(list1) == (list2)\n",
        "item_comparison = list == list2\n",
        "print(\"Length Comparison: \", len_comparison)\n",
        "print(\"Item Comparison: \", item_comparison)"
      ],
      "metadata": {
        "colab": {
          "base_uri": "https://localhost:8080/"
        },
        "id": "5bENIEftNN6m",
        "outputId": "0d7fc9bf-537e-41bf-d736-eeee8e2c414c"
      },
      "execution_count": 15,
      "outputs": [
        {
          "output_type": "stream",
          "name": "stdout",
          "text": [
            "Length Comparison:  False\n",
            "Item Comparison:  False\n"
          ]
        }
      ]
    },
    {
      "cell_type": "markdown",
      "source": [
        "# Filtering"
      ],
      "metadata": {
        "id": "7vQ-l11MO_aM"
      }
    },
    {
      "cell_type": "code",
      "source": [
        "filtered_list = [x for x in list1 if x  not in list2]\n",
        "print(\"Filtered List: \", filtered_list)"
      ],
      "metadata": {
        "colab": {
          "base_uri": "https://localhost:8080/"
        },
        "id": "4H2rcG0qPCwn",
        "outputId": "0e325e56-c82b-4f0e-bdfd-bc7b0f4afb03"
      },
      "execution_count": 18,
      "outputs": [
        {
          "output_type": "stream",
          "name": "stdout",
          "text": [
            "Filtered List:  [1, 2, 3, 4, 5]\n"
          ]
        }
      ]
    },
    {
      "cell_type": "markdown",
      "source": [
        "# Merging with custom logic"
      ],
      "metadata": {
        "id": "TCDP3GUGQxbw"
      }
    },
    {
      "cell_type": "code",
      "source": [
        "merg_lists = [max(a, b) for a, b in zip(list1, list2)]\n",
        "print(\"Merged List: \", merg_lists)"
      ],
      "metadata": {
        "colab": {
          "base_uri": "https://localhost:8080/"
        },
        "id": "Jtbfsw38Q3uH",
        "outputId": "5f323c65-91c5-4dc9-c9a0-7188e812603a"
      },
      "execution_count": 20,
      "outputs": [
        {
          "output_type": "stream",
          "name": "stdout",
          "text": [
            "Merged List:  [6, 7, 8, 9, 10]\n"
          ]
        }
      ]
    },
    {
      "cell_type": "markdown",
      "source": [
        "# Zipping"
      ],
      "metadata": {
        "id": "YOLkwR7mSE1w"
      }
    },
    {
      "cell_type": "code",
      "source": [
        "zipped_list = list(zip(list1, list2))\n",
        "print(\"Zipped List: \", zipped_list)"
      ],
      "metadata": {
        "colab": {
          "base_uri": "https://localhost:8080/"
        },
        "id": "evkl_88GSIKD",
        "outputId": "a85b34c9-e6a1-46c9-e782-793b5cd22272"
      },
      "execution_count": 21,
      "outputs": [
        {
          "output_type": "stream",
          "name": "stdout",
          "text": [
            "Zipped List:  [(1, 6), (2, 7), (3, 8), (4, 9), (5, 10)]\n"
          ]
        }
      ]
    }
  ]
}