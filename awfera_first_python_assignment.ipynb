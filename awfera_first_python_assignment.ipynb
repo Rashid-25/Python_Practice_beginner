{
  "nbformat": 4,
  "nbformat_minor": 0,
  "metadata": {
    "colab": {
      "provenance": [],
      "authorship_tag": "ABX9TyPeM/fdKsy2L1BxgWM/h2U/",
      "include_colab_link": true
    },
    "kernelspec": {
      "name": "python3",
      "display_name": "Python 3"
    },
    "language_info": {
      "name": "python"
    }
  },
  "cells": [
    {
      "cell_type": "markdown",
      "metadata": {
        "id": "view-in-github",
        "colab_type": "text"
      },
      "source": [
        "<a href=\"https://colab.research.google.com/github/Rashid-25/Python_Practice_beginner/blob/main/awfera_first_python_assignment.ipynb\" target=\"_parent\"><img src=\"https://colab.research.google.com/assets/colab-badge.svg\" alt=\"Open In Colab\"/></a>"
      ]
    },
    {
      "cell_type": "markdown",
      "source": [
        "# Assignment 01"
      ],
      "metadata": {
        "id": "C9q4P94MLJar"
      }
    },
    {
      "cell_type": "markdown",
      "source": [
        "Question 1: Code Along\n",
        "Problem: Write a Python program that takes a string as input and prints out the\n",
        "following:\n",
        "1. The string in reverse order.\n",
        "2. The number of vowels in the string.\n",
        "Instructions:\n",
        "● Use basic string manipulation techniques such as loops, conditionals, and\n",
        "string methods.\n",
        "● Ensure that the program counts both uppercase and lowercase vowels (a, e,\n",
        "i, o, u)."
      ],
      "metadata": {
        "id": "Lt6mB3ggLUQd"
      }
    },
    {
      "cell_type": "markdown",
      "source": [
        "# First Method"
      ],
      "metadata": {
        "id": "9ZZ99hPygw0w"
      }
    },
    {
      "cell_type": "code",
      "source": [
        "string_input = input(\"Enter your text: \")\n",
        "\n",
        "# Reverse the string\n",
        "reversed_string_input = string_input[::-1]\n",
        "\n",
        "# Count vowels\n",
        "vowel_count = sum(1 for i in string_input if i.lower() in \"aeiou\")\n",
        "\n",
        "# Print results\n",
        "print(f\"Reversed string: {reversed_string_input}\")\n",
        "print(f\"Number of vowels: {vowel_count}\")"
      ],
      "metadata": {
        "colab": {
          "base_uri": "https://localhost:8080/"
        },
        "id": "FNvpqkaliVin",
        "outputId": "f512fd20-8465-4110-89be-0e55f26edf90"
      },
      "execution_count": null,
      "outputs": [
        {
          "output_type": "stream",
          "name": "stdout",
          "text": [
            "Enter your text: rashid\n",
            "Reversed string: dihsar\n",
            "Number of vowels: 2\n"
          ]
        }
      ]
    },
    {
      "cell_type": "markdown",
      "source": [
        "# Second Method"
      ],
      "metadata": {
        "id": "qhxcutAcg96y"
      }
    },
    {
      "cell_type": "code",
      "source": [
        "input_string = input(\"Enter your text: \")\n",
        "reversed_string = input_string[::-1]\n",
        "vowels_count = 0\n",
        "\n",
        "for i in input_string:\n",
        "    if i.lower() in \"aeiou\":\n",
        "        vowels_count += 1\n",
        "\n",
        "print(f\"Reversed string: {reversed_string}\")\n",
        "print(f\"Vowels count: {vowels_count}\")"
      ],
      "metadata": {
        "colab": {
          "base_uri": "https://localhost:8080/"
        },
        "id": "CtDd5l-ydDq2",
        "outputId": "25dc5ab6-0b79-4cfa-84a7-4e088ab492ad"
      },
      "execution_count": 7,
      "outputs": [
        {
          "output_type": "stream",
          "name": "stdout",
          "text": [
            "Enter your text: Rashid\n",
            "Reversed string: dihsaR\n",
            "Vowels count: 2\n"
          ]
        }
      ]
    },
    {
      "cell_type": "markdown",
      "source": [
        "# Question 2: Hands-on Coding Project\n",
        "Problem: Create a Python program that:\n",
        "● Takes an input number from the user.\n",
        "● Checks whether the number is even or odd.\n",
        "● Prints the result.\n",
        "Instructions:Write a Python script that accepts a number from the user, determines\n",
        "whether it is even or odd, and prints the result.\n",
        "● Use conditionals to check if the number is even or odd.\n",
        "Example Input:\n",
        "Enter a number: 5\n",
        "Example Output:\n",
        "The number 5 is Odd."
      ],
      "metadata": {
        "id": "XMEWtzYyjAJj"
      }
    },
    {
      "cell_type": "code",
      "source": [
        "number = int(input(\"Enter your number: \"))\n",
        "\n",
        "if number%2 ==0:\n",
        "    print(\"The Number\" ,number, \"is Even\")\n",
        "else:\n",
        "    print(\"The Number\" ,number, \"is Odd\")"
      ],
      "metadata": {
        "colab": {
          "base_uri": "https://localhost:8080/"
        },
        "id": "64A4rcPzjwS3",
        "outputId": "3f9d359b-ae71-4939-8263-e11be36b9244"
      },
      "execution_count": 12,
      "outputs": [
        {
          "output_type": "stream",
          "name": "stdout",
          "text": [
            "Enter your number: 50\n",
            "The Number 50 is Even\n"
          ]
        }
      ]
    },
    {
      "cell_type": "code",
      "source": [
        "# improved version using f-formatting\n",
        "number = int(input(\"Enter your number: \"))\n",
        "\n",
        "if number % 2 == 0:\n",
        "    print(f\"The number {number} is Even.\")  # Using f-string for better readability\n",
        "else:\n",
        "    print(f\"The number {number} is Odd.\")"
      ],
      "metadata": {
        "colab": {
          "base_uri": "https://localhost:8080/"
        },
        "id": "vmLiQMIom0P5",
        "outputId": "e634f046-300e-4573-c2d4-8713384d587c"
      },
      "execution_count": 13,
      "outputs": [
        {
          "output_type": "stream",
          "name": "stdout",
          "text": [
            "Enter your number: 6\n",
            "The number 6 is Even.\n"
          ]
        }
      ]
    },
    {
      "cell_type": "markdown",
      "source": [
        "# question 3"
      ],
      "metadata": {
        "id": "bN1lTTyNuBw3"
      }
    },
    {
      "cell_type": "code",
      "source": [
        "# Step 1: Take a list of integers as input from the user\n",
        "user_input = input(\"Enter a list of numbers separated by spaces: \")\n",
        "num_list = [int(num) for num in user_input.split()]  # Convert input to a list of integers\n",
        "\n",
        "# Step 2: Explain how to create a virtual environment using Miniconda (Simulation)\n",
        "\"\"\"\n",
        "To create a virtual environment named 'sortenv' using Miniconda, run the following command:\n",
        "    conda create --name sortenv python=3.11\n",
        "(This installs Python 3.11 in the virtual environment)\n",
        "\n",
        "To activate the virtual environment, use:\n",
        "    conda activate sortenv\n",
        "\n",
        "To deactivate the environment after using it:\n",
        "    conda deactivate\n",
        "\"\"\"\n",
        "\n",
        "# Step 3: Explain how to install NumPy inside the Miniconda environment (Simulation)\n",
        "\"\"\"\n",
        "After activating the virtual environment, install NumPy using:\n",
        "    conda install numpy\n",
        "or using pip inside the activated environment:\n",
        "    pip install numpy\n",
        "\"\"\"\n",
        "\n",
        "# Step 4: Import NumPy and sort the list\n",
        "import numpy as np  # Importing NumPy\n",
        "\n",
        "sorted_list = np.sort(num_list)  # Sorting the list using NumPy\n",
        "\n",
        "# Step 5: Print the sorted list\n",
        "print(\"Sorted list:\", sorted_list)"
      ],
      "metadata": {
        "colab": {
          "base_uri": "https://localhost:8080/"
        },
        "id": "Gj1yW7FYuGOu",
        "outputId": "8becb803-68c0-4570-c1c6-cd7d32326e92"
      },
      "execution_count": 15,
      "outputs": [
        {
          "output_type": "stream",
          "name": "stdout",
          "text": [
            "Enter a list of numbers separated by spaces: 1 3 10 12 8 15\n",
            "Sorted list: [ 1  3  8 10 12 15]\n"
          ]
        }
      ]
    }
  ]
}