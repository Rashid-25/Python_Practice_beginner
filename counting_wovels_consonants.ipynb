{
  "nbformat": 4,
  "nbformat_minor": 0,
  "metadata": {
    "colab": {
      "provenance": [],
      "authorship_tag": "ABX9TyPzS+apBsZu5IAkMgwu8pQO",
      "include_colab_link": true
    },
    "kernelspec": {
      "name": "python3",
      "display_name": "Python 3"
    },
    "language_info": {
      "name": "python"
    }
  },
  "cells": [
    {
      "cell_type": "markdown",
      "metadata": {
        "id": "view-in-github",
        "colab_type": "text"
      },
      "source": [
        "<a href=\"https://colab.research.google.com/github/Rashid-25/Python_Practice_beginner/blob/main/counting_wovels_consonants.ipynb\" target=\"_parent\"><img src=\"https://colab.research.google.com/assets/colab-badge.svg\" alt=\"Open In Colab\"/></a>"
      ]
    },
    {
      "cell_type": "markdown",
      "source": [
        "# Writing a Python program for counting wovels in a string"
      ],
      "metadata": {
        "id": "JWRlGsfJUFjh"
      }
    },
    {
      "cell_type": "code",
      "execution_count": 11,
      "metadata": {
        "colab": {
          "base_uri": "https://localhost:8080/"
        },
        "id": "Rs17AtjQMaVt",
        "outputId": "7c2aafe7-877d-4715-c839-7da23376fb10"
      },
      "outputs": [
        {
          "output_type": "stream",
          "name": "stdout",
          "text": [
            "Enter your string: Rashid\n",
            "2\n"
          ]
        }
      ],
      "source": [
        "# My Practice\n",
        "string = input(\"Enter your string: \")\n",
        "wovels_count = 0\n",
        "\n",
        "for char in  string.lower():\n",
        "    if char in \"aeiou\":\n",
        "       wovels_count += 1\n",
        "\n",
        "print(wovels_count)"
      ]
    },
    {
      "cell_type": "code",
      "source": [
        "# After chatgpt\n",
        "string = input(\"Enter your string: \")\n",
        "vowels_count = 0\n",
        "\n",
        "for i in string.lower():  # Convert to lowercase to handle uppercase letters too\n",
        "    if i in \"aeiou\":\n",
        "        vowels_count += 1\n",
        "\n",
        "print(\"Number of vowels:\", vowels_count)"
      ],
      "metadata": {
        "colab": {
          "base_uri": "https://localhost:8080/"
        },
        "id": "YM5wK3_QThUU",
        "outputId": "46fab51e-e9de-4bf9-cc1e-ee6fba84c569"
      },
      "execution_count": 12,
      "outputs": [
        {
          "output_type": "stream",
          "name": "stdout",
          "text": [
            "Enter your string: Rashid\n",
            "Number of vowels: 2\n"
          ]
        }
      ]
    },
    {
      "cell_type": "markdown",
      "source": [
        "# Writing a Python program for counting Consonants in a given string"
      ],
      "metadata": {
        "id": "5MUENPHkUZ0P"
      }
    },
    {
      "cell_type": "code",
      "source": [
        "\n",
        "# My Practice\n",
        "string= input(\"Enter your string: \")\n",
        "consonant_count = 0\n",
        "\n",
        "for i in string.lower():\n",
        "    if i.isalpha() and i not in (\"aeiou\"):\n",
        "        consonant_count += 1\n",
        "\n",
        "print(consonant_count)"
      ],
      "metadata": {
        "colab": {
          "base_uri": "https://localhost:8080/"
        },
        "id": "omJ0pSEXUljU",
        "outputId": "6c4011da-79ea-4e5e-cb6d-c4f72f49110c"
      },
      "execution_count": 17,
      "outputs": [
        {
          "output_type": "stream",
          "name": "stdout",
          "text": [
            "Enter your string: Pakistan\n",
            "5\n"
          ]
        }
      ]
    },
    {
      "cell_type": "code",
      "source": [
        "# After chatgpt\n",
        "string = input(\"Enter your string: \")\n",
        "consonant_count = 0\n",
        "\n",
        "for i in string.lower():\n",
        "    if i.isalpha() and i not in \"aeiou\":\n",
        "        consonant_count += 1\n",
        "\n",
        "print(\"Number of consonants:\", consonant_count)"
      ],
      "metadata": {
        "colab": {
          "base_uri": "https://localhost:8080/"
        },
        "id": "2rQwCPEwXeLF",
        "outputId": "86e92fe8-bebd-4295-f9e1-5afe4ee6f7f2"
      },
      "execution_count": 18,
      "outputs": [
        {
          "output_type": "stream",
          "name": "stdout",
          "text": [
            "Enter your string: Pakistan \n",
            "Number of consonants: 5\n"
          ]
        }
      ]
    }
  ]
}