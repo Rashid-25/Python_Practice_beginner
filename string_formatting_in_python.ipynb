{
  "nbformat": 4,
  "nbformat_minor": 0,
  "metadata": {
    "colab": {
      "provenance": [],
      "authorship_tag": "ABX9TyPcGhUUZUYv55inZ910+ozg",
      "include_colab_link": true
    },
    "kernelspec": {
      "name": "python3",
      "display_name": "Python 3"
    },
    "language_info": {
      "name": "python"
    }
  },
  "cells": [
    {
      "cell_type": "markdown",
      "metadata": {
        "id": "view-in-github",
        "colab_type": "text"
      },
      "source": [
        "<a href=\"https://colab.research.google.com/github/Rashid-25/Python_Practice_beginner/blob/main/string_formatting_in_python.ipynb\" target=\"_parent\"><img src=\"https://colab.research.google.com/assets/colab-badge.svg\" alt=\"Open In Colab\"/></a>"
      ]
    },
    {
      "cell_type": "markdown",
      "source": [
        "# Formatting String in python"
      ],
      "metadata": {
        "id": "ZcqhgHd9L0BI"
      }
    },
    {
      "cell_type": "markdown",
      "source": [
        "# Using f-string"
      ],
      "metadata": {
        "id": "5_nUR6xjL8tV"
      }
    },
    {
      "cell_type": "code",
      "execution_count": 6,
      "metadata": {
        "colab": {
          "base_uri": "https://localhost:8080/"
        },
        "id": "_z2NKcXpKbaw",
        "outputId": "77c94f15-4773-4085-9ec6-81074d08bd11"
      },
      "outputs": [
        {
          "output_type": "stream",
          "name": "stdout",
          "text": [
            "my name is rashid and I am 37 years old. I belong to Pakistan.\n"
          ]
        }
      ],
      "source": [
        "name = 'rashid'\n",
        "age = 37\n",
        "country= 'Pakistan'\n",
        "\n",
        "print(f'my name is {name} and I am {age} years old. I belong to {country}.')"
      ]
    },
    {
      "cell_type": "markdown",
      "source": [
        "# Using .formate() Method"
      ],
      "metadata": {
        "id": "gNVuxPg1MOju"
      }
    },
    {
      "cell_type": "code",
      "source": [
        "name = 'rashid'\n",
        "age = 37\n",
        "country= 'Pakistan'\n",
        "\n",
        "formatted_string = \"my name is {} and I am {} years old. I belong to {}.\".format(name, age, country)\n",
        "print(formatted_string)"
      ],
      "metadata": {
        "colab": {
          "base_uri": "https://localhost:8080/"
        },
        "id": "2NfT2TG0MdjU",
        "outputId": "8deeab38-fa5f-4561-f7b4-4546254d767e"
      },
      "execution_count": 7,
      "outputs": [
        {
          "output_type": "stream",
          "name": "stdout",
          "text": [
            "my name is rashid and I am 37 years old. I belong to Pakistan.\n"
          ]
        }
      ]
    }
  ]
}