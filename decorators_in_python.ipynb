{
  "nbformat": 4,
  "nbformat_minor": 0,
  "metadata": {
    "colab": {
      "provenance": [],
      "authorship_tag": "ABX9TyPetbri9O/R0OI52tX1o8nR",
      "include_colab_link": true
    },
    "kernelspec": {
      "name": "python3",
      "display_name": "Python 3"
    },
    "language_info": {
      "name": "python"
    }
  },
  "cells": [
    {
      "cell_type": "markdown",
      "metadata": {
        "id": "view-in-github",
        "colab_type": "text"
      },
      "source": [
        "<a href=\"https://colab.research.google.com/github/Rashid-25/Python_Practice_beginner/blob/main/decorators_in_python.ipynb\" target=\"_parent\"><img src=\"https://colab.research.google.com/assets/colab-badge.svg\" alt=\"Open In Colab\"/></a>"
      ]
    },
    {
      "cell_type": "markdown",
      "source": [
        "# Decorators in python\n",
        "A decorator is a function that allows you to add functionality to another function or method without modifying its structure. It’s essentially a wrapper function that can extend the behavior of the original function.\n",
        "\n",
        "In simpler terms:\n",
        "\n",
        "A decorator takes a function as input.\n",
        "\n",
        "It performs some operation on that function (like adding logging, timing, etc.).\n",
        "\n",
        "It returns a modified version of the original function.\\\n",
        "Decorators are often used in Python to modify or extend behavior without changing the core logic of the function you're decorating. They’re widely used in frameworks like Flask and Django for routing, middleware, etc."
      ],
      "metadata": {
        "id": "AJEnAB4xzVyc"
      }
    },
    {
      "cell_type": "markdown",
      "source": [
        "# Basic Syntax of a Decorator:\n",
        "\n",
        "Let’s break it down with an example. A decorator function must accept a function and return a new function (a wrapped version).\n",
        "\n",
        "Here’s a simple decorator:"
      ],
      "metadata": {
        "id": "_QwS7NeN06EN"
      }
    },
    {
      "cell_type": "code",
      "source": [
        "def simple_decorator(func):\n",
        "    def wrapper():\n",
        "        print(\"Something is happening before the function is called.\")\n",
        "        func()\n",
        "        print(\"Something is happening after the function is called.\")\n",
        "    return wrapper"
      ],
      "metadata": {
        "id": "UHB0AHAN1Ec9"
      },
      "execution_count": null,
      "outputs": []
    },
    {
      "cell_type": "markdown",
      "source": [
        "Now let’s apply the decorator to a function using the @ syntax:"
      ],
      "metadata": {
        "id": "62euFLpI1Sra"
      }
    },
    {
      "cell_type": "code",
      "source": [
        "@simple_decorator\n",
        "def greet():\n",
        "    print(\"Hello!\")\n",
        "\n",
        "greet()"
      ],
      "metadata": {
        "colab": {
          "base_uri": "https://localhost:8080/"
        },
        "id": "8K0LR8Wt1ben",
        "outputId": "56aad000-bc3b-46db-c1f8-be21a0e78588"
      },
      "execution_count": null,
      "outputs": [
        {
          "output_type": "stream",
          "name": "stdout",
          "text": [
            "Something is happening before the function is called.\n",
            "Hello!\n",
            "Something is happening after the function is called.\n"
          ]
        }
      ]
    },
    {
      "cell_type": "markdown",
      "source": [
        "What happens here:\n",
        "\n",
        "1. The greet() function is passed into simple_decorator as func.\n",
        "\n",
        "\n",
        "2. The decorator simple_decorator returns the wrapper() function.\n",
        "\n",
        "\n",
        "3. When greet() is called, it actually calls wrapper(), which adds extra functionality before and after the greet() function.\n",
        "\n",
        "\n",
        "\n",
        "Output:\n",
        "\n",
        "Something is happening before the function is called.\n",
        "Hello!\n",
        "Something is happening after the function is called.\n",
        "\n",
        "Understanding the Decorator Flow:\n",
        "\n",
        "1. simple_decorator is the decorator function.\n",
        "\n",
        "\n",
        "2. greet is the original function.\n",
        "\n",
        "\n",
        "3. wrapper is the modified version of the original function.\n",
        "\n",
        "\n",
        "4. The @simple_decorator syntax is a shorthand for greet = simple_decorator(greet)."
      ],
      "metadata": {
        "id": "cFnqVWCy2T5W"
      }
    },
    {
      "cell_type": "markdown",
      "source": [
        "# Decorators with Arguments:\n",
        "\n",
        "Now, what if the function you're decorating takes arguments? The decorator should handle that too."
      ],
      "metadata": {
        "id": "E1HLnRq62xTj"
      }
    },
    {
      "cell_type": "code",
      "source": [
        "def decorator_with_args(func):\n",
        "    def wrapper(*args, **kwargs):\n",
        "        print(\"Before calling the function with arguments\")\n",
        "        result = func(*args, **kwargs)\n",
        "        print(\"After calling the function\")\n",
        "        return result\n",
        "    return wrapper\n",
        "\n",
        "@decorator_with_args\n",
        "def add(a, b):\n",
        "    return a + b\n",
        "\n",
        "print(add(3, 5))"
      ],
      "metadata": {
        "colab": {
          "base_uri": "https://localhost:8080/"
        },
        "id": "7NzsGUzY4C7L",
        "outputId": "fb5867ff-fc50-4972-b8c6-1da6124db8e0"
      },
      "execution_count": null,
      "outputs": [
        {
          "output_type": "stream",
          "name": "stdout",
          "text": [
            "Before calling the function with arguments\n",
            "After calling the function\n",
            "8\n"
          ]
        }
      ]
    },
    {
      "cell_type": "markdown",
      "source": [
        "# Decorators with Return Values:\n",
        "\n",
        "As seen, decorators can modify the return value of a function. Here’s an example where the decorator changes the return value of the original function:"
      ],
      "metadata": {
        "id": "R52dr_d-5VO-"
      }
    },
    {
      "cell_type": "code",
      "source": [
        "def modify_return_value(func):\n",
        "    def wrapper(*args, **kwargs):\n",
        "        result = func(*args, **kwargs)\n",
        "        return result * 2  # Modify the return value\n",
        "    return wrapper\n",
        "\n",
        "@modify_return_value\n",
        "def multiply(a, b):\n",
        "    return a * b\n",
        "\n",
        "print(multiply(3, 4))"
      ],
      "metadata": {
        "colab": {
          "base_uri": "https://localhost:8080/"
        },
        "id": "1D4M90Vb5bzO",
        "outputId": "9b2aa02d-91b1-44fe-ea35-f954eed53a3c"
      },
      "execution_count": null,
      "outputs": [
        {
          "output_type": "stream",
          "name": "stdout",
          "text": [
            "24\n"
          ]
        }
      ]
    },
    {
      "cell_type": "markdown",
      "source": [
        "# Practical Example of a Decorator (Logging):\n",
        "\n",
        "A more practical use case for decorators is logging function calls. You can create a decorator that logs every time a function is called:"
      ],
      "metadata": {
        "id": "J5lC8Ql28csr"
      }
    },
    {
      "cell_type": "code",
      "source": [
        "def log_function_call(func):\n",
        "    def wrapper(*args, **kwargs):\n",
        "        print(f\"Calling {func.__name__} with arguments: {args} and keyword arguments: {kwargs}\")\n",
        "        return func(*args, **kwargs)\n",
        "    return wrapper\n",
        "\n",
        "@log_function_call\n",
        "def greet(name):\n",
        "    print(f\"Hello, {name}!\")\n",
        "\n",
        "greet(\"Muhammad\")"
      ],
      "metadata": {
        "colab": {
          "base_uri": "https://localhost:8080/"
        },
        "id": "D9YpUNcP8mwY",
        "outputId": "170e6179-318a-4944-dddb-09bd492989c9"
      },
      "execution_count": null,
      "outputs": [
        {
          "output_type": "stream",
          "name": "stdout",
          "text": [
            "Calling greet with arguments: ('Muhammad',) and keyword arguments: {}\n",
            "Hello, Muhammad!\n"
          ]
        }
      ]
    },
    {
      "cell_type": "markdown",
      "source": [
        "# Using functools.wraps to Preserve Function Metadata:\n",
        "\n",
        "When you use decorators, it often changes the metadata of the function (like its name, docstring). To preserve the original function’s information, you can use functools.wraps:"
      ],
      "metadata": {
        "id": "LPeseznF9uXd"
      }
    },
    {
      "cell_type": "code",
      "source": [
        "from functools import wraps\n",
        "\n",
        "def decorator_with_wraps(func):\n",
        "    @wraps(func)\n",
        "    def wrapper(*args, **kwargs):\n",
        "        return func(*args, **kwargs)\n",
        "    return wrapper\n",
        "\n",
        "@decorator_with_wraps\n",
        "def greet():\n",
        "    \"\"\"This function greets the user.\"\"\"\n",
        "    print(\"Hello!\")\n",
        "\n",
        "print(greet.__name__)  # Will print \"greet\"\n",
        "print(greet.__doc__)   # Will print \"This function greets the user.\""
      ],
      "metadata": {
        "colab": {
          "base_uri": "https://localhost:8080/"
        },
        "id": "EYysLbyZ9-0K",
        "outputId": "bc6ef67b-cb54-4699-a84b-aa7c1e9314b6"
      },
      "execution_count": null,
      "outputs": [
        {
          "output_type": "stream",
          "name": "stdout",
          "text": [
            "greet\n",
            "This function greets the user.\n"
          ]
        }
      ]
    }
  ]
}