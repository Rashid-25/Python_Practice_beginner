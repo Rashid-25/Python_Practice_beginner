{
  "nbformat": 4,
  "nbformat_minor": 0,
  "metadata": {
    "colab": {
      "provenance": [],
      "authorship_tag": "ABX9TyMENXUtQYXY2IPhF8hzLIaI",
      "include_colab_link": true
    },
    "kernelspec": {
      "name": "python3",
      "display_name": "Python 3"
    },
    "language_info": {
      "name": "python"
    }
  },
  "cells": [
    {
      "cell_type": "markdown",
      "metadata": {
        "id": "view-in-github",
        "colab_type": "text"
      },
      "source": [
        "<a href=\"https://colab.research.google.com/github/Rashid-25/Python_Practice_beginner/blob/main/calendar_in_python.ipynb\" target=\"_parent\"><img src=\"https://colab.research.google.com/assets/colab-badge.svg\" alt=\"Open In Colab\"/></a>"
      ]
    },
    {
      "cell_type": "code",
      "execution_count": 7,
      "metadata": {
        "colab": {
          "base_uri": "https://localhost:8080/"
        },
        "id": "tfzI5i_AYoPK",
        "outputId": "1716a9b6-3a39-4b1a-c76e-90c3aa504087"
      },
      "outputs": [
        {
          "output_type": "stream",
          "name": "stdout",
          "text": [
            "a 1\n",
            "b 2\n"
          ]
        }
      ],
      "source": [
        "my_dic = {\"a\":1, \"b\":2}\n",
        "for key, value in my_dic.items():\n",
        "    print(key, value)"
      ]
    },
    {
      "cell_type": "code",
      "source": [
        "import calendar\n",
        "from rich.console import Console\n",
        "from rich.table import Table\n",
        "\n",
        "def colorful_calendar(year):\n",
        "    console = Console()\n",
        "    months = [calendar.monthcalendar(year, m) for m in range(1, 13)]\n",
        "    for month in range(12):\n",
        "        month_name = calendar.month_name[month + 1]\n",
        "        table = Table(title=f\"[bold cyan]{month_name}[/bold cyan] {year}\", show_lines=True)\n",
        "        table.add_column(\"Mon\", justify=\"center\", style=\"cyan\")\n",
        "        table.add_column(\"Tue\", justify=\"center\", style=\"green\")\n",
        "        table.add_column(\"Wed\", justify=\"center\", style=\"green\")\n",
        "        table.add_column(\"Thu\", justify=\"center\", style=\"green\")\n",
        "        table.add_column(\"Fri\", justify=\"center\", style=\"green\")\n",
        "        table.add_column(\"Sat\", justify=\"center\", style=\"red\")\n",
        "        table.add_column(\"Sun\", justify=\"center\", style=\"red\")\n",
        "        for week in months[month]:\n",
        "            table.add_row(*[str(day) if day != 0 else \" \" for day in week])\n",
        "        console.print(table)\n",
        "        console.print(\"\\n\")\n",
        "\n",
        "colorful_calendar(2025)"
      ],
      "metadata": {
        "colab": {
          "base_uri": "https://localhost:8080/",
          "height": 1000
        },
        "id": "BbA02H42Z_U-",
        "outputId": "cbb64db7-30d2-40b6-b91e-80cbf7b01894"
      },
      "execution_count": 9,
      "outputs": [
        {
          "output_type": "display_data",
          "data": {
            "text/plain": [
              "\u001b[3m               \u001b[0m\u001b[1;3;36mJanuary\u001b[0m\u001b[3m 2025                \u001b[0m\n",
              "┏━━━━━┳━━━━━┳━━━━━┳━━━━━┳━━━━━┳━━━━━┳━━━━━┓\n",
              "┃\u001b[1m \u001b[0m\u001b[1mMon\u001b[0m\u001b[1m \u001b[0m┃\u001b[1m \u001b[0m\u001b[1mTue\u001b[0m\u001b[1m \u001b[0m┃\u001b[1m \u001b[0m\u001b[1mWed\u001b[0m\u001b[1m \u001b[0m┃\u001b[1m \u001b[0m\u001b[1mThu\u001b[0m\u001b[1m \u001b[0m┃\u001b[1m \u001b[0m\u001b[1mFri\u001b[0m\u001b[1m \u001b[0m┃\u001b[1m \u001b[0m\u001b[1mSat\u001b[0m\u001b[1m \u001b[0m┃\u001b[1m \u001b[0m\u001b[1mSun\u001b[0m\u001b[1m \u001b[0m┃\n",
              "┡━━━━━╇━━━━━╇━━━━━╇━━━━━╇━━━━━╇━━━━━╇━━━━━┩\n",
              "│\u001b[36m \u001b[0m\u001b[36m   \u001b[0m\u001b[36m \u001b[0m│\u001b[32m \u001b[0m\u001b[32m   \u001b[0m\u001b[32m \u001b[0m│\u001b[32m \u001b[0m\u001b[32m 1 \u001b[0m\u001b[32m \u001b[0m│\u001b[32m \u001b[0m\u001b[32m 2 \u001b[0m\u001b[32m \u001b[0m│\u001b[32m \u001b[0m\u001b[32m 3 \u001b[0m\u001b[32m \u001b[0m│\u001b[31m \u001b[0m\u001b[31m 4 \u001b[0m\u001b[31m \u001b[0m│\u001b[31m \u001b[0m\u001b[31m 5 \u001b[0m\u001b[31m \u001b[0m│\n",
              "├─────┼─────┼─────┼─────┼─────┼─────┼─────┤\n",
              "│\u001b[36m \u001b[0m\u001b[36m 6 \u001b[0m\u001b[36m \u001b[0m│\u001b[32m \u001b[0m\u001b[32m 7 \u001b[0m\u001b[32m \u001b[0m│\u001b[32m \u001b[0m\u001b[32m 8 \u001b[0m\u001b[32m \u001b[0m│\u001b[32m \u001b[0m\u001b[32m 9 \u001b[0m\u001b[32m \u001b[0m│\u001b[32m \u001b[0m\u001b[32m10 \u001b[0m\u001b[32m \u001b[0m│\u001b[31m \u001b[0m\u001b[31m11 \u001b[0m\u001b[31m \u001b[0m│\u001b[31m \u001b[0m\u001b[31m12 \u001b[0m\u001b[31m \u001b[0m│\n",
              "├─────┼─────┼─────┼─────┼─────┼─────┼─────┤\n",
              "│\u001b[36m \u001b[0m\u001b[36m13 \u001b[0m\u001b[36m \u001b[0m│\u001b[32m \u001b[0m\u001b[32m14 \u001b[0m\u001b[32m \u001b[0m│\u001b[32m \u001b[0m\u001b[32m15 \u001b[0m\u001b[32m \u001b[0m│\u001b[32m \u001b[0m\u001b[32m16 \u001b[0m\u001b[32m \u001b[0m│\u001b[32m \u001b[0m\u001b[32m17 \u001b[0m\u001b[32m \u001b[0m│\u001b[31m \u001b[0m\u001b[31m18 \u001b[0m\u001b[31m \u001b[0m│\u001b[31m \u001b[0m\u001b[31m19 \u001b[0m\u001b[31m \u001b[0m│\n",
              "├─────┼─────┼─────┼─────┼─────┼─────┼─────┤\n",
              "│\u001b[36m \u001b[0m\u001b[36m20 \u001b[0m\u001b[36m \u001b[0m│\u001b[32m \u001b[0m\u001b[32m21 \u001b[0m\u001b[32m \u001b[0m│\u001b[32m \u001b[0m\u001b[32m22 \u001b[0m\u001b[32m \u001b[0m│\u001b[32m \u001b[0m\u001b[32m23 \u001b[0m\u001b[32m \u001b[0m│\u001b[32m \u001b[0m\u001b[32m24 \u001b[0m\u001b[32m \u001b[0m│\u001b[31m \u001b[0m\u001b[31m25 \u001b[0m\u001b[31m \u001b[0m│\u001b[31m \u001b[0m\u001b[31m26 \u001b[0m\u001b[31m \u001b[0m│\n",
              "├─────┼─────┼─────┼─────┼─────┼─────┼─────┤\n",
              "│\u001b[36m \u001b[0m\u001b[36m27 \u001b[0m\u001b[36m \u001b[0m│\u001b[32m \u001b[0m\u001b[32m28 \u001b[0m\u001b[32m \u001b[0m│\u001b[32m \u001b[0m\u001b[32m29 \u001b[0m\u001b[32m \u001b[0m│\u001b[32m \u001b[0m\u001b[32m30 \u001b[0m\u001b[32m \u001b[0m│\u001b[32m \u001b[0m\u001b[32m31 \u001b[0m\u001b[32m \u001b[0m│\u001b[31m \u001b[0m\u001b[31m   \u001b[0m\u001b[31m \u001b[0m│\u001b[31m \u001b[0m\u001b[31m   \u001b[0m\u001b[31m \u001b[0m│\n",
              "└─────┴─────┴─────┴─────┴─────┴─────┴─────┘\n"
            ],
            "text/html": [
              "<pre style=\"white-space:pre;overflow-x:auto;line-height:normal;font-family:Menlo,'DejaVu Sans Mono',consolas,'Courier New',monospace\"><span style=\"font-style: italic\">               </span><span style=\"color: #008080; text-decoration-color: #008080; font-weight: bold; font-style: italic\">January</span><span style=\"font-style: italic\"> 2025                </span>\n",
              "┏━━━━━┳━━━━━┳━━━━━┳━━━━━┳━━━━━┳━━━━━┳━━━━━┓\n",
              "┃<span style=\"font-weight: bold\"> Mon </span>┃<span style=\"font-weight: bold\"> Tue </span>┃<span style=\"font-weight: bold\"> Wed </span>┃<span style=\"font-weight: bold\"> Thu </span>┃<span style=\"font-weight: bold\"> Fri </span>┃<span style=\"font-weight: bold\"> Sat </span>┃<span style=\"font-weight: bold\"> Sun </span>┃\n",
              "┡━━━━━╇━━━━━╇━━━━━╇━━━━━╇━━━━━╇━━━━━╇━━━━━┩\n",
              "│<span style=\"color: #008080; text-decoration-color: #008080\">     </span>│<span style=\"color: #008000; text-decoration-color: #008000\">     </span>│<span style=\"color: #008000; text-decoration-color: #008000\">  1  </span>│<span style=\"color: #008000; text-decoration-color: #008000\">  2  </span>│<span style=\"color: #008000; text-decoration-color: #008000\">  3  </span>│<span style=\"color: #800000; text-decoration-color: #800000\">  4  </span>│<span style=\"color: #800000; text-decoration-color: #800000\">  5  </span>│\n",
              "├─────┼─────┼─────┼─────┼─────┼─────┼─────┤\n",
              "│<span style=\"color: #008080; text-decoration-color: #008080\">  6  </span>│<span style=\"color: #008000; text-decoration-color: #008000\">  7  </span>│<span style=\"color: #008000; text-decoration-color: #008000\">  8  </span>│<span style=\"color: #008000; text-decoration-color: #008000\">  9  </span>│<span style=\"color: #008000; text-decoration-color: #008000\"> 10  </span>│<span style=\"color: #800000; text-decoration-color: #800000\"> 11  </span>│<span style=\"color: #800000; text-decoration-color: #800000\"> 12  </span>│\n",
              "├─────┼─────┼─────┼─────┼─────┼─────┼─────┤\n",
              "│<span style=\"color: #008080; text-decoration-color: #008080\"> 13  </span>│<span style=\"color: #008000; text-decoration-color: #008000\"> 14  </span>│<span style=\"color: #008000; text-decoration-color: #008000\"> 15  </span>│<span style=\"color: #008000; text-decoration-color: #008000\"> 16  </span>│<span style=\"color: #008000; text-decoration-color: #008000\"> 17  </span>│<span style=\"color: #800000; text-decoration-color: #800000\"> 18  </span>│<span style=\"color: #800000; text-decoration-color: #800000\"> 19  </span>│\n",
              "├─────┼─────┼─────┼─────┼─────┼─────┼─────┤\n",
              "│<span style=\"color: #008080; text-decoration-color: #008080\"> 20  </span>│<span style=\"color: #008000; text-decoration-color: #008000\"> 21  </span>│<span style=\"color: #008000; text-decoration-color: #008000\"> 22  </span>│<span style=\"color: #008000; text-decoration-color: #008000\"> 23  </span>│<span style=\"color: #008000; text-decoration-color: #008000\"> 24  </span>│<span style=\"color: #800000; text-decoration-color: #800000\"> 25  </span>│<span style=\"color: #800000; text-decoration-color: #800000\"> 26  </span>│\n",
              "├─────┼─────┼─────┼─────┼─────┼─────┼─────┤\n",
              "│<span style=\"color: #008080; text-decoration-color: #008080\"> 27  </span>│<span style=\"color: #008000; text-decoration-color: #008000\"> 28  </span>│<span style=\"color: #008000; text-decoration-color: #008000\"> 29  </span>│<span style=\"color: #008000; text-decoration-color: #008000\"> 30  </span>│<span style=\"color: #008000; text-decoration-color: #008000\"> 31  </span>│<span style=\"color: #800000; text-decoration-color: #800000\">     </span>│<span style=\"color: #800000; text-decoration-color: #800000\">     </span>│\n",
              "└─────┴─────┴─────┴─────┴─────┴─────┴─────┘\n",
              "</pre>\n"
            ]
          },
          "metadata": {}
        },
        {
          "output_type": "display_data",
          "data": {
            "text/plain": [
              "\n",
              "\n"
            ],
            "text/html": [
              "<pre style=\"white-space:pre;overflow-x:auto;line-height:normal;font-family:Menlo,'DejaVu Sans Mono',consolas,'Courier New',monospace\">\n",
              "\n",
              "</pre>\n"
            ]
          },
          "metadata": {}
        },
        {
          "output_type": "display_data",
          "data": {
            "text/plain": [
              "\u001b[3m               \u001b[0m\u001b[1;3;36mFebruary\u001b[0m\u001b[3m 2025               \u001b[0m\n",
              "┏━━━━━┳━━━━━┳━━━━━┳━━━━━┳━━━━━┳━━━━━┳━━━━━┓\n",
              "┃\u001b[1m \u001b[0m\u001b[1mMon\u001b[0m\u001b[1m \u001b[0m┃\u001b[1m \u001b[0m\u001b[1mTue\u001b[0m\u001b[1m \u001b[0m┃\u001b[1m \u001b[0m\u001b[1mWed\u001b[0m\u001b[1m \u001b[0m┃\u001b[1m \u001b[0m\u001b[1mThu\u001b[0m\u001b[1m \u001b[0m┃\u001b[1m \u001b[0m\u001b[1mFri\u001b[0m\u001b[1m \u001b[0m┃\u001b[1m \u001b[0m\u001b[1mSat\u001b[0m\u001b[1m \u001b[0m┃\u001b[1m \u001b[0m\u001b[1mSun\u001b[0m\u001b[1m \u001b[0m┃\n",
              "┡━━━━━╇━━━━━╇━━━━━╇━━━━━╇━━━━━╇━━━━━╇━━━━━┩\n",
              "│\u001b[36m \u001b[0m\u001b[36m   \u001b[0m\u001b[36m \u001b[0m│\u001b[32m \u001b[0m\u001b[32m   \u001b[0m\u001b[32m \u001b[0m│\u001b[32m \u001b[0m\u001b[32m   \u001b[0m\u001b[32m \u001b[0m│\u001b[32m \u001b[0m\u001b[32m   \u001b[0m\u001b[32m \u001b[0m│\u001b[32m \u001b[0m\u001b[32m   \u001b[0m\u001b[32m \u001b[0m│\u001b[31m \u001b[0m\u001b[31m 1 \u001b[0m\u001b[31m \u001b[0m│\u001b[31m \u001b[0m\u001b[31m 2 \u001b[0m\u001b[31m \u001b[0m│\n",
              "├─────┼─────┼─────┼─────┼─────┼─────┼─────┤\n",
              "│\u001b[36m \u001b[0m\u001b[36m 3 \u001b[0m\u001b[36m \u001b[0m│\u001b[32m \u001b[0m\u001b[32m 4 \u001b[0m\u001b[32m \u001b[0m│\u001b[32m \u001b[0m\u001b[32m 5 \u001b[0m\u001b[32m \u001b[0m│\u001b[32m \u001b[0m\u001b[32m 6 \u001b[0m\u001b[32m \u001b[0m│\u001b[32m \u001b[0m\u001b[32m 7 \u001b[0m\u001b[32m \u001b[0m│\u001b[31m \u001b[0m\u001b[31m 8 \u001b[0m\u001b[31m \u001b[0m│\u001b[31m \u001b[0m\u001b[31m 9 \u001b[0m\u001b[31m \u001b[0m│\n",
              "├─────┼─────┼─────┼─────┼─────┼─────┼─────┤\n",
              "│\u001b[36m \u001b[0m\u001b[36m10 \u001b[0m\u001b[36m \u001b[0m│\u001b[32m \u001b[0m\u001b[32m11 \u001b[0m\u001b[32m \u001b[0m│\u001b[32m \u001b[0m\u001b[32m12 \u001b[0m\u001b[32m \u001b[0m│\u001b[32m \u001b[0m\u001b[32m13 \u001b[0m\u001b[32m \u001b[0m│\u001b[32m \u001b[0m\u001b[32m14 \u001b[0m\u001b[32m \u001b[0m│\u001b[31m \u001b[0m\u001b[31m15 \u001b[0m\u001b[31m \u001b[0m│\u001b[31m \u001b[0m\u001b[31m16 \u001b[0m\u001b[31m \u001b[0m│\n",
              "├─────┼─────┼─────┼─────┼─────┼─────┼─────┤\n",
              "│\u001b[36m \u001b[0m\u001b[36m17 \u001b[0m\u001b[36m \u001b[0m│\u001b[32m \u001b[0m\u001b[32m18 \u001b[0m\u001b[32m \u001b[0m│\u001b[32m \u001b[0m\u001b[32m19 \u001b[0m\u001b[32m \u001b[0m│\u001b[32m \u001b[0m\u001b[32m20 \u001b[0m\u001b[32m \u001b[0m│\u001b[32m \u001b[0m\u001b[32m21 \u001b[0m\u001b[32m \u001b[0m│\u001b[31m \u001b[0m\u001b[31m22 \u001b[0m\u001b[31m \u001b[0m│\u001b[31m \u001b[0m\u001b[31m23 \u001b[0m\u001b[31m \u001b[0m│\n",
              "├─────┼─────┼─────┼─────┼─────┼─────┼─────┤\n",
              "│\u001b[36m \u001b[0m\u001b[36m24 \u001b[0m\u001b[36m \u001b[0m│\u001b[32m \u001b[0m\u001b[32m25 \u001b[0m\u001b[32m \u001b[0m│\u001b[32m \u001b[0m\u001b[32m26 \u001b[0m\u001b[32m \u001b[0m│\u001b[32m \u001b[0m\u001b[32m27 \u001b[0m\u001b[32m \u001b[0m│\u001b[32m \u001b[0m\u001b[32m28 \u001b[0m\u001b[32m \u001b[0m│\u001b[31m \u001b[0m\u001b[31m   \u001b[0m\u001b[31m \u001b[0m│\u001b[31m \u001b[0m\u001b[31m   \u001b[0m\u001b[31m \u001b[0m│\n",
              "└─────┴─────┴─────┴─────┴─────┴─────┴─────┘\n"
            ],
            "text/html": [
              "<pre style=\"white-space:pre;overflow-x:auto;line-height:normal;font-family:Menlo,'DejaVu Sans Mono',consolas,'Courier New',monospace\"><span style=\"font-style: italic\">               </span><span style=\"color: #008080; text-decoration-color: #008080; font-weight: bold; font-style: italic\">February</span><span style=\"font-style: italic\"> 2025               </span>\n",
              "┏━━━━━┳━━━━━┳━━━━━┳━━━━━┳━━━━━┳━━━━━┳━━━━━┓\n",
              "┃<span style=\"font-weight: bold\"> Mon </span>┃<span style=\"font-weight: bold\"> Tue </span>┃<span style=\"font-weight: bold\"> Wed </span>┃<span style=\"font-weight: bold\"> Thu </span>┃<span style=\"font-weight: bold\"> Fri </span>┃<span style=\"font-weight: bold\"> Sat </span>┃<span style=\"font-weight: bold\"> Sun </span>┃\n",
              "┡━━━━━╇━━━━━╇━━━━━╇━━━━━╇━━━━━╇━━━━━╇━━━━━┩\n",
              "│<span style=\"color: #008080; text-decoration-color: #008080\">     </span>│<span style=\"color: #008000; text-decoration-color: #008000\">     </span>│<span style=\"color: #008000; text-decoration-color: #008000\">     </span>│<span style=\"color: #008000; text-decoration-color: #008000\">     </span>│<span style=\"color: #008000; text-decoration-color: #008000\">     </span>│<span style=\"color: #800000; text-decoration-color: #800000\">  1  </span>│<span style=\"color: #800000; text-decoration-color: #800000\">  2  </span>│\n",
              "├─────┼─────┼─────┼─────┼─────┼─────┼─────┤\n",
              "│<span style=\"color: #008080; text-decoration-color: #008080\">  3  </span>│<span style=\"color: #008000; text-decoration-color: #008000\">  4  </span>│<span style=\"color: #008000; text-decoration-color: #008000\">  5  </span>│<span style=\"color: #008000; text-decoration-color: #008000\">  6  </span>│<span style=\"color: #008000; text-decoration-color: #008000\">  7  </span>│<span style=\"color: #800000; text-decoration-color: #800000\">  8  </span>│<span style=\"color: #800000; text-decoration-color: #800000\">  9  </span>│\n",
              "├─────┼─────┼─────┼─────┼─────┼─────┼─────┤\n",
              "│<span style=\"color: #008080; text-decoration-color: #008080\"> 10  </span>│<span style=\"color: #008000; text-decoration-color: #008000\"> 11  </span>│<span style=\"color: #008000; text-decoration-color: #008000\"> 12  </span>│<span style=\"color: #008000; text-decoration-color: #008000\"> 13  </span>│<span style=\"color: #008000; text-decoration-color: #008000\"> 14  </span>│<span style=\"color: #800000; text-decoration-color: #800000\"> 15  </span>│<span style=\"color: #800000; text-decoration-color: #800000\"> 16  </span>│\n",
              "├─────┼─────┼─────┼─────┼─────┼─────┼─────┤\n",
              "│<span style=\"color: #008080; text-decoration-color: #008080\"> 17  </span>│<span style=\"color: #008000; text-decoration-color: #008000\"> 18  </span>│<span style=\"color: #008000; text-decoration-color: #008000\"> 19  </span>│<span style=\"color: #008000; text-decoration-color: #008000\"> 20  </span>│<span style=\"color: #008000; text-decoration-color: #008000\"> 21  </span>│<span style=\"color: #800000; text-decoration-color: #800000\"> 22  </span>│<span style=\"color: #800000; text-decoration-color: #800000\"> 23  </span>│\n",
              "├─────┼─────┼─────┼─────┼─────┼─────┼─────┤\n",
              "│<span style=\"color: #008080; text-decoration-color: #008080\"> 24  </span>│<span style=\"color: #008000; text-decoration-color: #008000\"> 25  </span>│<span style=\"color: #008000; text-decoration-color: #008000\"> 26  </span>│<span style=\"color: #008000; text-decoration-color: #008000\"> 27  </span>│<span style=\"color: #008000; text-decoration-color: #008000\"> 28  </span>│<span style=\"color: #800000; text-decoration-color: #800000\">     </span>│<span style=\"color: #800000; text-decoration-color: #800000\">     </span>│\n",
              "└─────┴─────┴─────┴─────┴─────┴─────┴─────┘\n",
              "</pre>\n"
            ]
          },
          "metadata": {}
        },
        {
          "output_type": "display_data",
          "data": {
            "text/plain": [
              "\n",
              "\n"
            ],
            "text/html": [
              "<pre style=\"white-space:pre;overflow-x:auto;line-height:normal;font-family:Menlo,'DejaVu Sans Mono',consolas,'Courier New',monospace\">\n",
              "\n",
              "</pre>\n"
            ]
          },
          "metadata": {}
        },
        {
          "output_type": "display_data",
          "data": {
            "text/plain": [
              "\u001b[3m                \u001b[0m\u001b[1;3;36mMarch\u001b[0m\u001b[3m 2025                 \u001b[0m\n",
              "┏━━━━━┳━━━━━┳━━━━━┳━━━━━┳━━━━━┳━━━━━┳━━━━━┓\n",
              "┃\u001b[1m \u001b[0m\u001b[1mMon\u001b[0m\u001b[1m \u001b[0m┃\u001b[1m \u001b[0m\u001b[1mTue\u001b[0m\u001b[1m \u001b[0m┃\u001b[1m \u001b[0m\u001b[1mWed\u001b[0m\u001b[1m \u001b[0m┃\u001b[1m \u001b[0m\u001b[1mThu\u001b[0m\u001b[1m \u001b[0m┃\u001b[1m \u001b[0m\u001b[1mFri\u001b[0m\u001b[1m \u001b[0m┃\u001b[1m \u001b[0m\u001b[1mSat\u001b[0m\u001b[1m \u001b[0m┃\u001b[1m \u001b[0m\u001b[1mSun\u001b[0m\u001b[1m \u001b[0m┃\n",
              "┡━━━━━╇━━━━━╇━━━━━╇━━━━━╇━━━━━╇━━━━━╇━━━━━┩\n",
              "│\u001b[36m \u001b[0m\u001b[36m   \u001b[0m\u001b[36m \u001b[0m│\u001b[32m \u001b[0m\u001b[32m   \u001b[0m\u001b[32m \u001b[0m│\u001b[32m \u001b[0m\u001b[32m   \u001b[0m\u001b[32m \u001b[0m│\u001b[32m \u001b[0m\u001b[32m   \u001b[0m\u001b[32m \u001b[0m│\u001b[32m \u001b[0m\u001b[32m   \u001b[0m\u001b[32m \u001b[0m│\u001b[31m \u001b[0m\u001b[31m 1 \u001b[0m\u001b[31m \u001b[0m│\u001b[31m \u001b[0m\u001b[31m 2 \u001b[0m\u001b[31m \u001b[0m│\n",
              "├─────┼─────┼─────┼─────┼─────┼─────┼─────┤\n",
              "│\u001b[36m \u001b[0m\u001b[36m 3 \u001b[0m\u001b[36m \u001b[0m│\u001b[32m \u001b[0m\u001b[32m 4 \u001b[0m\u001b[32m \u001b[0m│\u001b[32m \u001b[0m\u001b[32m 5 \u001b[0m\u001b[32m \u001b[0m│\u001b[32m \u001b[0m\u001b[32m 6 \u001b[0m\u001b[32m \u001b[0m│\u001b[32m \u001b[0m\u001b[32m 7 \u001b[0m\u001b[32m \u001b[0m│\u001b[31m \u001b[0m\u001b[31m 8 \u001b[0m\u001b[31m \u001b[0m│\u001b[31m \u001b[0m\u001b[31m 9 \u001b[0m\u001b[31m \u001b[0m│\n",
              "├─────┼─────┼─────┼─────┼─────┼─────┼─────┤\n",
              "│\u001b[36m \u001b[0m\u001b[36m10 \u001b[0m\u001b[36m \u001b[0m│\u001b[32m \u001b[0m\u001b[32m11 \u001b[0m\u001b[32m \u001b[0m│\u001b[32m \u001b[0m\u001b[32m12 \u001b[0m\u001b[32m \u001b[0m│\u001b[32m \u001b[0m\u001b[32m13 \u001b[0m\u001b[32m \u001b[0m│\u001b[32m \u001b[0m\u001b[32m14 \u001b[0m\u001b[32m \u001b[0m│\u001b[31m \u001b[0m\u001b[31m15 \u001b[0m\u001b[31m \u001b[0m│\u001b[31m \u001b[0m\u001b[31m16 \u001b[0m\u001b[31m \u001b[0m│\n",
              "├─────┼─────┼─────┼─────┼─────┼─────┼─────┤\n",
              "│\u001b[36m \u001b[0m\u001b[36m17 \u001b[0m\u001b[36m \u001b[0m│\u001b[32m \u001b[0m\u001b[32m18 \u001b[0m\u001b[32m \u001b[0m│\u001b[32m \u001b[0m\u001b[32m19 \u001b[0m\u001b[32m \u001b[0m│\u001b[32m \u001b[0m\u001b[32m20 \u001b[0m\u001b[32m \u001b[0m│\u001b[32m \u001b[0m\u001b[32m21 \u001b[0m\u001b[32m \u001b[0m│\u001b[31m \u001b[0m\u001b[31m22 \u001b[0m\u001b[31m \u001b[0m│\u001b[31m \u001b[0m\u001b[31m23 \u001b[0m\u001b[31m \u001b[0m│\n",
              "├─────┼─────┼─────┼─────┼─────┼─────┼─────┤\n",
              "│\u001b[36m \u001b[0m\u001b[36m24 \u001b[0m\u001b[36m \u001b[0m│\u001b[32m \u001b[0m\u001b[32m25 \u001b[0m\u001b[32m \u001b[0m│\u001b[32m \u001b[0m\u001b[32m26 \u001b[0m\u001b[32m \u001b[0m│\u001b[32m \u001b[0m\u001b[32m27 \u001b[0m\u001b[32m \u001b[0m│\u001b[32m \u001b[0m\u001b[32m28 \u001b[0m\u001b[32m \u001b[0m│\u001b[31m \u001b[0m\u001b[31m29 \u001b[0m\u001b[31m \u001b[0m│\u001b[31m \u001b[0m\u001b[31m30 \u001b[0m\u001b[31m \u001b[0m│\n",
              "├─────┼─────┼─────┼─────┼─────┼─────┼─────┤\n",
              "│\u001b[36m \u001b[0m\u001b[36m31 \u001b[0m\u001b[36m \u001b[0m│\u001b[32m \u001b[0m\u001b[32m   \u001b[0m\u001b[32m \u001b[0m│\u001b[32m \u001b[0m\u001b[32m   \u001b[0m\u001b[32m \u001b[0m│\u001b[32m \u001b[0m\u001b[32m   \u001b[0m\u001b[32m \u001b[0m│\u001b[32m \u001b[0m\u001b[32m   \u001b[0m\u001b[32m \u001b[0m│\u001b[31m \u001b[0m\u001b[31m   \u001b[0m\u001b[31m \u001b[0m│\u001b[31m \u001b[0m\u001b[31m   \u001b[0m\u001b[31m \u001b[0m│\n",
              "└─────┴─────┴─────┴─────┴─────┴─────┴─────┘\n"
            ],
            "text/html": [
              "<pre style=\"white-space:pre;overflow-x:auto;line-height:normal;font-family:Menlo,'DejaVu Sans Mono',consolas,'Courier New',monospace\"><span style=\"font-style: italic\">                </span><span style=\"color: #008080; text-decoration-color: #008080; font-weight: bold; font-style: italic\">March</span><span style=\"font-style: italic\"> 2025                 </span>\n",
              "┏━━━━━┳━━━━━┳━━━━━┳━━━━━┳━━━━━┳━━━━━┳━━━━━┓\n",
              "┃<span style=\"font-weight: bold\"> Mon </span>┃<span style=\"font-weight: bold\"> Tue </span>┃<span style=\"font-weight: bold\"> Wed </span>┃<span style=\"font-weight: bold\"> Thu </span>┃<span style=\"font-weight: bold\"> Fri </span>┃<span style=\"font-weight: bold\"> Sat </span>┃<span style=\"font-weight: bold\"> Sun </span>┃\n",
              "┡━━━━━╇━━━━━╇━━━━━╇━━━━━╇━━━━━╇━━━━━╇━━━━━┩\n",
              "│<span style=\"color: #008080; text-decoration-color: #008080\">     </span>│<span style=\"color: #008000; text-decoration-color: #008000\">     </span>│<span style=\"color: #008000; text-decoration-color: #008000\">     </span>│<span style=\"color: #008000; text-decoration-color: #008000\">     </span>│<span style=\"color: #008000; text-decoration-color: #008000\">     </span>│<span style=\"color: #800000; text-decoration-color: #800000\">  1  </span>│<span style=\"color: #800000; text-decoration-color: #800000\">  2  </span>│\n",
              "├─────┼─────┼─────┼─────┼─────┼─────┼─────┤\n",
              "│<span style=\"color: #008080; text-decoration-color: #008080\">  3  </span>│<span style=\"color: #008000; text-decoration-color: #008000\">  4  </span>│<span style=\"color: #008000; text-decoration-color: #008000\">  5  </span>│<span style=\"color: #008000; text-decoration-color: #008000\">  6  </span>│<span style=\"color: #008000; text-decoration-color: #008000\">  7  </span>│<span style=\"color: #800000; text-decoration-color: #800000\">  8  </span>│<span style=\"color: #800000; text-decoration-color: #800000\">  9  </span>│\n",
              "├─────┼─────┼─────┼─────┼─────┼─────┼─────┤\n",
              "│<span style=\"color: #008080; text-decoration-color: #008080\"> 10  </span>│<span style=\"color: #008000; text-decoration-color: #008000\"> 11  </span>│<span style=\"color: #008000; text-decoration-color: #008000\"> 12  </span>│<span style=\"color: #008000; text-decoration-color: #008000\"> 13  </span>│<span style=\"color: #008000; text-decoration-color: #008000\"> 14  </span>│<span style=\"color: #800000; text-decoration-color: #800000\"> 15  </span>│<span style=\"color: #800000; text-decoration-color: #800000\"> 16  </span>│\n",
              "├─────┼─────┼─────┼─────┼─────┼─────┼─────┤\n",
              "│<span style=\"color: #008080; text-decoration-color: #008080\"> 17  </span>│<span style=\"color: #008000; text-decoration-color: #008000\"> 18  </span>│<span style=\"color: #008000; text-decoration-color: #008000\"> 19  </span>│<span style=\"color: #008000; text-decoration-color: #008000\"> 20  </span>│<span style=\"color: #008000; text-decoration-color: #008000\"> 21  </span>│<span style=\"color: #800000; text-decoration-color: #800000\"> 22  </span>│<span style=\"color: #800000; text-decoration-color: #800000\"> 23  </span>│\n",
              "├─────┼─────┼─────┼─────┼─────┼─────┼─────┤\n",
              "│<span style=\"color: #008080; text-decoration-color: #008080\"> 24  </span>│<span style=\"color: #008000; text-decoration-color: #008000\"> 25  </span>│<span style=\"color: #008000; text-decoration-color: #008000\"> 26  </span>│<span style=\"color: #008000; text-decoration-color: #008000\"> 27  </span>│<span style=\"color: #008000; text-decoration-color: #008000\"> 28  </span>│<span style=\"color: #800000; text-decoration-color: #800000\"> 29  </span>│<span style=\"color: #800000; text-decoration-color: #800000\"> 30  </span>│\n",
              "├─────┼─────┼─────┼─────┼─────┼─────┼─────┤\n",
              "│<span style=\"color: #008080; text-decoration-color: #008080\"> 31  </span>│<span style=\"color: #008000; text-decoration-color: #008000\">     </span>│<span style=\"color: #008000; text-decoration-color: #008000\">     </span>│<span style=\"color: #008000; text-decoration-color: #008000\">     </span>│<span style=\"color: #008000; text-decoration-color: #008000\">     </span>│<span style=\"color: #800000; text-decoration-color: #800000\">     </span>│<span style=\"color: #800000; text-decoration-color: #800000\">     </span>│\n",
              "└─────┴─────┴─────┴─────┴─────┴─────┴─────┘\n",
              "</pre>\n"
            ]
          },
          "metadata": {}
        },
        {
          "output_type": "display_data",
          "data": {
            "text/plain": [
              "\n",
              "\n"
            ],
            "text/html": [
              "<pre style=\"white-space:pre;overflow-x:auto;line-height:normal;font-family:Menlo,'DejaVu Sans Mono',consolas,'Courier New',monospace\">\n",
              "\n",
              "</pre>\n"
            ]
          },
          "metadata": {}
        },
        {
          "output_type": "display_data",
          "data": {
            "text/plain": [
              "\u001b[3m                \u001b[0m\u001b[1;3;36mApril\u001b[0m\u001b[3m 2025                 \u001b[0m\n",
              "┏━━━━━┳━━━━━┳━━━━━┳━━━━━┳━━━━━┳━━━━━┳━━━━━┓\n",
              "┃\u001b[1m \u001b[0m\u001b[1mMon\u001b[0m\u001b[1m \u001b[0m┃\u001b[1m \u001b[0m\u001b[1mTue\u001b[0m\u001b[1m \u001b[0m┃\u001b[1m \u001b[0m\u001b[1mWed\u001b[0m\u001b[1m \u001b[0m┃\u001b[1m \u001b[0m\u001b[1mThu\u001b[0m\u001b[1m \u001b[0m┃\u001b[1m \u001b[0m\u001b[1mFri\u001b[0m\u001b[1m \u001b[0m┃\u001b[1m \u001b[0m\u001b[1mSat\u001b[0m\u001b[1m \u001b[0m┃\u001b[1m \u001b[0m\u001b[1mSun\u001b[0m\u001b[1m \u001b[0m┃\n",
              "┡━━━━━╇━━━━━╇━━━━━╇━━━━━╇━━━━━╇━━━━━╇━━━━━┩\n",
              "│\u001b[36m \u001b[0m\u001b[36m   \u001b[0m\u001b[36m \u001b[0m│\u001b[32m \u001b[0m\u001b[32m 1 \u001b[0m\u001b[32m \u001b[0m│\u001b[32m \u001b[0m\u001b[32m 2 \u001b[0m\u001b[32m \u001b[0m│\u001b[32m \u001b[0m\u001b[32m 3 \u001b[0m\u001b[32m \u001b[0m│\u001b[32m \u001b[0m\u001b[32m 4 \u001b[0m\u001b[32m \u001b[0m│\u001b[31m \u001b[0m\u001b[31m 5 \u001b[0m\u001b[31m \u001b[0m│\u001b[31m \u001b[0m\u001b[31m 6 \u001b[0m\u001b[31m \u001b[0m│\n",
              "├─────┼─────┼─────┼─────┼─────┼─────┼─────┤\n",
              "│\u001b[36m \u001b[0m\u001b[36m 7 \u001b[0m\u001b[36m \u001b[0m│\u001b[32m \u001b[0m\u001b[32m 8 \u001b[0m\u001b[32m \u001b[0m│\u001b[32m \u001b[0m\u001b[32m 9 \u001b[0m\u001b[32m \u001b[0m│\u001b[32m \u001b[0m\u001b[32m10 \u001b[0m\u001b[32m \u001b[0m│\u001b[32m \u001b[0m\u001b[32m11 \u001b[0m\u001b[32m \u001b[0m│\u001b[31m \u001b[0m\u001b[31m12 \u001b[0m\u001b[31m \u001b[0m│\u001b[31m \u001b[0m\u001b[31m13 \u001b[0m\u001b[31m \u001b[0m│\n",
              "├─────┼─────┼─────┼─────┼─────┼─────┼─────┤\n",
              "│\u001b[36m \u001b[0m\u001b[36m14 \u001b[0m\u001b[36m \u001b[0m│\u001b[32m \u001b[0m\u001b[32m15 \u001b[0m\u001b[32m \u001b[0m│\u001b[32m \u001b[0m\u001b[32m16 \u001b[0m\u001b[32m \u001b[0m│\u001b[32m \u001b[0m\u001b[32m17 \u001b[0m\u001b[32m \u001b[0m│\u001b[32m \u001b[0m\u001b[32m18 \u001b[0m\u001b[32m \u001b[0m│\u001b[31m \u001b[0m\u001b[31m19 \u001b[0m\u001b[31m \u001b[0m│\u001b[31m \u001b[0m\u001b[31m20 \u001b[0m\u001b[31m \u001b[0m│\n",
              "├─────┼─────┼─────┼─────┼─────┼─────┼─────┤\n",
              "│\u001b[36m \u001b[0m\u001b[36m21 \u001b[0m\u001b[36m \u001b[0m│\u001b[32m \u001b[0m\u001b[32m22 \u001b[0m\u001b[32m \u001b[0m│\u001b[32m \u001b[0m\u001b[32m23 \u001b[0m\u001b[32m \u001b[0m│\u001b[32m \u001b[0m\u001b[32m24 \u001b[0m\u001b[32m \u001b[0m│\u001b[32m \u001b[0m\u001b[32m25 \u001b[0m\u001b[32m \u001b[0m│\u001b[31m \u001b[0m\u001b[31m26 \u001b[0m\u001b[31m \u001b[0m│\u001b[31m \u001b[0m\u001b[31m27 \u001b[0m\u001b[31m \u001b[0m│\n",
              "├─────┼─────┼─────┼─────┼─────┼─────┼─────┤\n",
              "│\u001b[36m \u001b[0m\u001b[36m28 \u001b[0m\u001b[36m \u001b[0m│\u001b[32m \u001b[0m\u001b[32m29 \u001b[0m\u001b[32m \u001b[0m│\u001b[32m \u001b[0m\u001b[32m30 \u001b[0m\u001b[32m \u001b[0m│\u001b[32m \u001b[0m\u001b[32m   \u001b[0m\u001b[32m \u001b[0m│\u001b[32m \u001b[0m\u001b[32m   \u001b[0m\u001b[32m \u001b[0m│\u001b[31m \u001b[0m\u001b[31m   \u001b[0m\u001b[31m \u001b[0m│\u001b[31m \u001b[0m\u001b[31m   \u001b[0m\u001b[31m \u001b[0m│\n",
              "└─────┴─────┴─────┴─────┴─────┴─────┴─────┘\n"
            ],
            "text/html": [
              "<pre style=\"white-space:pre;overflow-x:auto;line-height:normal;font-family:Menlo,'DejaVu Sans Mono',consolas,'Courier New',monospace\"><span style=\"font-style: italic\">                </span><span style=\"color: #008080; text-decoration-color: #008080; font-weight: bold; font-style: italic\">April</span><span style=\"font-style: italic\"> 2025                 </span>\n",
              "┏━━━━━┳━━━━━┳━━━━━┳━━━━━┳━━━━━┳━━━━━┳━━━━━┓\n",
              "┃<span style=\"font-weight: bold\"> Mon </span>┃<span style=\"font-weight: bold\"> Tue </span>┃<span style=\"font-weight: bold\"> Wed </span>┃<span style=\"font-weight: bold\"> Thu </span>┃<span style=\"font-weight: bold\"> Fri </span>┃<span style=\"font-weight: bold\"> Sat </span>┃<span style=\"font-weight: bold\"> Sun </span>┃\n",
              "┡━━━━━╇━━━━━╇━━━━━╇━━━━━╇━━━━━╇━━━━━╇━━━━━┩\n",
              "│<span style=\"color: #008080; text-decoration-color: #008080\">     </span>│<span style=\"color: #008000; text-decoration-color: #008000\">  1  </span>│<span style=\"color: #008000; text-decoration-color: #008000\">  2  </span>│<span style=\"color: #008000; text-decoration-color: #008000\">  3  </span>│<span style=\"color: #008000; text-decoration-color: #008000\">  4  </span>│<span style=\"color: #800000; text-decoration-color: #800000\">  5  </span>│<span style=\"color: #800000; text-decoration-color: #800000\">  6  </span>│\n",
              "├─────┼─────┼─────┼─────┼─────┼─────┼─────┤\n",
              "│<span style=\"color: #008080; text-decoration-color: #008080\">  7  </span>│<span style=\"color: #008000; text-decoration-color: #008000\">  8  </span>│<span style=\"color: #008000; text-decoration-color: #008000\">  9  </span>│<span style=\"color: #008000; text-decoration-color: #008000\"> 10  </span>│<span style=\"color: #008000; text-decoration-color: #008000\"> 11  </span>│<span style=\"color: #800000; text-decoration-color: #800000\"> 12  </span>│<span style=\"color: #800000; text-decoration-color: #800000\"> 13  </span>│\n",
              "├─────┼─────┼─────┼─────┼─────┼─────┼─────┤\n",
              "│<span style=\"color: #008080; text-decoration-color: #008080\"> 14  </span>│<span style=\"color: #008000; text-decoration-color: #008000\"> 15  </span>│<span style=\"color: #008000; text-decoration-color: #008000\"> 16  </span>│<span style=\"color: #008000; text-decoration-color: #008000\"> 17  </span>│<span style=\"color: #008000; text-decoration-color: #008000\"> 18  </span>│<span style=\"color: #800000; text-decoration-color: #800000\"> 19  </span>│<span style=\"color: #800000; text-decoration-color: #800000\"> 20  </span>│\n",
              "├─────┼─────┼─────┼─────┼─────┼─────┼─────┤\n",
              "│<span style=\"color: #008080; text-decoration-color: #008080\"> 21  </span>│<span style=\"color: #008000; text-decoration-color: #008000\"> 22  </span>│<span style=\"color: #008000; text-decoration-color: #008000\"> 23  </span>│<span style=\"color: #008000; text-decoration-color: #008000\"> 24  </span>│<span style=\"color: #008000; text-decoration-color: #008000\"> 25  </span>│<span style=\"color: #800000; text-decoration-color: #800000\"> 26  </span>│<span style=\"color: #800000; text-decoration-color: #800000\"> 27  </span>│\n",
              "├─────┼─────┼─────┼─────┼─────┼─────┼─────┤\n",
              "│<span style=\"color: #008080; text-decoration-color: #008080\"> 28  </span>│<span style=\"color: #008000; text-decoration-color: #008000\"> 29  </span>│<span style=\"color: #008000; text-decoration-color: #008000\"> 30  </span>│<span style=\"color: #008000; text-decoration-color: #008000\">     </span>│<span style=\"color: #008000; text-decoration-color: #008000\">     </span>│<span style=\"color: #800000; text-decoration-color: #800000\">     </span>│<span style=\"color: #800000; text-decoration-color: #800000\">     </span>│\n",
              "└─────┴─────┴─────┴─────┴─────┴─────┴─────┘\n",
              "</pre>\n"
            ]
          },
          "metadata": {}
        },
        {
          "output_type": "display_data",
          "data": {
            "text/plain": [
              "\n",
              "\n"
            ],
            "text/html": [
              "<pre style=\"white-space:pre;overflow-x:auto;line-height:normal;font-family:Menlo,'DejaVu Sans Mono',consolas,'Courier New',monospace\">\n",
              "\n",
              "</pre>\n"
            ]
          },
          "metadata": {}
        },
        {
          "output_type": "display_data",
          "data": {
            "text/plain": [
              "\u001b[3m                 \u001b[0m\u001b[1;3;36mMay\u001b[0m\u001b[3m 2025                  \u001b[0m\n",
              "┏━━━━━┳━━━━━┳━━━━━┳━━━━━┳━━━━━┳━━━━━┳━━━━━┓\n",
              "┃\u001b[1m \u001b[0m\u001b[1mMon\u001b[0m\u001b[1m \u001b[0m┃\u001b[1m \u001b[0m\u001b[1mTue\u001b[0m\u001b[1m \u001b[0m┃\u001b[1m \u001b[0m\u001b[1mWed\u001b[0m\u001b[1m \u001b[0m┃\u001b[1m \u001b[0m\u001b[1mThu\u001b[0m\u001b[1m \u001b[0m┃\u001b[1m \u001b[0m\u001b[1mFri\u001b[0m\u001b[1m \u001b[0m┃\u001b[1m \u001b[0m\u001b[1mSat\u001b[0m\u001b[1m \u001b[0m┃\u001b[1m \u001b[0m\u001b[1mSun\u001b[0m\u001b[1m \u001b[0m┃\n",
              "┡━━━━━╇━━━━━╇━━━━━╇━━━━━╇━━━━━╇━━━━━╇━━━━━┩\n",
              "│\u001b[36m \u001b[0m\u001b[36m   \u001b[0m\u001b[36m \u001b[0m│\u001b[32m \u001b[0m\u001b[32m   \u001b[0m\u001b[32m \u001b[0m│\u001b[32m \u001b[0m\u001b[32m   \u001b[0m\u001b[32m \u001b[0m│\u001b[32m \u001b[0m\u001b[32m 1 \u001b[0m\u001b[32m \u001b[0m│\u001b[32m \u001b[0m\u001b[32m 2 \u001b[0m\u001b[32m \u001b[0m│\u001b[31m \u001b[0m\u001b[31m 3 \u001b[0m\u001b[31m \u001b[0m│\u001b[31m \u001b[0m\u001b[31m 4 \u001b[0m\u001b[31m \u001b[0m│\n",
              "├─────┼─────┼─────┼─────┼─────┼─────┼─────┤\n",
              "│\u001b[36m \u001b[0m\u001b[36m 5 \u001b[0m\u001b[36m \u001b[0m│\u001b[32m \u001b[0m\u001b[32m 6 \u001b[0m\u001b[32m \u001b[0m│\u001b[32m \u001b[0m\u001b[32m 7 \u001b[0m\u001b[32m \u001b[0m│\u001b[32m \u001b[0m\u001b[32m 8 \u001b[0m\u001b[32m \u001b[0m│\u001b[32m \u001b[0m\u001b[32m 9 \u001b[0m\u001b[32m \u001b[0m│\u001b[31m \u001b[0m\u001b[31m10 \u001b[0m\u001b[31m \u001b[0m│\u001b[31m \u001b[0m\u001b[31m11 \u001b[0m\u001b[31m \u001b[0m│\n",
              "├─────┼─────┼─────┼─────┼─────┼─────┼─────┤\n",
              "│\u001b[36m \u001b[0m\u001b[36m12 \u001b[0m\u001b[36m \u001b[0m│\u001b[32m \u001b[0m\u001b[32m13 \u001b[0m\u001b[32m \u001b[0m│\u001b[32m \u001b[0m\u001b[32m14 \u001b[0m\u001b[32m \u001b[0m│\u001b[32m \u001b[0m\u001b[32m15 \u001b[0m\u001b[32m \u001b[0m│\u001b[32m \u001b[0m\u001b[32m16 \u001b[0m\u001b[32m \u001b[0m│\u001b[31m \u001b[0m\u001b[31m17 \u001b[0m\u001b[31m \u001b[0m│\u001b[31m \u001b[0m\u001b[31m18 \u001b[0m\u001b[31m \u001b[0m│\n",
              "├─────┼─────┼─────┼─────┼─────┼─────┼─────┤\n",
              "│\u001b[36m \u001b[0m\u001b[36m19 \u001b[0m\u001b[36m \u001b[0m│\u001b[32m \u001b[0m\u001b[32m20 \u001b[0m\u001b[32m \u001b[0m│\u001b[32m \u001b[0m\u001b[32m21 \u001b[0m\u001b[32m \u001b[0m│\u001b[32m \u001b[0m\u001b[32m22 \u001b[0m\u001b[32m \u001b[0m│\u001b[32m \u001b[0m\u001b[32m23 \u001b[0m\u001b[32m \u001b[0m│\u001b[31m \u001b[0m\u001b[31m24 \u001b[0m\u001b[31m \u001b[0m│\u001b[31m \u001b[0m\u001b[31m25 \u001b[0m\u001b[31m \u001b[0m│\n",
              "├─────┼─────┼─────┼─────┼─────┼─────┼─────┤\n",
              "│\u001b[36m \u001b[0m\u001b[36m26 \u001b[0m\u001b[36m \u001b[0m│\u001b[32m \u001b[0m\u001b[32m27 \u001b[0m\u001b[32m \u001b[0m│\u001b[32m \u001b[0m\u001b[32m28 \u001b[0m\u001b[32m \u001b[0m│\u001b[32m \u001b[0m\u001b[32m29 \u001b[0m\u001b[32m \u001b[0m│\u001b[32m \u001b[0m\u001b[32m30 \u001b[0m\u001b[32m \u001b[0m│\u001b[31m \u001b[0m\u001b[31m31 \u001b[0m\u001b[31m \u001b[0m│\u001b[31m \u001b[0m\u001b[31m   \u001b[0m\u001b[31m \u001b[0m│\n",
              "└─────┴─────┴─────┴─────┴─────┴─────┴─────┘\n"
            ],
            "text/html": [
              "<pre style=\"white-space:pre;overflow-x:auto;line-height:normal;font-family:Menlo,'DejaVu Sans Mono',consolas,'Courier New',monospace\"><span style=\"font-style: italic\">                 </span><span style=\"color: #008080; text-decoration-color: #008080; font-weight: bold; font-style: italic\">May</span><span style=\"font-style: italic\"> 2025                  </span>\n",
              "┏━━━━━┳━━━━━┳━━━━━┳━━━━━┳━━━━━┳━━━━━┳━━━━━┓\n",
              "┃<span style=\"font-weight: bold\"> Mon </span>┃<span style=\"font-weight: bold\"> Tue </span>┃<span style=\"font-weight: bold\"> Wed </span>┃<span style=\"font-weight: bold\"> Thu </span>┃<span style=\"font-weight: bold\"> Fri </span>┃<span style=\"font-weight: bold\"> Sat </span>┃<span style=\"font-weight: bold\"> Sun </span>┃\n",
              "┡━━━━━╇━━━━━╇━━━━━╇━━━━━╇━━━━━╇━━━━━╇━━━━━┩\n",
              "│<span style=\"color: #008080; text-decoration-color: #008080\">     </span>│<span style=\"color: #008000; text-decoration-color: #008000\">     </span>│<span style=\"color: #008000; text-decoration-color: #008000\">     </span>│<span style=\"color: #008000; text-decoration-color: #008000\">  1  </span>│<span style=\"color: #008000; text-decoration-color: #008000\">  2  </span>│<span style=\"color: #800000; text-decoration-color: #800000\">  3  </span>│<span style=\"color: #800000; text-decoration-color: #800000\">  4  </span>│\n",
              "├─────┼─────┼─────┼─────┼─────┼─────┼─────┤\n",
              "│<span style=\"color: #008080; text-decoration-color: #008080\">  5  </span>│<span style=\"color: #008000; text-decoration-color: #008000\">  6  </span>│<span style=\"color: #008000; text-decoration-color: #008000\">  7  </span>│<span style=\"color: #008000; text-decoration-color: #008000\">  8  </span>│<span style=\"color: #008000; text-decoration-color: #008000\">  9  </span>│<span style=\"color: #800000; text-decoration-color: #800000\"> 10  </span>│<span style=\"color: #800000; text-decoration-color: #800000\"> 11  </span>│\n",
              "├─────┼─────┼─────┼─────┼─────┼─────┼─────┤\n",
              "│<span style=\"color: #008080; text-decoration-color: #008080\"> 12  </span>│<span style=\"color: #008000; text-decoration-color: #008000\"> 13  </span>│<span style=\"color: #008000; text-decoration-color: #008000\"> 14  </span>│<span style=\"color: #008000; text-decoration-color: #008000\"> 15  </span>│<span style=\"color: #008000; text-decoration-color: #008000\"> 16  </span>│<span style=\"color: #800000; text-decoration-color: #800000\"> 17  </span>│<span style=\"color: #800000; text-decoration-color: #800000\"> 18  </span>│\n",
              "├─────┼─────┼─────┼─────┼─────┼─────┼─────┤\n",
              "│<span style=\"color: #008080; text-decoration-color: #008080\"> 19  </span>│<span style=\"color: #008000; text-decoration-color: #008000\"> 20  </span>│<span style=\"color: #008000; text-decoration-color: #008000\"> 21  </span>│<span style=\"color: #008000; text-decoration-color: #008000\"> 22  </span>│<span style=\"color: #008000; text-decoration-color: #008000\"> 23  </span>│<span style=\"color: #800000; text-decoration-color: #800000\"> 24  </span>│<span style=\"color: #800000; text-decoration-color: #800000\"> 25  </span>│\n",
              "├─────┼─────┼─────┼─────┼─────┼─────┼─────┤\n",
              "│<span style=\"color: #008080; text-decoration-color: #008080\"> 26  </span>│<span style=\"color: #008000; text-decoration-color: #008000\"> 27  </span>│<span style=\"color: #008000; text-decoration-color: #008000\"> 28  </span>│<span style=\"color: #008000; text-decoration-color: #008000\"> 29  </span>│<span style=\"color: #008000; text-decoration-color: #008000\"> 30  </span>│<span style=\"color: #800000; text-decoration-color: #800000\"> 31  </span>│<span style=\"color: #800000; text-decoration-color: #800000\">     </span>│\n",
              "└─────┴─────┴─────┴─────┴─────┴─────┴─────┘\n",
              "</pre>\n"
            ]
          },
          "metadata": {}
        },
        {
          "output_type": "display_data",
          "data": {
            "text/plain": [
              "\n",
              "\n"
            ],
            "text/html": [
              "<pre style=\"white-space:pre;overflow-x:auto;line-height:normal;font-family:Menlo,'DejaVu Sans Mono',consolas,'Courier New',monospace\">\n",
              "\n",
              "</pre>\n"
            ]
          },
          "metadata": {}
        },
        {
          "output_type": "display_data",
          "data": {
            "text/plain": [
              "\u001b[3m                 \u001b[0m\u001b[1;3;36mJune\u001b[0m\u001b[3m 2025                 \u001b[0m\n",
              "┏━━━━━┳━━━━━┳━━━━━┳━━━━━┳━━━━━┳━━━━━┳━━━━━┓\n",
              "┃\u001b[1m \u001b[0m\u001b[1mMon\u001b[0m\u001b[1m \u001b[0m┃\u001b[1m \u001b[0m\u001b[1mTue\u001b[0m\u001b[1m \u001b[0m┃\u001b[1m \u001b[0m\u001b[1mWed\u001b[0m\u001b[1m \u001b[0m┃\u001b[1m \u001b[0m\u001b[1mThu\u001b[0m\u001b[1m \u001b[0m┃\u001b[1m \u001b[0m\u001b[1mFri\u001b[0m\u001b[1m \u001b[0m┃\u001b[1m \u001b[0m\u001b[1mSat\u001b[0m\u001b[1m \u001b[0m┃\u001b[1m \u001b[0m\u001b[1mSun\u001b[0m\u001b[1m \u001b[0m┃\n",
              "┡━━━━━╇━━━━━╇━━━━━╇━━━━━╇━━━━━╇━━━━━╇━━━━━┩\n",
              "│\u001b[36m \u001b[0m\u001b[36m   \u001b[0m\u001b[36m \u001b[0m│\u001b[32m \u001b[0m\u001b[32m   \u001b[0m\u001b[32m \u001b[0m│\u001b[32m \u001b[0m\u001b[32m   \u001b[0m\u001b[32m \u001b[0m│\u001b[32m \u001b[0m\u001b[32m   \u001b[0m\u001b[32m \u001b[0m│\u001b[32m \u001b[0m\u001b[32m   \u001b[0m\u001b[32m \u001b[0m│\u001b[31m \u001b[0m\u001b[31m   \u001b[0m\u001b[31m \u001b[0m│\u001b[31m \u001b[0m\u001b[31m 1 \u001b[0m\u001b[31m \u001b[0m│\n",
              "├─────┼─────┼─────┼─────┼─────┼─────┼─────┤\n",
              "│\u001b[36m \u001b[0m\u001b[36m 2 \u001b[0m\u001b[36m \u001b[0m│\u001b[32m \u001b[0m\u001b[32m 3 \u001b[0m\u001b[32m \u001b[0m│\u001b[32m \u001b[0m\u001b[32m 4 \u001b[0m\u001b[32m \u001b[0m│\u001b[32m \u001b[0m\u001b[32m 5 \u001b[0m\u001b[32m \u001b[0m│\u001b[32m \u001b[0m\u001b[32m 6 \u001b[0m\u001b[32m \u001b[0m│\u001b[31m \u001b[0m\u001b[31m 7 \u001b[0m\u001b[31m \u001b[0m│\u001b[31m \u001b[0m\u001b[31m 8 \u001b[0m\u001b[31m \u001b[0m│\n",
              "├─────┼─────┼─────┼─────┼─────┼─────┼─────┤\n",
              "│\u001b[36m \u001b[0m\u001b[36m 9 \u001b[0m\u001b[36m \u001b[0m│\u001b[32m \u001b[0m\u001b[32m10 \u001b[0m\u001b[32m \u001b[0m│\u001b[32m \u001b[0m\u001b[32m11 \u001b[0m\u001b[32m \u001b[0m│\u001b[32m \u001b[0m\u001b[32m12 \u001b[0m\u001b[32m \u001b[0m│\u001b[32m \u001b[0m\u001b[32m13 \u001b[0m\u001b[32m \u001b[0m│\u001b[31m \u001b[0m\u001b[31m14 \u001b[0m\u001b[31m \u001b[0m│\u001b[31m \u001b[0m\u001b[31m15 \u001b[0m\u001b[31m \u001b[0m│\n",
              "├─────┼─────┼─────┼─────┼─────┼─────┼─────┤\n",
              "│\u001b[36m \u001b[0m\u001b[36m16 \u001b[0m\u001b[36m \u001b[0m│\u001b[32m \u001b[0m\u001b[32m17 \u001b[0m\u001b[32m \u001b[0m│\u001b[32m \u001b[0m\u001b[32m18 \u001b[0m\u001b[32m \u001b[0m│\u001b[32m \u001b[0m\u001b[32m19 \u001b[0m\u001b[32m \u001b[0m│\u001b[32m \u001b[0m\u001b[32m20 \u001b[0m\u001b[32m \u001b[0m│\u001b[31m \u001b[0m\u001b[31m21 \u001b[0m\u001b[31m \u001b[0m│\u001b[31m \u001b[0m\u001b[31m22 \u001b[0m\u001b[31m \u001b[0m│\n",
              "├─────┼─────┼─────┼─────┼─────┼─────┼─────┤\n",
              "│\u001b[36m \u001b[0m\u001b[36m23 \u001b[0m\u001b[36m \u001b[0m│\u001b[32m \u001b[0m\u001b[32m24 \u001b[0m\u001b[32m \u001b[0m│\u001b[32m \u001b[0m\u001b[32m25 \u001b[0m\u001b[32m \u001b[0m│\u001b[32m \u001b[0m\u001b[32m26 \u001b[0m\u001b[32m \u001b[0m│\u001b[32m \u001b[0m\u001b[32m27 \u001b[0m\u001b[32m \u001b[0m│\u001b[31m \u001b[0m\u001b[31m28 \u001b[0m\u001b[31m \u001b[0m│\u001b[31m \u001b[0m\u001b[31m29 \u001b[0m\u001b[31m \u001b[0m│\n",
              "├─────┼─────┼─────┼─────┼─────┼─────┼─────┤\n",
              "│\u001b[36m \u001b[0m\u001b[36m30 \u001b[0m\u001b[36m \u001b[0m│\u001b[32m \u001b[0m\u001b[32m   \u001b[0m\u001b[32m \u001b[0m│\u001b[32m \u001b[0m\u001b[32m   \u001b[0m\u001b[32m \u001b[0m│\u001b[32m \u001b[0m\u001b[32m   \u001b[0m\u001b[32m \u001b[0m│\u001b[32m \u001b[0m\u001b[32m   \u001b[0m\u001b[32m \u001b[0m│\u001b[31m \u001b[0m\u001b[31m   \u001b[0m\u001b[31m \u001b[0m│\u001b[31m \u001b[0m\u001b[31m   \u001b[0m\u001b[31m \u001b[0m│\n",
              "└─────┴─────┴─────┴─────┴─────┴─────┴─────┘\n"
            ],
            "text/html": [
              "<pre style=\"white-space:pre;overflow-x:auto;line-height:normal;font-family:Menlo,'DejaVu Sans Mono',consolas,'Courier New',monospace\"><span style=\"font-style: italic\">                 </span><span style=\"color: #008080; text-decoration-color: #008080; font-weight: bold; font-style: italic\">June</span><span style=\"font-style: italic\"> 2025                 </span>\n",
              "┏━━━━━┳━━━━━┳━━━━━┳━━━━━┳━━━━━┳━━━━━┳━━━━━┓\n",
              "┃<span style=\"font-weight: bold\"> Mon </span>┃<span style=\"font-weight: bold\"> Tue </span>┃<span style=\"font-weight: bold\"> Wed </span>┃<span style=\"font-weight: bold\"> Thu </span>┃<span style=\"font-weight: bold\"> Fri </span>┃<span style=\"font-weight: bold\"> Sat </span>┃<span style=\"font-weight: bold\"> Sun </span>┃\n",
              "┡━━━━━╇━━━━━╇━━━━━╇━━━━━╇━━━━━╇━━━━━╇━━━━━┩\n",
              "│<span style=\"color: #008080; text-decoration-color: #008080\">     </span>│<span style=\"color: #008000; text-decoration-color: #008000\">     </span>│<span style=\"color: #008000; text-decoration-color: #008000\">     </span>│<span style=\"color: #008000; text-decoration-color: #008000\">     </span>│<span style=\"color: #008000; text-decoration-color: #008000\">     </span>│<span style=\"color: #800000; text-decoration-color: #800000\">     </span>│<span style=\"color: #800000; text-decoration-color: #800000\">  1  </span>│\n",
              "├─────┼─────┼─────┼─────┼─────┼─────┼─────┤\n",
              "│<span style=\"color: #008080; text-decoration-color: #008080\">  2  </span>│<span style=\"color: #008000; text-decoration-color: #008000\">  3  </span>│<span style=\"color: #008000; text-decoration-color: #008000\">  4  </span>│<span style=\"color: #008000; text-decoration-color: #008000\">  5  </span>│<span style=\"color: #008000; text-decoration-color: #008000\">  6  </span>│<span style=\"color: #800000; text-decoration-color: #800000\">  7  </span>│<span style=\"color: #800000; text-decoration-color: #800000\">  8  </span>│\n",
              "├─────┼─────┼─────┼─────┼─────┼─────┼─────┤\n",
              "│<span style=\"color: #008080; text-decoration-color: #008080\">  9  </span>│<span style=\"color: #008000; text-decoration-color: #008000\"> 10  </span>│<span style=\"color: #008000; text-decoration-color: #008000\"> 11  </span>│<span style=\"color: #008000; text-decoration-color: #008000\"> 12  </span>│<span style=\"color: #008000; text-decoration-color: #008000\"> 13  </span>│<span style=\"color: #800000; text-decoration-color: #800000\"> 14  </span>│<span style=\"color: #800000; text-decoration-color: #800000\"> 15  </span>│\n",
              "├─────┼─────┼─────┼─────┼─────┼─────┼─────┤\n",
              "│<span style=\"color: #008080; text-decoration-color: #008080\"> 16  </span>│<span style=\"color: #008000; text-decoration-color: #008000\"> 17  </span>│<span style=\"color: #008000; text-decoration-color: #008000\"> 18  </span>│<span style=\"color: #008000; text-decoration-color: #008000\"> 19  </span>│<span style=\"color: #008000; text-decoration-color: #008000\"> 20  </span>│<span style=\"color: #800000; text-decoration-color: #800000\"> 21  </span>│<span style=\"color: #800000; text-decoration-color: #800000\"> 22  </span>│\n",
              "├─────┼─────┼─────┼─────┼─────┼─────┼─────┤\n",
              "│<span style=\"color: #008080; text-decoration-color: #008080\"> 23  </span>│<span style=\"color: #008000; text-decoration-color: #008000\"> 24  </span>│<span style=\"color: #008000; text-decoration-color: #008000\"> 25  </span>│<span style=\"color: #008000; text-decoration-color: #008000\"> 26  </span>│<span style=\"color: #008000; text-decoration-color: #008000\"> 27  </span>│<span style=\"color: #800000; text-decoration-color: #800000\"> 28  </span>│<span style=\"color: #800000; text-decoration-color: #800000\"> 29  </span>│\n",
              "├─────┼─────┼─────┼─────┼─────┼─────┼─────┤\n",
              "│<span style=\"color: #008080; text-decoration-color: #008080\"> 30  </span>│<span style=\"color: #008000; text-decoration-color: #008000\">     </span>│<span style=\"color: #008000; text-decoration-color: #008000\">     </span>│<span style=\"color: #008000; text-decoration-color: #008000\">     </span>│<span style=\"color: #008000; text-decoration-color: #008000\">     </span>│<span style=\"color: #800000; text-decoration-color: #800000\">     </span>│<span style=\"color: #800000; text-decoration-color: #800000\">     </span>│\n",
              "└─────┴─────┴─────┴─────┴─────┴─────┴─────┘\n",
              "</pre>\n"
            ]
          },
          "metadata": {}
        },
        {
          "output_type": "display_data",
          "data": {
            "text/plain": [
              "\n",
              "\n"
            ],
            "text/html": [
              "<pre style=\"white-space:pre;overflow-x:auto;line-height:normal;font-family:Menlo,'DejaVu Sans Mono',consolas,'Courier New',monospace\">\n",
              "\n",
              "</pre>\n"
            ]
          },
          "metadata": {}
        },
        {
          "output_type": "display_data",
          "data": {
            "text/plain": [
              "\u001b[3m                 \u001b[0m\u001b[1;3;36mJuly\u001b[0m\u001b[3m 2025                 \u001b[0m\n",
              "┏━━━━━┳━━━━━┳━━━━━┳━━━━━┳━━━━━┳━━━━━┳━━━━━┓\n",
              "┃\u001b[1m \u001b[0m\u001b[1mMon\u001b[0m\u001b[1m \u001b[0m┃\u001b[1m \u001b[0m\u001b[1mTue\u001b[0m\u001b[1m \u001b[0m┃\u001b[1m \u001b[0m\u001b[1mWed\u001b[0m\u001b[1m \u001b[0m┃\u001b[1m \u001b[0m\u001b[1mThu\u001b[0m\u001b[1m \u001b[0m┃\u001b[1m \u001b[0m\u001b[1mFri\u001b[0m\u001b[1m \u001b[0m┃\u001b[1m \u001b[0m\u001b[1mSat\u001b[0m\u001b[1m \u001b[0m┃\u001b[1m \u001b[0m\u001b[1mSun\u001b[0m\u001b[1m \u001b[0m┃\n",
              "┡━━━━━╇━━━━━╇━━━━━╇━━━━━╇━━━━━╇━━━━━╇━━━━━┩\n",
              "│\u001b[36m \u001b[0m\u001b[36m   \u001b[0m\u001b[36m \u001b[0m│\u001b[32m \u001b[0m\u001b[32m 1 \u001b[0m\u001b[32m \u001b[0m│\u001b[32m \u001b[0m\u001b[32m 2 \u001b[0m\u001b[32m \u001b[0m│\u001b[32m \u001b[0m\u001b[32m 3 \u001b[0m\u001b[32m \u001b[0m│\u001b[32m \u001b[0m\u001b[32m 4 \u001b[0m\u001b[32m \u001b[0m│\u001b[31m \u001b[0m\u001b[31m 5 \u001b[0m\u001b[31m \u001b[0m│\u001b[31m \u001b[0m\u001b[31m 6 \u001b[0m\u001b[31m \u001b[0m│\n",
              "├─────┼─────┼─────┼─────┼─────┼─────┼─────┤\n",
              "│\u001b[36m \u001b[0m\u001b[36m 7 \u001b[0m\u001b[36m \u001b[0m│\u001b[32m \u001b[0m\u001b[32m 8 \u001b[0m\u001b[32m \u001b[0m│\u001b[32m \u001b[0m\u001b[32m 9 \u001b[0m\u001b[32m \u001b[0m│\u001b[32m \u001b[0m\u001b[32m10 \u001b[0m\u001b[32m \u001b[0m│\u001b[32m \u001b[0m\u001b[32m11 \u001b[0m\u001b[32m \u001b[0m│\u001b[31m \u001b[0m\u001b[31m12 \u001b[0m\u001b[31m \u001b[0m│\u001b[31m \u001b[0m\u001b[31m13 \u001b[0m\u001b[31m \u001b[0m│\n",
              "├─────┼─────┼─────┼─────┼─────┼─────┼─────┤\n",
              "│\u001b[36m \u001b[0m\u001b[36m14 \u001b[0m\u001b[36m \u001b[0m│\u001b[32m \u001b[0m\u001b[32m15 \u001b[0m\u001b[32m \u001b[0m│\u001b[32m \u001b[0m\u001b[32m16 \u001b[0m\u001b[32m \u001b[0m│\u001b[32m \u001b[0m\u001b[32m17 \u001b[0m\u001b[32m \u001b[0m│\u001b[32m \u001b[0m\u001b[32m18 \u001b[0m\u001b[32m \u001b[0m│\u001b[31m \u001b[0m\u001b[31m19 \u001b[0m\u001b[31m \u001b[0m│\u001b[31m \u001b[0m\u001b[31m20 \u001b[0m\u001b[31m \u001b[0m│\n",
              "├─────┼─────┼─────┼─────┼─────┼─────┼─────┤\n",
              "│\u001b[36m \u001b[0m\u001b[36m21 \u001b[0m\u001b[36m \u001b[0m│\u001b[32m \u001b[0m\u001b[32m22 \u001b[0m\u001b[32m \u001b[0m│\u001b[32m \u001b[0m\u001b[32m23 \u001b[0m\u001b[32m \u001b[0m│\u001b[32m \u001b[0m\u001b[32m24 \u001b[0m\u001b[32m \u001b[0m│\u001b[32m \u001b[0m\u001b[32m25 \u001b[0m\u001b[32m \u001b[0m│\u001b[31m \u001b[0m\u001b[31m26 \u001b[0m\u001b[31m \u001b[0m│\u001b[31m \u001b[0m\u001b[31m27 \u001b[0m\u001b[31m \u001b[0m│\n",
              "├─────┼─────┼─────┼─────┼─────┼─────┼─────┤\n",
              "│\u001b[36m \u001b[0m\u001b[36m28 \u001b[0m\u001b[36m \u001b[0m│\u001b[32m \u001b[0m\u001b[32m29 \u001b[0m\u001b[32m \u001b[0m│\u001b[32m \u001b[0m\u001b[32m30 \u001b[0m\u001b[32m \u001b[0m│\u001b[32m \u001b[0m\u001b[32m31 \u001b[0m\u001b[32m \u001b[0m│\u001b[32m \u001b[0m\u001b[32m   \u001b[0m\u001b[32m \u001b[0m│\u001b[31m \u001b[0m\u001b[31m   \u001b[0m\u001b[31m \u001b[0m│\u001b[31m \u001b[0m\u001b[31m   \u001b[0m\u001b[31m \u001b[0m│\n",
              "└─────┴─────┴─────┴─────┴─────┴─────┴─────┘\n"
            ],
            "text/html": [
              "<pre style=\"white-space:pre;overflow-x:auto;line-height:normal;font-family:Menlo,'DejaVu Sans Mono',consolas,'Courier New',monospace\"><span style=\"font-style: italic\">                 </span><span style=\"color: #008080; text-decoration-color: #008080; font-weight: bold; font-style: italic\">July</span><span style=\"font-style: italic\"> 2025                 </span>\n",
              "┏━━━━━┳━━━━━┳━━━━━┳━━━━━┳━━━━━┳━━━━━┳━━━━━┓\n",
              "┃<span style=\"font-weight: bold\"> Mon </span>┃<span style=\"font-weight: bold\"> Tue </span>┃<span style=\"font-weight: bold\"> Wed </span>┃<span style=\"font-weight: bold\"> Thu </span>┃<span style=\"font-weight: bold\"> Fri </span>┃<span style=\"font-weight: bold\"> Sat </span>┃<span style=\"font-weight: bold\"> Sun </span>┃\n",
              "┡━━━━━╇━━━━━╇━━━━━╇━━━━━╇━━━━━╇━━━━━╇━━━━━┩\n",
              "│<span style=\"color: #008080; text-decoration-color: #008080\">     </span>│<span style=\"color: #008000; text-decoration-color: #008000\">  1  </span>│<span style=\"color: #008000; text-decoration-color: #008000\">  2  </span>│<span style=\"color: #008000; text-decoration-color: #008000\">  3  </span>│<span style=\"color: #008000; text-decoration-color: #008000\">  4  </span>│<span style=\"color: #800000; text-decoration-color: #800000\">  5  </span>│<span style=\"color: #800000; text-decoration-color: #800000\">  6  </span>│\n",
              "├─────┼─────┼─────┼─────┼─────┼─────┼─────┤\n",
              "│<span style=\"color: #008080; text-decoration-color: #008080\">  7  </span>│<span style=\"color: #008000; text-decoration-color: #008000\">  8  </span>│<span style=\"color: #008000; text-decoration-color: #008000\">  9  </span>│<span style=\"color: #008000; text-decoration-color: #008000\"> 10  </span>│<span style=\"color: #008000; text-decoration-color: #008000\"> 11  </span>│<span style=\"color: #800000; text-decoration-color: #800000\"> 12  </span>│<span style=\"color: #800000; text-decoration-color: #800000\"> 13  </span>│\n",
              "├─────┼─────┼─────┼─────┼─────┼─────┼─────┤\n",
              "│<span style=\"color: #008080; text-decoration-color: #008080\"> 14  </span>│<span style=\"color: #008000; text-decoration-color: #008000\"> 15  </span>│<span style=\"color: #008000; text-decoration-color: #008000\"> 16  </span>│<span style=\"color: #008000; text-decoration-color: #008000\"> 17  </span>│<span style=\"color: #008000; text-decoration-color: #008000\"> 18  </span>│<span style=\"color: #800000; text-decoration-color: #800000\"> 19  </span>│<span style=\"color: #800000; text-decoration-color: #800000\"> 20  </span>│\n",
              "├─────┼─────┼─────┼─────┼─────┼─────┼─────┤\n",
              "│<span style=\"color: #008080; text-decoration-color: #008080\"> 21  </span>│<span style=\"color: #008000; text-decoration-color: #008000\"> 22  </span>│<span style=\"color: #008000; text-decoration-color: #008000\"> 23  </span>│<span style=\"color: #008000; text-decoration-color: #008000\"> 24  </span>│<span style=\"color: #008000; text-decoration-color: #008000\"> 25  </span>│<span style=\"color: #800000; text-decoration-color: #800000\"> 26  </span>│<span style=\"color: #800000; text-decoration-color: #800000\"> 27  </span>│\n",
              "├─────┼─────┼─────┼─────┼─────┼─────┼─────┤\n",
              "│<span style=\"color: #008080; text-decoration-color: #008080\"> 28  </span>│<span style=\"color: #008000; text-decoration-color: #008000\"> 29  </span>│<span style=\"color: #008000; text-decoration-color: #008000\"> 30  </span>│<span style=\"color: #008000; text-decoration-color: #008000\"> 31  </span>│<span style=\"color: #008000; text-decoration-color: #008000\">     </span>│<span style=\"color: #800000; text-decoration-color: #800000\">     </span>│<span style=\"color: #800000; text-decoration-color: #800000\">     </span>│\n",
              "└─────┴─────┴─────┴─────┴─────┴─────┴─────┘\n",
              "</pre>\n"
            ]
          },
          "metadata": {}
        },
        {
          "output_type": "display_data",
          "data": {
            "text/plain": [
              "\n",
              "\n"
            ],
            "text/html": [
              "<pre style=\"white-space:pre;overflow-x:auto;line-height:normal;font-family:Menlo,'DejaVu Sans Mono',consolas,'Courier New',monospace\">\n",
              "\n",
              "</pre>\n"
            ]
          },
          "metadata": {}
        },
        {
          "output_type": "display_data",
          "data": {
            "text/plain": [
              "\u001b[3m                \u001b[0m\u001b[1;3;36mAugust\u001b[0m\u001b[3m 2025                \u001b[0m\n",
              "┏━━━━━┳━━━━━┳━━━━━┳━━━━━┳━━━━━┳━━━━━┳━━━━━┓\n",
              "┃\u001b[1m \u001b[0m\u001b[1mMon\u001b[0m\u001b[1m \u001b[0m┃\u001b[1m \u001b[0m\u001b[1mTue\u001b[0m\u001b[1m \u001b[0m┃\u001b[1m \u001b[0m\u001b[1mWed\u001b[0m\u001b[1m \u001b[0m┃\u001b[1m \u001b[0m\u001b[1mThu\u001b[0m\u001b[1m \u001b[0m┃\u001b[1m \u001b[0m\u001b[1mFri\u001b[0m\u001b[1m \u001b[0m┃\u001b[1m \u001b[0m\u001b[1mSat\u001b[0m\u001b[1m \u001b[0m┃\u001b[1m \u001b[0m\u001b[1mSun\u001b[0m\u001b[1m \u001b[0m┃\n",
              "┡━━━━━╇━━━━━╇━━━━━╇━━━━━╇━━━━━╇━━━━━╇━━━━━┩\n",
              "│\u001b[36m \u001b[0m\u001b[36m   \u001b[0m\u001b[36m \u001b[0m│\u001b[32m \u001b[0m\u001b[32m   \u001b[0m\u001b[32m \u001b[0m│\u001b[32m \u001b[0m\u001b[32m   \u001b[0m\u001b[32m \u001b[0m│\u001b[32m \u001b[0m\u001b[32m   \u001b[0m\u001b[32m \u001b[0m│\u001b[32m \u001b[0m\u001b[32m 1 \u001b[0m\u001b[32m \u001b[0m│\u001b[31m \u001b[0m\u001b[31m 2 \u001b[0m\u001b[31m \u001b[0m│\u001b[31m \u001b[0m\u001b[31m 3 \u001b[0m\u001b[31m \u001b[0m│\n",
              "├─────┼─────┼─────┼─────┼─────┼─────┼─────┤\n",
              "│\u001b[36m \u001b[0m\u001b[36m 4 \u001b[0m\u001b[36m \u001b[0m│\u001b[32m \u001b[0m\u001b[32m 5 \u001b[0m\u001b[32m \u001b[0m│\u001b[32m \u001b[0m\u001b[32m 6 \u001b[0m\u001b[32m \u001b[0m│\u001b[32m \u001b[0m\u001b[32m 7 \u001b[0m\u001b[32m \u001b[0m│\u001b[32m \u001b[0m\u001b[32m 8 \u001b[0m\u001b[32m \u001b[0m│\u001b[31m \u001b[0m\u001b[31m 9 \u001b[0m\u001b[31m \u001b[0m│\u001b[31m \u001b[0m\u001b[31m10 \u001b[0m\u001b[31m \u001b[0m│\n",
              "├─────┼─────┼─────┼─────┼─────┼─────┼─────┤\n",
              "│\u001b[36m \u001b[0m\u001b[36m11 \u001b[0m\u001b[36m \u001b[0m│\u001b[32m \u001b[0m\u001b[32m12 \u001b[0m\u001b[32m \u001b[0m│\u001b[32m \u001b[0m\u001b[32m13 \u001b[0m\u001b[32m \u001b[0m│\u001b[32m \u001b[0m\u001b[32m14 \u001b[0m\u001b[32m \u001b[0m│\u001b[32m \u001b[0m\u001b[32m15 \u001b[0m\u001b[32m \u001b[0m│\u001b[31m \u001b[0m\u001b[31m16 \u001b[0m\u001b[31m \u001b[0m│\u001b[31m \u001b[0m\u001b[31m17 \u001b[0m\u001b[31m \u001b[0m│\n",
              "├─────┼─────┼─────┼─────┼─────┼─────┼─────┤\n",
              "│\u001b[36m \u001b[0m\u001b[36m18 \u001b[0m\u001b[36m \u001b[0m│\u001b[32m \u001b[0m\u001b[32m19 \u001b[0m\u001b[32m \u001b[0m│\u001b[32m \u001b[0m\u001b[32m20 \u001b[0m\u001b[32m \u001b[0m│\u001b[32m \u001b[0m\u001b[32m21 \u001b[0m\u001b[32m \u001b[0m│\u001b[32m \u001b[0m\u001b[32m22 \u001b[0m\u001b[32m \u001b[0m│\u001b[31m \u001b[0m\u001b[31m23 \u001b[0m\u001b[31m \u001b[0m│\u001b[31m \u001b[0m\u001b[31m24 \u001b[0m\u001b[31m \u001b[0m│\n",
              "├─────┼─────┼─────┼─────┼─────┼─────┼─────┤\n",
              "│\u001b[36m \u001b[0m\u001b[36m25 \u001b[0m\u001b[36m \u001b[0m│\u001b[32m \u001b[0m\u001b[32m26 \u001b[0m\u001b[32m \u001b[0m│\u001b[32m \u001b[0m\u001b[32m27 \u001b[0m\u001b[32m \u001b[0m│\u001b[32m \u001b[0m\u001b[32m28 \u001b[0m\u001b[32m \u001b[0m│\u001b[32m \u001b[0m\u001b[32m29 \u001b[0m\u001b[32m \u001b[0m│\u001b[31m \u001b[0m\u001b[31m30 \u001b[0m\u001b[31m \u001b[0m│\u001b[31m \u001b[0m\u001b[31m31 \u001b[0m\u001b[31m \u001b[0m│\n",
              "└─────┴─────┴─────┴─────┴─────┴─────┴─────┘\n"
            ],
            "text/html": [
              "<pre style=\"white-space:pre;overflow-x:auto;line-height:normal;font-family:Menlo,'DejaVu Sans Mono',consolas,'Courier New',monospace\"><span style=\"font-style: italic\">                </span><span style=\"color: #008080; text-decoration-color: #008080; font-weight: bold; font-style: italic\">August</span><span style=\"font-style: italic\"> 2025                </span>\n",
              "┏━━━━━┳━━━━━┳━━━━━┳━━━━━┳━━━━━┳━━━━━┳━━━━━┓\n",
              "┃<span style=\"font-weight: bold\"> Mon </span>┃<span style=\"font-weight: bold\"> Tue </span>┃<span style=\"font-weight: bold\"> Wed </span>┃<span style=\"font-weight: bold\"> Thu </span>┃<span style=\"font-weight: bold\"> Fri </span>┃<span style=\"font-weight: bold\"> Sat </span>┃<span style=\"font-weight: bold\"> Sun </span>┃\n",
              "┡━━━━━╇━━━━━╇━━━━━╇━━━━━╇━━━━━╇━━━━━╇━━━━━┩\n",
              "│<span style=\"color: #008080; text-decoration-color: #008080\">     </span>│<span style=\"color: #008000; text-decoration-color: #008000\">     </span>│<span style=\"color: #008000; text-decoration-color: #008000\">     </span>│<span style=\"color: #008000; text-decoration-color: #008000\">     </span>│<span style=\"color: #008000; text-decoration-color: #008000\">  1  </span>│<span style=\"color: #800000; text-decoration-color: #800000\">  2  </span>│<span style=\"color: #800000; text-decoration-color: #800000\">  3  </span>│\n",
              "├─────┼─────┼─────┼─────┼─────┼─────┼─────┤\n",
              "│<span style=\"color: #008080; text-decoration-color: #008080\">  4  </span>│<span style=\"color: #008000; text-decoration-color: #008000\">  5  </span>│<span style=\"color: #008000; text-decoration-color: #008000\">  6  </span>│<span style=\"color: #008000; text-decoration-color: #008000\">  7  </span>│<span style=\"color: #008000; text-decoration-color: #008000\">  8  </span>│<span style=\"color: #800000; text-decoration-color: #800000\">  9  </span>│<span style=\"color: #800000; text-decoration-color: #800000\"> 10  </span>│\n",
              "├─────┼─────┼─────┼─────┼─────┼─────┼─────┤\n",
              "│<span style=\"color: #008080; text-decoration-color: #008080\"> 11  </span>│<span style=\"color: #008000; text-decoration-color: #008000\"> 12  </span>│<span style=\"color: #008000; text-decoration-color: #008000\"> 13  </span>│<span style=\"color: #008000; text-decoration-color: #008000\"> 14  </span>│<span style=\"color: #008000; text-decoration-color: #008000\"> 15  </span>│<span style=\"color: #800000; text-decoration-color: #800000\"> 16  </span>│<span style=\"color: #800000; text-decoration-color: #800000\"> 17  </span>│\n",
              "├─────┼─────┼─────┼─────┼─────┼─────┼─────┤\n",
              "│<span style=\"color: #008080; text-decoration-color: #008080\"> 18  </span>│<span style=\"color: #008000; text-decoration-color: #008000\"> 19  </span>│<span style=\"color: #008000; text-decoration-color: #008000\"> 20  </span>│<span style=\"color: #008000; text-decoration-color: #008000\"> 21  </span>│<span style=\"color: #008000; text-decoration-color: #008000\"> 22  </span>│<span style=\"color: #800000; text-decoration-color: #800000\"> 23  </span>│<span style=\"color: #800000; text-decoration-color: #800000\"> 24  </span>│\n",
              "├─────┼─────┼─────┼─────┼─────┼─────┼─────┤\n",
              "│<span style=\"color: #008080; text-decoration-color: #008080\"> 25  </span>│<span style=\"color: #008000; text-decoration-color: #008000\"> 26  </span>│<span style=\"color: #008000; text-decoration-color: #008000\"> 27  </span>│<span style=\"color: #008000; text-decoration-color: #008000\"> 28  </span>│<span style=\"color: #008000; text-decoration-color: #008000\"> 29  </span>│<span style=\"color: #800000; text-decoration-color: #800000\"> 30  </span>│<span style=\"color: #800000; text-decoration-color: #800000\"> 31  </span>│\n",
              "└─────┴─────┴─────┴─────┴─────┴─────┴─────┘\n",
              "</pre>\n"
            ]
          },
          "metadata": {}
        },
        {
          "output_type": "display_data",
          "data": {
            "text/plain": [
              "\n",
              "\n"
            ],
            "text/html": [
              "<pre style=\"white-space:pre;overflow-x:auto;line-height:normal;font-family:Menlo,'DejaVu Sans Mono',consolas,'Courier New',monospace\">\n",
              "\n",
              "</pre>\n"
            ]
          },
          "metadata": {}
        },
        {
          "output_type": "display_data",
          "data": {
            "text/plain": [
              "\u001b[3m              \u001b[0m\u001b[1;3;36mSeptember\u001b[0m\u001b[3m 2025               \u001b[0m\n",
              "┏━━━━━┳━━━━━┳━━━━━┳━━━━━┳━━━━━┳━━━━━┳━━━━━┓\n",
              "┃\u001b[1m \u001b[0m\u001b[1mMon\u001b[0m\u001b[1m \u001b[0m┃\u001b[1m \u001b[0m\u001b[1mTue\u001b[0m\u001b[1m \u001b[0m┃\u001b[1m \u001b[0m\u001b[1mWed\u001b[0m\u001b[1m \u001b[0m┃\u001b[1m \u001b[0m\u001b[1mThu\u001b[0m\u001b[1m \u001b[0m┃\u001b[1m \u001b[0m\u001b[1mFri\u001b[0m\u001b[1m \u001b[0m┃\u001b[1m \u001b[0m\u001b[1mSat\u001b[0m\u001b[1m \u001b[0m┃\u001b[1m \u001b[0m\u001b[1mSun\u001b[0m\u001b[1m \u001b[0m┃\n",
              "┡━━━━━╇━━━━━╇━━━━━╇━━━━━╇━━━━━╇━━━━━╇━━━━━┩\n",
              "│\u001b[36m \u001b[0m\u001b[36m 1 \u001b[0m\u001b[36m \u001b[0m│\u001b[32m \u001b[0m\u001b[32m 2 \u001b[0m\u001b[32m \u001b[0m│\u001b[32m \u001b[0m\u001b[32m 3 \u001b[0m\u001b[32m \u001b[0m│\u001b[32m \u001b[0m\u001b[32m 4 \u001b[0m\u001b[32m \u001b[0m│\u001b[32m \u001b[0m\u001b[32m 5 \u001b[0m\u001b[32m \u001b[0m│\u001b[31m \u001b[0m\u001b[31m 6 \u001b[0m\u001b[31m \u001b[0m│\u001b[31m \u001b[0m\u001b[31m 7 \u001b[0m\u001b[31m \u001b[0m│\n",
              "├─────┼─────┼─────┼─────┼─────┼─────┼─────┤\n",
              "│\u001b[36m \u001b[0m\u001b[36m 8 \u001b[0m\u001b[36m \u001b[0m│\u001b[32m \u001b[0m\u001b[32m 9 \u001b[0m\u001b[32m \u001b[0m│\u001b[32m \u001b[0m\u001b[32m10 \u001b[0m\u001b[32m \u001b[0m│\u001b[32m \u001b[0m\u001b[32m11 \u001b[0m\u001b[32m \u001b[0m│\u001b[32m \u001b[0m\u001b[32m12 \u001b[0m\u001b[32m \u001b[0m│\u001b[31m \u001b[0m\u001b[31m13 \u001b[0m\u001b[31m \u001b[0m│\u001b[31m \u001b[0m\u001b[31m14 \u001b[0m\u001b[31m \u001b[0m│\n",
              "├─────┼─────┼─────┼─────┼─────┼─────┼─────┤\n",
              "│\u001b[36m \u001b[0m\u001b[36m15 \u001b[0m\u001b[36m \u001b[0m│\u001b[32m \u001b[0m\u001b[32m16 \u001b[0m\u001b[32m \u001b[0m│\u001b[32m \u001b[0m\u001b[32m17 \u001b[0m\u001b[32m \u001b[0m│\u001b[32m \u001b[0m\u001b[32m18 \u001b[0m\u001b[32m \u001b[0m│\u001b[32m \u001b[0m\u001b[32m19 \u001b[0m\u001b[32m \u001b[0m│\u001b[31m \u001b[0m\u001b[31m20 \u001b[0m\u001b[31m \u001b[0m│\u001b[31m \u001b[0m\u001b[31m21 \u001b[0m\u001b[31m \u001b[0m│\n",
              "├─────┼─────┼─────┼─────┼─────┼─────┼─────┤\n",
              "│\u001b[36m \u001b[0m\u001b[36m22 \u001b[0m\u001b[36m \u001b[0m│\u001b[32m \u001b[0m\u001b[32m23 \u001b[0m\u001b[32m \u001b[0m│\u001b[32m \u001b[0m\u001b[32m24 \u001b[0m\u001b[32m \u001b[0m│\u001b[32m \u001b[0m\u001b[32m25 \u001b[0m\u001b[32m \u001b[0m│\u001b[32m \u001b[0m\u001b[32m26 \u001b[0m\u001b[32m \u001b[0m│\u001b[31m \u001b[0m\u001b[31m27 \u001b[0m\u001b[31m \u001b[0m│\u001b[31m \u001b[0m\u001b[31m28 \u001b[0m\u001b[31m \u001b[0m│\n",
              "├─────┼─────┼─────┼─────┼─────┼─────┼─────┤\n",
              "│\u001b[36m \u001b[0m\u001b[36m29 \u001b[0m\u001b[36m \u001b[0m│\u001b[32m \u001b[0m\u001b[32m30 \u001b[0m\u001b[32m \u001b[0m│\u001b[32m \u001b[0m\u001b[32m   \u001b[0m\u001b[32m \u001b[0m│\u001b[32m \u001b[0m\u001b[32m   \u001b[0m\u001b[32m \u001b[0m│\u001b[32m \u001b[0m\u001b[32m   \u001b[0m\u001b[32m \u001b[0m│\u001b[31m \u001b[0m\u001b[31m   \u001b[0m\u001b[31m \u001b[0m│\u001b[31m \u001b[0m\u001b[31m   \u001b[0m\u001b[31m \u001b[0m│\n",
              "└─────┴─────┴─────┴─────┴─────┴─────┴─────┘\n"
            ],
            "text/html": [
              "<pre style=\"white-space:pre;overflow-x:auto;line-height:normal;font-family:Menlo,'DejaVu Sans Mono',consolas,'Courier New',monospace\"><span style=\"font-style: italic\">              </span><span style=\"color: #008080; text-decoration-color: #008080; font-weight: bold; font-style: italic\">September</span><span style=\"font-style: italic\"> 2025               </span>\n",
              "┏━━━━━┳━━━━━┳━━━━━┳━━━━━┳━━━━━┳━━━━━┳━━━━━┓\n",
              "┃<span style=\"font-weight: bold\"> Mon </span>┃<span style=\"font-weight: bold\"> Tue </span>┃<span style=\"font-weight: bold\"> Wed </span>┃<span style=\"font-weight: bold\"> Thu </span>┃<span style=\"font-weight: bold\"> Fri </span>┃<span style=\"font-weight: bold\"> Sat </span>┃<span style=\"font-weight: bold\"> Sun </span>┃\n",
              "┡━━━━━╇━━━━━╇━━━━━╇━━━━━╇━━━━━╇━━━━━╇━━━━━┩\n",
              "│<span style=\"color: #008080; text-decoration-color: #008080\">  1  </span>│<span style=\"color: #008000; text-decoration-color: #008000\">  2  </span>│<span style=\"color: #008000; text-decoration-color: #008000\">  3  </span>│<span style=\"color: #008000; text-decoration-color: #008000\">  4  </span>│<span style=\"color: #008000; text-decoration-color: #008000\">  5  </span>│<span style=\"color: #800000; text-decoration-color: #800000\">  6  </span>│<span style=\"color: #800000; text-decoration-color: #800000\">  7  </span>│\n",
              "├─────┼─────┼─────┼─────┼─────┼─────┼─────┤\n",
              "│<span style=\"color: #008080; text-decoration-color: #008080\">  8  </span>│<span style=\"color: #008000; text-decoration-color: #008000\">  9  </span>│<span style=\"color: #008000; text-decoration-color: #008000\"> 10  </span>│<span style=\"color: #008000; text-decoration-color: #008000\"> 11  </span>│<span style=\"color: #008000; text-decoration-color: #008000\"> 12  </span>│<span style=\"color: #800000; text-decoration-color: #800000\"> 13  </span>│<span style=\"color: #800000; text-decoration-color: #800000\"> 14  </span>│\n",
              "├─────┼─────┼─────┼─────┼─────┼─────┼─────┤\n",
              "│<span style=\"color: #008080; text-decoration-color: #008080\"> 15  </span>│<span style=\"color: #008000; text-decoration-color: #008000\"> 16  </span>│<span style=\"color: #008000; text-decoration-color: #008000\"> 17  </span>│<span style=\"color: #008000; text-decoration-color: #008000\"> 18  </span>│<span style=\"color: #008000; text-decoration-color: #008000\"> 19  </span>│<span style=\"color: #800000; text-decoration-color: #800000\"> 20  </span>│<span style=\"color: #800000; text-decoration-color: #800000\"> 21  </span>│\n",
              "├─────┼─────┼─────┼─────┼─────┼─────┼─────┤\n",
              "│<span style=\"color: #008080; text-decoration-color: #008080\"> 22  </span>│<span style=\"color: #008000; text-decoration-color: #008000\"> 23  </span>│<span style=\"color: #008000; text-decoration-color: #008000\"> 24  </span>│<span style=\"color: #008000; text-decoration-color: #008000\"> 25  </span>│<span style=\"color: #008000; text-decoration-color: #008000\"> 26  </span>│<span style=\"color: #800000; text-decoration-color: #800000\"> 27  </span>│<span style=\"color: #800000; text-decoration-color: #800000\"> 28  </span>│\n",
              "├─────┼─────┼─────┼─────┼─────┼─────┼─────┤\n",
              "│<span style=\"color: #008080; text-decoration-color: #008080\"> 29  </span>│<span style=\"color: #008000; text-decoration-color: #008000\"> 30  </span>│<span style=\"color: #008000; text-decoration-color: #008000\">     </span>│<span style=\"color: #008000; text-decoration-color: #008000\">     </span>│<span style=\"color: #008000; text-decoration-color: #008000\">     </span>│<span style=\"color: #800000; text-decoration-color: #800000\">     </span>│<span style=\"color: #800000; text-decoration-color: #800000\">     </span>│\n",
              "└─────┴─────┴─────┴─────┴─────┴─────┴─────┘\n",
              "</pre>\n"
            ]
          },
          "metadata": {}
        },
        {
          "output_type": "display_data",
          "data": {
            "text/plain": [
              "\n",
              "\n"
            ],
            "text/html": [
              "<pre style=\"white-space:pre;overflow-x:auto;line-height:normal;font-family:Menlo,'DejaVu Sans Mono',consolas,'Courier New',monospace\">\n",
              "\n",
              "</pre>\n"
            ]
          },
          "metadata": {}
        },
        {
          "output_type": "display_data",
          "data": {
            "text/plain": [
              "\u001b[3m               \u001b[0m\u001b[1;3;36mOctober\u001b[0m\u001b[3m 2025                \u001b[0m\n",
              "┏━━━━━┳━━━━━┳━━━━━┳━━━━━┳━━━━━┳━━━━━┳━━━━━┓\n",
              "┃\u001b[1m \u001b[0m\u001b[1mMon\u001b[0m\u001b[1m \u001b[0m┃\u001b[1m \u001b[0m\u001b[1mTue\u001b[0m\u001b[1m \u001b[0m┃\u001b[1m \u001b[0m\u001b[1mWed\u001b[0m\u001b[1m \u001b[0m┃\u001b[1m \u001b[0m\u001b[1mThu\u001b[0m\u001b[1m \u001b[0m┃\u001b[1m \u001b[0m\u001b[1mFri\u001b[0m\u001b[1m \u001b[0m┃\u001b[1m \u001b[0m\u001b[1mSat\u001b[0m\u001b[1m \u001b[0m┃\u001b[1m \u001b[0m\u001b[1mSun\u001b[0m\u001b[1m \u001b[0m┃\n",
              "┡━━━━━╇━━━━━╇━━━━━╇━━━━━╇━━━━━╇━━━━━╇━━━━━┩\n",
              "│\u001b[36m \u001b[0m\u001b[36m   \u001b[0m\u001b[36m \u001b[0m│\u001b[32m \u001b[0m\u001b[32m   \u001b[0m\u001b[32m \u001b[0m│\u001b[32m \u001b[0m\u001b[32m 1 \u001b[0m\u001b[32m \u001b[0m│\u001b[32m \u001b[0m\u001b[32m 2 \u001b[0m\u001b[32m \u001b[0m│\u001b[32m \u001b[0m\u001b[32m 3 \u001b[0m\u001b[32m \u001b[0m│\u001b[31m \u001b[0m\u001b[31m 4 \u001b[0m\u001b[31m \u001b[0m│\u001b[31m \u001b[0m\u001b[31m 5 \u001b[0m\u001b[31m \u001b[0m│\n",
              "├─────┼─────┼─────┼─────┼─────┼─────┼─────┤\n",
              "│\u001b[36m \u001b[0m\u001b[36m 6 \u001b[0m\u001b[36m \u001b[0m│\u001b[32m \u001b[0m\u001b[32m 7 \u001b[0m\u001b[32m \u001b[0m│\u001b[32m \u001b[0m\u001b[32m 8 \u001b[0m\u001b[32m \u001b[0m│\u001b[32m \u001b[0m\u001b[32m 9 \u001b[0m\u001b[32m \u001b[0m│\u001b[32m \u001b[0m\u001b[32m10 \u001b[0m\u001b[32m \u001b[0m│\u001b[31m \u001b[0m\u001b[31m11 \u001b[0m\u001b[31m \u001b[0m│\u001b[31m \u001b[0m\u001b[31m12 \u001b[0m\u001b[31m \u001b[0m│\n",
              "├─────┼─────┼─────┼─────┼─────┼─────┼─────┤\n",
              "│\u001b[36m \u001b[0m\u001b[36m13 \u001b[0m\u001b[36m \u001b[0m│\u001b[32m \u001b[0m\u001b[32m14 \u001b[0m\u001b[32m \u001b[0m│\u001b[32m \u001b[0m\u001b[32m15 \u001b[0m\u001b[32m \u001b[0m│\u001b[32m \u001b[0m\u001b[32m16 \u001b[0m\u001b[32m \u001b[0m│\u001b[32m \u001b[0m\u001b[32m17 \u001b[0m\u001b[32m \u001b[0m│\u001b[31m \u001b[0m\u001b[31m18 \u001b[0m\u001b[31m \u001b[0m│\u001b[31m \u001b[0m\u001b[31m19 \u001b[0m\u001b[31m \u001b[0m│\n",
              "├─────┼─────┼─────┼─────┼─────┼─────┼─────┤\n",
              "│\u001b[36m \u001b[0m\u001b[36m20 \u001b[0m\u001b[36m \u001b[0m│\u001b[32m \u001b[0m\u001b[32m21 \u001b[0m\u001b[32m \u001b[0m│\u001b[32m \u001b[0m\u001b[32m22 \u001b[0m\u001b[32m \u001b[0m│\u001b[32m \u001b[0m\u001b[32m23 \u001b[0m\u001b[32m \u001b[0m│\u001b[32m \u001b[0m\u001b[32m24 \u001b[0m\u001b[32m \u001b[0m│\u001b[31m \u001b[0m\u001b[31m25 \u001b[0m\u001b[31m \u001b[0m│\u001b[31m \u001b[0m\u001b[31m26 \u001b[0m\u001b[31m \u001b[0m│\n",
              "├─────┼─────┼─────┼─────┼─────┼─────┼─────┤\n",
              "│\u001b[36m \u001b[0m\u001b[36m27 \u001b[0m\u001b[36m \u001b[0m│\u001b[32m \u001b[0m\u001b[32m28 \u001b[0m\u001b[32m \u001b[0m│\u001b[32m \u001b[0m\u001b[32m29 \u001b[0m\u001b[32m \u001b[0m│\u001b[32m \u001b[0m\u001b[32m30 \u001b[0m\u001b[32m \u001b[0m│\u001b[32m \u001b[0m\u001b[32m31 \u001b[0m\u001b[32m \u001b[0m│\u001b[31m \u001b[0m\u001b[31m   \u001b[0m\u001b[31m \u001b[0m│\u001b[31m \u001b[0m\u001b[31m   \u001b[0m\u001b[31m \u001b[0m│\n",
              "└─────┴─────┴─────┴─────┴─────┴─────┴─────┘\n"
            ],
            "text/html": [
              "<pre style=\"white-space:pre;overflow-x:auto;line-height:normal;font-family:Menlo,'DejaVu Sans Mono',consolas,'Courier New',monospace\"><span style=\"font-style: italic\">               </span><span style=\"color: #008080; text-decoration-color: #008080; font-weight: bold; font-style: italic\">October</span><span style=\"font-style: italic\"> 2025                </span>\n",
              "┏━━━━━┳━━━━━┳━━━━━┳━━━━━┳━━━━━┳━━━━━┳━━━━━┓\n",
              "┃<span style=\"font-weight: bold\"> Mon </span>┃<span style=\"font-weight: bold\"> Tue </span>┃<span style=\"font-weight: bold\"> Wed </span>┃<span style=\"font-weight: bold\"> Thu </span>┃<span style=\"font-weight: bold\"> Fri </span>┃<span style=\"font-weight: bold\"> Sat </span>┃<span style=\"font-weight: bold\"> Sun </span>┃\n",
              "┡━━━━━╇━━━━━╇━━━━━╇━━━━━╇━━━━━╇━━━━━╇━━━━━┩\n",
              "│<span style=\"color: #008080; text-decoration-color: #008080\">     </span>│<span style=\"color: #008000; text-decoration-color: #008000\">     </span>│<span style=\"color: #008000; text-decoration-color: #008000\">  1  </span>│<span style=\"color: #008000; text-decoration-color: #008000\">  2  </span>│<span style=\"color: #008000; text-decoration-color: #008000\">  3  </span>│<span style=\"color: #800000; text-decoration-color: #800000\">  4  </span>│<span style=\"color: #800000; text-decoration-color: #800000\">  5  </span>│\n",
              "├─────┼─────┼─────┼─────┼─────┼─────┼─────┤\n",
              "│<span style=\"color: #008080; text-decoration-color: #008080\">  6  </span>│<span style=\"color: #008000; text-decoration-color: #008000\">  7  </span>│<span style=\"color: #008000; text-decoration-color: #008000\">  8  </span>│<span style=\"color: #008000; text-decoration-color: #008000\">  9  </span>│<span style=\"color: #008000; text-decoration-color: #008000\"> 10  </span>│<span style=\"color: #800000; text-decoration-color: #800000\"> 11  </span>│<span style=\"color: #800000; text-decoration-color: #800000\"> 12  </span>│\n",
              "├─────┼─────┼─────┼─────┼─────┼─────┼─────┤\n",
              "│<span style=\"color: #008080; text-decoration-color: #008080\"> 13  </span>│<span style=\"color: #008000; text-decoration-color: #008000\"> 14  </span>│<span style=\"color: #008000; text-decoration-color: #008000\"> 15  </span>│<span style=\"color: #008000; text-decoration-color: #008000\"> 16  </span>│<span style=\"color: #008000; text-decoration-color: #008000\"> 17  </span>│<span style=\"color: #800000; text-decoration-color: #800000\"> 18  </span>│<span style=\"color: #800000; text-decoration-color: #800000\"> 19  </span>│\n",
              "├─────┼─────┼─────┼─────┼─────┼─────┼─────┤\n",
              "│<span style=\"color: #008080; text-decoration-color: #008080\"> 20  </span>│<span style=\"color: #008000; text-decoration-color: #008000\"> 21  </span>│<span style=\"color: #008000; text-decoration-color: #008000\"> 22  </span>│<span style=\"color: #008000; text-decoration-color: #008000\"> 23  </span>│<span style=\"color: #008000; text-decoration-color: #008000\"> 24  </span>│<span style=\"color: #800000; text-decoration-color: #800000\"> 25  </span>│<span style=\"color: #800000; text-decoration-color: #800000\"> 26  </span>│\n",
              "├─────┼─────┼─────┼─────┼─────┼─────┼─────┤\n",
              "│<span style=\"color: #008080; text-decoration-color: #008080\"> 27  </span>│<span style=\"color: #008000; text-decoration-color: #008000\"> 28  </span>│<span style=\"color: #008000; text-decoration-color: #008000\"> 29  </span>│<span style=\"color: #008000; text-decoration-color: #008000\"> 30  </span>│<span style=\"color: #008000; text-decoration-color: #008000\"> 31  </span>│<span style=\"color: #800000; text-decoration-color: #800000\">     </span>│<span style=\"color: #800000; text-decoration-color: #800000\">     </span>│\n",
              "└─────┴─────┴─────┴─────┴─────┴─────┴─────┘\n",
              "</pre>\n"
            ]
          },
          "metadata": {}
        },
        {
          "output_type": "display_data",
          "data": {
            "text/plain": [
              "\n",
              "\n"
            ],
            "text/html": [
              "<pre style=\"white-space:pre;overflow-x:auto;line-height:normal;font-family:Menlo,'DejaVu Sans Mono',consolas,'Courier New',monospace\">\n",
              "\n",
              "</pre>\n"
            ]
          },
          "metadata": {}
        },
        {
          "output_type": "display_data",
          "data": {
            "text/plain": [
              "\u001b[3m               \u001b[0m\u001b[1;3;36mNovember\u001b[0m\u001b[3m 2025               \u001b[0m\n",
              "┏━━━━━┳━━━━━┳━━━━━┳━━━━━┳━━━━━┳━━━━━┳━━━━━┓\n",
              "┃\u001b[1m \u001b[0m\u001b[1mMon\u001b[0m\u001b[1m \u001b[0m┃\u001b[1m \u001b[0m\u001b[1mTue\u001b[0m\u001b[1m \u001b[0m┃\u001b[1m \u001b[0m\u001b[1mWed\u001b[0m\u001b[1m \u001b[0m┃\u001b[1m \u001b[0m\u001b[1mThu\u001b[0m\u001b[1m \u001b[0m┃\u001b[1m \u001b[0m\u001b[1mFri\u001b[0m\u001b[1m \u001b[0m┃\u001b[1m \u001b[0m\u001b[1mSat\u001b[0m\u001b[1m \u001b[0m┃\u001b[1m \u001b[0m\u001b[1mSun\u001b[0m\u001b[1m \u001b[0m┃\n",
              "┡━━━━━╇━━━━━╇━━━━━╇━━━━━╇━━━━━╇━━━━━╇━━━━━┩\n",
              "│\u001b[36m \u001b[0m\u001b[36m   \u001b[0m\u001b[36m \u001b[0m│\u001b[32m \u001b[0m\u001b[32m   \u001b[0m\u001b[32m \u001b[0m│\u001b[32m \u001b[0m\u001b[32m   \u001b[0m\u001b[32m \u001b[0m│\u001b[32m \u001b[0m\u001b[32m   \u001b[0m\u001b[32m \u001b[0m│\u001b[32m \u001b[0m\u001b[32m   \u001b[0m\u001b[32m \u001b[0m│\u001b[31m \u001b[0m\u001b[31m 1 \u001b[0m\u001b[31m \u001b[0m│\u001b[31m \u001b[0m\u001b[31m 2 \u001b[0m\u001b[31m \u001b[0m│\n",
              "├─────┼─────┼─────┼─────┼─────┼─────┼─────┤\n",
              "│\u001b[36m \u001b[0m\u001b[36m 3 \u001b[0m\u001b[36m \u001b[0m│\u001b[32m \u001b[0m\u001b[32m 4 \u001b[0m\u001b[32m \u001b[0m│\u001b[32m \u001b[0m\u001b[32m 5 \u001b[0m\u001b[32m \u001b[0m│\u001b[32m \u001b[0m\u001b[32m 6 \u001b[0m\u001b[32m \u001b[0m│\u001b[32m \u001b[0m\u001b[32m 7 \u001b[0m\u001b[32m \u001b[0m│\u001b[31m \u001b[0m\u001b[31m 8 \u001b[0m\u001b[31m \u001b[0m│\u001b[31m \u001b[0m\u001b[31m 9 \u001b[0m\u001b[31m \u001b[0m│\n",
              "├─────┼─────┼─────┼─────┼─────┼─────┼─────┤\n",
              "│\u001b[36m \u001b[0m\u001b[36m10 \u001b[0m\u001b[36m \u001b[0m│\u001b[32m \u001b[0m\u001b[32m11 \u001b[0m\u001b[32m \u001b[0m│\u001b[32m \u001b[0m\u001b[32m12 \u001b[0m\u001b[32m \u001b[0m│\u001b[32m \u001b[0m\u001b[32m13 \u001b[0m\u001b[32m \u001b[0m│\u001b[32m \u001b[0m\u001b[32m14 \u001b[0m\u001b[32m \u001b[0m│\u001b[31m \u001b[0m\u001b[31m15 \u001b[0m\u001b[31m \u001b[0m│\u001b[31m \u001b[0m\u001b[31m16 \u001b[0m\u001b[31m \u001b[0m│\n",
              "├─────┼─────┼─────┼─────┼─────┼─────┼─────┤\n",
              "│\u001b[36m \u001b[0m\u001b[36m17 \u001b[0m\u001b[36m \u001b[0m│\u001b[32m \u001b[0m\u001b[32m18 \u001b[0m\u001b[32m \u001b[0m│\u001b[32m \u001b[0m\u001b[32m19 \u001b[0m\u001b[32m \u001b[0m│\u001b[32m \u001b[0m\u001b[32m20 \u001b[0m\u001b[32m \u001b[0m│\u001b[32m \u001b[0m\u001b[32m21 \u001b[0m\u001b[32m \u001b[0m│\u001b[31m \u001b[0m\u001b[31m22 \u001b[0m\u001b[31m \u001b[0m│\u001b[31m \u001b[0m\u001b[31m23 \u001b[0m\u001b[31m \u001b[0m│\n",
              "├─────┼─────┼─────┼─────┼─────┼─────┼─────┤\n",
              "│\u001b[36m \u001b[0m\u001b[36m24 \u001b[0m\u001b[36m \u001b[0m│\u001b[32m \u001b[0m\u001b[32m25 \u001b[0m\u001b[32m \u001b[0m│\u001b[32m \u001b[0m\u001b[32m26 \u001b[0m\u001b[32m \u001b[0m│\u001b[32m \u001b[0m\u001b[32m27 \u001b[0m\u001b[32m \u001b[0m│\u001b[32m \u001b[0m\u001b[32m28 \u001b[0m\u001b[32m \u001b[0m│\u001b[31m \u001b[0m\u001b[31m29 \u001b[0m\u001b[31m \u001b[0m│\u001b[31m \u001b[0m\u001b[31m30 \u001b[0m\u001b[31m \u001b[0m│\n",
              "└─────┴─────┴─────┴─────┴─────┴─────┴─────┘\n"
            ],
            "text/html": [
              "<pre style=\"white-space:pre;overflow-x:auto;line-height:normal;font-family:Menlo,'DejaVu Sans Mono',consolas,'Courier New',monospace\"><span style=\"font-style: italic\">               </span><span style=\"color: #008080; text-decoration-color: #008080; font-weight: bold; font-style: italic\">November</span><span style=\"font-style: italic\"> 2025               </span>\n",
              "┏━━━━━┳━━━━━┳━━━━━┳━━━━━┳━━━━━┳━━━━━┳━━━━━┓\n",
              "┃<span style=\"font-weight: bold\"> Mon </span>┃<span style=\"font-weight: bold\"> Tue </span>┃<span style=\"font-weight: bold\"> Wed </span>┃<span style=\"font-weight: bold\"> Thu </span>┃<span style=\"font-weight: bold\"> Fri </span>┃<span style=\"font-weight: bold\"> Sat </span>┃<span style=\"font-weight: bold\"> Sun </span>┃\n",
              "┡━━━━━╇━━━━━╇━━━━━╇━━━━━╇━━━━━╇━━━━━╇━━━━━┩\n",
              "│<span style=\"color: #008080; text-decoration-color: #008080\">     </span>│<span style=\"color: #008000; text-decoration-color: #008000\">     </span>│<span style=\"color: #008000; text-decoration-color: #008000\">     </span>│<span style=\"color: #008000; text-decoration-color: #008000\">     </span>│<span style=\"color: #008000; text-decoration-color: #008000\">     </span>│<span style=\"color: #800000; text-decoration-color: #800000\">  1  </span>│<span style=\"color: #800000; text-decoration-color: #800000\">  2  </span>│\n",
              "├─────┼─────┼─────┼─────┼─────┼─────┼─────┤\n",
              "│<span style=\"color: #008080; text-decoration-color: #008080\">  3  </span>│<span style=\"color: #008000; text-decoration-color: #008000\">  4  </span>│<span style=\"color: #008000; text-decoration-color: #008000\">  5  </span>│<span style=\"color: #008000; text-decoration-color: #008000\">  6  </span>│<span style=\"color: #008000; text-decoration-color: #008000\">  7  </span>│<span style=\"color: #800000; text-decoration-color: #800000\">  8  </span>│<span style=\"color: #800000; text-decoration-color: #800000\">  9  </span>│\n",
              "├─────┼─────┼─────┼─────┼─────┼─────┼─────┤\n",
              "│<span style=\"color: #008080; text-decoration-color: #008080\"> 10  </span>│<span style=\"color: #008000; text-decoration-color: #008000\"> 11  </span>│<span style=\"color: #008000; text-decoration-color: #008000\"> 12  </span>│<span style=\"color: #008000; text-decoration-color: #008000\"> 13  </span>│<span style=\"color: #008000; text-decoration-color: #008000\"> 14  </span>│<span style=\"color: #800000; text-decoration-color: #800000\"> 15  </span>│<span style=\"color: #800000; text-decoration-color: #800000\"> 16  </span>│\n",
              "├─────┼─────┼─────┼─────┼─────┼─────┼─────┤\n",
              "│<span style=\"color: #008080; text-decoration-color: #008080\"> 17  </span>│<span style=\"color: #008000; text-decoration-color: #008000\"> 18  </span>│<span style=\"color: #008000; text-decoration-color: #008000\"> 19  </span>│<span style=\"color: #008000; text-decoration-color: #008000\"> 20  </span>│<span style=\"color: #008000; text-decoration-color: #008000\"> 21  </span>│<span style=\"color: #800000; text-decoration-color: #800000\"> 22  </span>│<span style=\"color: #800000; text-decoration-color: #800000\"> 23  </span>│\n",
              "├─────┼─────┼─────┼─────┼─────┼─────┼─────┤\n",
              "│<span style=\"color: #008080; text-decoration-color: #008080\"> 24  </span>│<span style=\"color: #008000; text-decoration-color: #008000\"> 25  </span>│<span style=\"color: #008000; text-decoration-color: #008000\"> 26  </span>│<span style=\"color: #008000; text-decoration-color: #008000\"> 27  </span>│<span style=\"color: #008000; text-decoration-color: #008000\"> 28  </span>│<span style=\"color: #800000; text-decoration-color: #800000\"> 29  </span>│<span style=\"color: #800000; text-decoration-color: #800000\"> 30  </span>│\n",
              "└─────┴─────┴─────┴─────┴─────┴─────┴─────┘\n",
              "</pre>\n"
            ]
          },
          "metadata": {}
        },
        {
          "output_type": "display_data",
          "data": {
            "text/plain": [
              "\n",
              "\n"
            ],
            "text/html": [
              "<pre style=\"white-space:pre;overflow-x:auto;line-height:normal;font-family:Menlo,'DejaVu Sans Mono',consolas,'Courier New',monospace\">\n",
              "\n",
              "</pre>\n"
            ]
          },
          "metadata": {}
        },
        {
          "output_type": "display_data",
          "data": {
            "text/plain": [
              "\u001b[3m               \u001b[0m\u001b[1;3;36mDecember\u001b[0m\u001b[3m 2025               \u001b[0m\n",
              "┏━━━━━┳━━━━━┳━━━━━┳━━━━━┳━━━━━┳━━━━━┳━━━━━┓\n",
              "┃\u001b[1m \u001b[0m\u001b[1mMon\u001b[0m\u001b[1m \u001b[0m┃\u001b[1m \u001b[0m\u001b[1mTue\u001b[0m\u001b[1m \u001b[0m┃\u001b[1m \u001b[0m\u001b[1mWed\u001b[0m\u001b[1m \u001b[0m┃\u001b[1m \u001b[0m\u001b[1mThu\u001b[0m\u001b[1m \u001b[0m┃\u001b[1m \u001b[0m\u001b[1mFri\u001b[0m\u001b[1m \u001b[0m┃\u001b[1m \u001b[0m\u001b[1mSat\u001b[0m\u001b[1m \u001b[0m┃\u001b[1m \u001b[0m\u001b[1mSun\u001b[0m\u001b[1m \u001b[0m┃\n",
              "┡━━━━━╇━━━━━╇━━━━━╇━━━━━╇━━━━━╇━━━━━╇━━━━━┩\n",
              "│\u001b[36m \u001b[0m\u001b[36m 1 \u001b[0m\u001b[36m \u001b[0m│\u001b[32m \u001b[0m\u001b[32m 2 \u001b[0m\u001b[32m \u001b[0m│\u001b[32m \u001b[0m\u001b[32m 3 \u001b[0m\u001b[32m \u001b[0m│\u001b[32m \u001b[0m\u001b[32m 4 \u001b[0m\u001b[32m \u001b[0m│\u001b[32m \u001b[0m\u001b[32m 5 \u001b[0m\u001b[32m \u001b[0m│\u001b[31m \u001b[0m\u001b[31m 6 \u001b[0m\u001b[31m \u001b[0m│\u001b[31m \u001b[0m\u001b[31m 7 \u001b[0m\u001b[31m \u001b[0m│\n",
              "├─────┼─────┼─────┼─────┼─────┼─────┼─────┤\n",
              "│\u001b[36m \u001b[0m\u001b[36m 8 \u001b[0m\u001b[36m \u001b[0m│\u001b[32m \u001b[0m\u001b[32m 9 \u001b[0m\u001b[32m \u001b[0m│\u001b[32m \u001b[0m\u001b[32m10 \u001b[0m\u001b[32m \u001b[0m│\u001b[32m \u001b[0m\u001b[32m11 \u001b[0m\u001b[32m \u001b[0m│\u001b[32m \u001b[0m\u001b[32m12 \u001b[0m\u001b[32m \u001b[0m│\u001b[31m \u001b[0m\u001b[31m13 \u001b[0m\u001b[31m \u001b[0m│\u001b[31m \u001b[0m\u001b[31m14 \u001b[0m\u001b[31m \u001b[0m│\n",
              "├─────┼─────┼─────┼─────┼─────┼─────┼─────┤\n",
              "│\u001b[36m \u001b[0m\u001b[36m15 \u001b[0m\u001b[36m \u001b[0m│\u001b[32m \u001b[0m\u001b[32m16 \u001b[0m\u001b[32m \u001b[0m│\u001b[32m \u001b[0m\u001b[32m17 \u001b[0m\u001b[32m \u001b[0m│\u001b[32m \u001b[0m\u001b[32m18 \u001b[0m\u001b[32m \u001b[0m│\u001b[32m \u001b[0m\u001b[32m19 \u001b[0m\u001b[32m \u001b[0m│\u001b[31m \u001b[0m\u001b[31m20 \u001b[0m\u001b[31m \u001b[0m│\u001b[31m \u001b[0m\u001b[31m21 \u001b[0m\u001b[31m \u001b[0m│\n",
              "├─────┼─────┼─────┼─────┼─────┼─────┼─────┤\n",
              "│\u001b[36m \u001b[0m\u001b[36m22 \u001b[0m\u001b[36m \u001b[0m│\u001b[32m \u001b[0m\u001b[32m23 \u001b[0m\u001b[32m \u001b[0m│\u001b[32m \u001b[0m\u001b[32m24 \u001b[0m\u001b[32m \u001b[0m│\u001b[32m \u001b[0m\u001b[32m25 \u001b[0m\u001b[32m \u001b[0m│\u001b[32m \u001b[0m\u001b[32m26 \u001b[0m\u001b[32m \u001b[0m│\u001b[31m \u001b[0m\u001b[31m27 \u001b[0m\u001b[31m \u001b[0m│\u001b[31m \u001b[0m\u001b[31m28 \u001b[0m\u001b[31m \u001b[0m│\n",
              "├─────┼─────┼─────┼─────┼─────┼─────┼─────┤\n",
              "│\u001b[36m \u001b[0m\u001b[36m29 \u001b[0m\u001b[36m \u001b[0m│\u001b[32m \u001b[0m\u001b[32m30 \u001b[0m\u001b[32m \u001b[0m│\u001b[32m \u001b[0m\u001b[32m31 \u001b[0m\u001b[32m \u001b[0m│\u001b[32m \u001b[0m\u001b[32m   \u001b[0m\u001b[32m \u001b[0m│\u001b[32m \u001b[0m\u001b[32m   \u001b[0m\u001b[32m \u001b[0m│\u001b[31m \u001b[0m\u001b[31m   \u001b[0m\u001b[31m \u001b[0m│\u001b[31m \u001b[0m\u001b[31m   \u001b[0m\u001b[31m \u001b[0m│\n",
              "└─────┴─────┴─────┴─────┴─────┴─────┴─────┘\n"
            ],
            "text/html": [
              "<pre style=\"white-space:pre;overflow-x:auto;line-height:normal;font-family:Menlo,'DejaVu Sans Mono',consolas,'Courier New',monospace\"><span style=\"font-style: italic\">               </span><span style=\"color: #008080; text-decoration-color: #008080; font-weight: bold; font-style: italic\">December</span><span style=\"font-style: italic\"> 2025               </span>\n",
              "┏━━━━━┳━━━━━┳━━━━━┳━━━━━┳━━━━━┳━━━━━┳━━━━━┓\n",
              "┃<span style=\"font-weight: bold\"> Mon </span>┃<span style=\"font-weight: bold\"> Tue </span>┃<span style=\"font-weight: bold\"> Wed </span>┃<span style=\"font-weight: bold\"> Thu </span>┃<span style=\"font-weight: bold\"> Fri </span>┃<span style=\"font-weight: bold\"> Sat </span>┃<span style=\"font-weight: bold\"> Sun </span>┃\n",
              "┡━━━━━╇━━━━━╇━━━━━╇━━━━━╇━━━━━╇━━━━━╇━━━━━┩\n",
              "│<span style=\"color: #008080; text-decoration-color: #008080\">  1  </span>│<span style=\"color: #008000; text-decoration-color: #008000\">  2  </span>│<span style=\"color: #008000; text-decoration-color: #008000\">  3  </span>│<span style=\"color: #008000; text-decoration-color: #008000\">  4  </span>│<span style=\"color: #008000; text-decoration-color: #008000\">  5  </span>│<span style=\"color: #800000; text-decoration-color: #800000\">  6  </span>│<span style=\"color: #800000; text-decoration-color: #800000\">  7  </span>│\n",
              "├─────┼─────┼─────┼─────┼─────┼─────┼─────┤\n",
              "│<span style=\"color: #008080; text-decoration-color: #008080\">  8  </span>│<span style=\"color: #008000; text-decoration-color: #008000\">  9  </span>│<span style=\"color: #008000; text-decoration-color: #008000\"> 10  </span>│<span style=\"color: #008000; text-decoration-color: #008000\"> 11  </span>│<span style=\"color: #008000; text-decoration-color: #008000\"> 12  </span>│<span style=\"color: #800000; text-decoration-color: #800000\"> 13  </span>│<span style=\"color: #800000; text-decoration-color: #800000\"> 14  </span>│\n",
              "├─────┼─────┼─────┼─────┼─────┼─────┼─────┤\n",
              "│<span style=\"color: #008080; text-decoration-color: #008080\"> 15  </span>│<span style=\"color: #008000; text-decoration-color: #008000\"> 16  </span>│<span style=\"color: #008000; text-decoration-color: #008000\"> 17  </span>│<span style=\"color: #008000; text-decoration-color: #008000\"> 18  </span>│<span style=\"color: #008000; text-decoration-color: #008000\"> 19  </span>│<span style=\"color: #800000; text-decoration-color: #800000\"> 20  </span>│<span style=\"color: #800000; text-decoration-color: #800000\"> 21  </span>│\n",
              "├─────┼─────┼─────┼─────┼─────┼─────┼─────┤\n",
              "│<span style=\"color: #008080; text-decoration-color: #008080\"> 22  </span>│<span style=\"color: #008000; text-decoration-color: #008000\"> 23  </span>│<span style=\"color: #008000; text-decoration-color: #008000\"> 24  </span>│<span style=\"color: #008000; text-decoration-color: #008000\"> 25  </span>│<span style=\"color: #008000; text-decoration-color: #008000\"> 26  </span>│<span style=\"color: #800000; text-decoration-color: #800000\"> 27  </span>│<span style=\"color: #800000; text-decoration-color: #800000\"> 28  </span>│\n",
              "├─────┼─────┼─────┼─────┼─────┼─────┼─────┤\n",
              "│<span style=\"color: #008080; text-decoration-color: #008080\"> 29  </span>│<span style=\"color: #008000; text-decoration-color: #008000\"> 30  </span>│<span style=\"color: #008000; text-decoration-color: #008000\"> 31  </span>│<span style=\"color: #008000; text-decoration-color: #008000\">     </span>│<span style=\"color: #008000; text-decoration-color: #008000\">     </span>│<span style=\"color: #800000; text-decoration-color: #800000\">     </span>│<span style=\"color: #800000; text-decoration-color: #800000\">     </span>│\n",
              "└─────┴─────┴─────┴─────┴─────┴─────┴─────┘\n",
              "</pre>\n"
            ]
          },
          "metadata": {}
        },
        {
          "output_type": "display_data",
          "data": {
            "text/plain": [
              "\n",
              "\n"
            ],
            "text/html": [
              "<pre style=\"white-space:pre;overflow-x:auto;line-height:normal;font-family:Menlo,'DejaVu Sans Mono',consolas,'Courier New',monospace\">\n",
              "\n",
              "</pre>\n"
            ]
          },
          "metadata": {}
        }
      ]
    }
  ]
}