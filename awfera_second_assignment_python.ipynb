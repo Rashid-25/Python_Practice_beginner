{
  "nbformat": 4,
  "nbformat_minor": 0,
  "metadata": {
    "colab": {
      "provenance": [],
      "authorship_tag": "ABX9TyOygf4KbI2XT5B4R9OwmruI",
      "include_colab_link": true
    },
    "kernelspec": {
      "name": "python3",
      "display_name": "Python 3"
    },
    "language_info": {
      "name": "python"
    }
  },
  "cells": [
    {
      "cell_type": "markdown",
      "metadata": {
        "id": "view-in-github",
        "colab_type": "text"
      },
      "source": [
        "<a href=\"https://colab.research.google.com/github/Rashid-25/Python_Practice_beginner/blob/main/awfera_second_assignment_python.ipynb\" target=\"_parent\"><img src=\"https://colab.research.google.com/assets/colab-badge.svg\" alt=\"Open In Colab\"/></a>"
      ]
    },
    {
      "cell_type": "markdown",
      "source": [
        "# Assignment 02\n",
        "## Variables and Data Types"
      ],
      "metadata": {
        "id": "DwYdO-k4lNqS"
      }
    },
    {
      "cell_type": "markdown",
      "source": [
        "# Question No. 01"
      ],
      "metadata": {
        "id": "UVEl1PAJCcKp"
      }
    },
    {
      "cell_type": "markdown",
      "source": [
        "Problem: Write a Python program that:\n",
        "1. Accepts a string, an integer, a float, and a boolean from the user.\n",
        "2. Initializes variables for each type, and prints them out.\n",
        "3. Convert the string to uppercase and print it.\n",
        "4. Check if the integer is even or odd and print the result.\n",
        "5. Multiply the float by 2 and print the result."
      ],
      "metadata": {
        "id": "lCXp27xplVpW"
      }
    },
    {
      "cell_type": "markdown",
      "source": [
        "## My practice"
      ],
      "metadata": {
        "id": "t4GvnRsACmNq"
      }
    },
    {
      "cell_type": "code",
      "source": [
        "string_input = input(\"Enter a string: \")\n",
        "integer_input = int(input(\"Enter an integer number: \"))\n",
        "float_input = float(input(\" Enter a float number: \"))\n",
        "boolean_input = bool(input(\"Enter a boolean value: \"))\n",
        "\n",
        "print(\"String: \", string_input)\n",
        "print(\"Integer: \", integer_input)\n",
        "print(\"Float: \", float_input)\n",
        "print(\"Boolean: \", boolean_input)\n",
        "\n",
        "string_upper = string_input.upper()\n",
        "print(string_upper)\n",
        "\n",
        "if integer_input % 2 == 0:\n",
        "    print(\"The number is Even\")\n",
        "else:\n",
        "    print(\"The number is Odd\")\n",
        "\n",
        "result = float_input * 2\n",
        "print(\"Multiplication of float input by 2 is: \", result)"
      ],
      "metadata": {
        "id": "yvgTAQ_DpUNj"
      },
      "execution_count": null,
      "outputs": []
    },
    {
      "cell_type": "markdown",
      "source": [
        "After chatgpt"
      ],
      "metadata": {
        "id": "SEN4dd98Dy22"
      }
    },
    {
      "cell_type": "code",
      "source": [
        "# Accepting user input for different data types\n",
        "string_input = input(\"Enter a string: \")\n",
        "integer_input = int(input(\"Enter an integer number: \"))\n",
        "float_input = float(input(\"Enter a float number: \"))\n",
        "\n",
        "# Converting user input to a boolean (only \"true\" as input is considered True)\n",
        "boolean_input = input(\"Enter a boolean value (True/False): \").strip().lower() == \"true\"\n",
        "\n",
        "# Printing user inputs\n",
        "print(\"\\n--- User Inputs ---\")\n",
        "print(\"String:\", string_input)\n",
        "print(\"Integer:\", integer_input)\n",
        "print(\"Float:\", float_input)\n",
        "print(\"Boolean:\", boolean_input)\n",
        "\n",
        "# Converting string to uppercase and printing\n",
        "string_upper = string_input.upper()\n",
        "print(\"\\nString in Uppercase:\", string_upper)\n",
        "\n",
        "# Checking if the integer is even or odd\n",
        "if integer_input % 2 == 0:\n",
        "    print(\"\\nThe integer is Even\")\n",
        "else:\n",
        "    print(\"\\nThe integer is Odd\")\n",
        "\n",
        "# Multiplying the float by 2\n",
        "result = float_input * 2\n",
        "print(\"\\nMultiplication of float input by 2:\", result)"
      ],
      "metadata": {
        "id": "jOLf4d7qFyzL"
      },
      "execution_count": null,
      "outputs": []
    },
    {
      "cell_type": "markdown",
      "source": [
        "\n",
        "# Question No. 02\n",
        "Problem: Write a Python program that:\n",
        "1. Accepts two numbers as input from the user.\n",
        "2. Performs and prints the result of all the arithmetic operations (addition,\n",
        "subtraction, multiplication, division, modulus, flow division) between these two numbers.\n",
        "3. Use comparison operators to check if the first number is greater than the\n",
        "second, and if they are equal.\n",
        "4. Use logical operators to combine two conditions (e.g., the first number is\n",
        "greater than the second, and the second number is less than 10)."
      ],
      "metadata": {
        "id": "6pxCketmHEsq"
      }
    },
    {
      "cell_type": "markdown",
      "source": [
        "# My Practice"
      ],
      "metadata": {
        "id": "XTjaDYZt-fQ_"
      }
    },
    {
      "cell_type": "code",
      "source": [
        "# Taking two numbers as input from the user\n",
        "num1 = float(input(\"Enter the first number: \"))\n",
        "num2 = float(input(\"Enter the second number: \"))\n",
        "\n",
        "# Performing arithmetic operations\n",
        "addition = num1 + num2\n",
        "subtraction = num1 - num2\n",
        "multiplication = num1 * num2\n",
        "division = num1 / num2 if num2 != 0 else \"Undefined (Cannot divide by zero)\"\n",
        "modulus = num1 % num2 if num2 != 0 else \"Undefined (Cannot calculate modulus with zero)\"\n",
        "flow_division = num1// num2 if num2 != 0 else \"Undefined (Cannot calculate flow division by zero)\"\n",
        "\n",
        "# Displaying results\n",
        "print(\"\\n--- Arithmetic Operations ---\")\n",
        "print(f\"Addition: {num1} + {num2} = {addition}\")\n",
        "print(f\"Subtraction: {num1} - {num2} = {subtraction}\")\n",
        "print(f\"Multiplication: {num1} * {num2} = {multiplication}\")\n",
        "print(f\"Division: {num1} / {num2} = {division}\")\n",
        "print(f\"Modulus: {num1} % {num2} = {modulus}\")\n",
        "print(f\"Flow Division: {num1} // {num2} = {flow_division}\")\n",
        "\n",
        "# Using comparison operators to check the conditions\n",
        "if num1 > num2:\n",
        "    print(\"First number is greater than the second number\")\n",
        "if num1 == num2:\n",
        "    print(\"Both numbers are equal\")\n",
        "\n",
        "# Using logical operators to check the conditions\n",
        "if num1 > num2 and num2 < 10:\n",
        "    print(\"conditions fulfilled\")"
      ],
      "metadata": {
        "id": "0QK54e8t4x74"
      },
      "execution_count": null,
      "outputs": []
    },
    {
      "cell_type": "markdown",
      "source": [
        "# After chatgpt"
      ],
      "metadata": {
        "id": "pErBVDwC-qvq"
      }
    },
    {
      "cell_type": "code",
      "source": [
        "\n",
        "# Taking two numbers as input from the user\n",
        "num1 = float(input(\"Enter the first number: \"))\n",
        "num2 = float(input(\"Enter the second number: \"))\n",
        "\n",
        "# Performing arithmetic operations\n",
        "addition = num1 + num2\n",
        "subtraction = num1 - num2\n",
        "multiplication = num1 * num2\n",
        "division = num1 / num2 if num2 != 0 else \"Undefined (Cannot divide by zero)\"\n",
        "modulus = num1 % num2 if num2 != 0 else \"Undefined (Cannot calculate modulus with zero)\"\n",
        "floor_division = num1 // num2 if num2 != 0 else \"Undefined (Cannot calculate floor division by zero)\"\n",
        "\n",
        "# Displaying arithmetic operation results\n",
        "print(\"\\n--- Arithmetic Operations ---\")\n",
        "print(f\"Addition: {num1} + {num2} = {addition}\")\n",
        "print(f\"Subtraction: {num1} - {num2} = {subtraction}\")\n",
        "print(f\"Multiplication: {num1} * {num2} = {multiplication}\")\n",
        "print(f\"Division: {num1} / {num2} = {division}\")\n",
        "print(f\"Modulus: {num1} % {num2} = {modulus}\")\n",
        "print(f\"Floor Division: {num1} // {num2} = {floor_division}\")\n",
        "\n",
        "# Using comparison operators to check conditions\n",
        "print(\"\\n--- Comparison Results ---\")\n",
        "if num1 > num2:\n",
        "    print(\"The first number is greater than the second number\")\n",
        "elif num1 == num2:\n",
        "    print(\"Both numbers are equal\")\n",
        "else:\n",
        "    print(\"The second number is greater than the first number\")\n",
        "\n",
        "# Using logical operators to check combined conditions\n",
        "print(\"\\n--- Logical Operation Result ---\")\n",
        "if num1 > num2 and num2 < 10:\n",
        "    print(\"Both conditions are fulfilled: First number is greater, and second number is less than 10\")\n",
        "else:\n",
        "    print(\"Conditions not met\")"
      ],
      "metadata": {
        "id": "5vgrzpANAGT0"
      },
      "execution_count": null,
      "outputs": []
    },
    {
      "cell_type": "markdown",
      "source": [
        "# Question No. 03"
      ],
      "metadata": {
        "id": "Y9ztt6eNVjG-"
      }
    },
    {
      "cell_type": "markdown",
      "source": [
        "Loops\n",
        "Problem: Write a Python program that:\n",
        "1. Accepts a list of integers from the user.\n",
        "2. Loops through the list and prints out each number.\n",
        "3. If a number is greater than 10, skip it using the continue statement.\n",
        "4. Stop the loop if the number is 20 using the break statement.\n",
        "5. After the loop ends, print a message that the loop ended naturally."
      ],
      "metadata": {
        "id": "RknTws8uVrmf"
      }
    },
    {
      "cell_type": "markdown",
      "source": [
        "# My practice"
      ],
      "metadata": {
        "id": "ryJW6_7SVwiS"
      }
    },
    {
      "cell_type": "code",
      "source": [
        "numbers_list = list(map(int, input(\"Enter a list of numbers separated by space: \").split()))\n",
        "\n",
        "for i in numbers_list:\n",
        "    print(i)\n",
        "    if i > 10:\n",
        "     continue\n",
        "    if i == 20:\n",
        "      break\n",
        "\n",
        "print(\"The loop ended naturally\")"
      ],
      "metadata": {
        "id": "R_jedjIuDA8k"
      },
      "execution_count": null,
      "outputs": []
    },
    {
      "cell_type": "markdown",
      "source": [
        "# After chatgpt"
      ],
      "metadata": {
        "id": "CNnN9VhyZvBK"
      }
    },
    {
      "cell_type": "code",
      "source": [
        "# Accepting a list of integers from the user\n",
        "numbers_list = list(map(int, input(\"Enter a list of numbers separated by space: \").split()))\n",
        "\n",
        "# Looping through the list\n",
        "for num in numbers_list:\n",
        "    # If the number is 20, stop the loop\n",
        "    if num == 20:\n",
        "        print(\"Loop stopped because 20 was encountered.\")\n",
        "        break\n",
        "\n",
        "    # If the number is greater than 10, skip it\n",
        "    if num > 10:\n",
        "        continue\n",
        "\n",
        "    # Print the number\n",
        "    print(num)\n",
        "else:\n",
        "    # This message will print only if the loop completes naturally (no break)\n",
        "    print(\"The loop ended naturally.\")"
      ],
      "metadata": {
        "colab": {
          "base_uri": "https://localhost:8080/"
        },
        "id": "PKWYy7UfLbj9",
        "outputId": "562147b5-d1b2-4347-f2dd-7f6268406ef0"
      },
      "execution_count": 1,
      "outputs": [
        {
          "output_type": "stream",
          "name": "stdout",
          "text": [
            "Enter a list of numbers separated by space: 1 3 5 6 10 12 20\n",
            "1\n",
            "3\n",
            "5\n",
            "6\n",
            "10\n",
            "Loop stopped because 20 was encountered.\n"
          ]
        }
      ]
    }
  ]
}