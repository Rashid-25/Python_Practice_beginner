{
  "nbformat": 4,
  "nbformat_minor": 0,
  "metadata": {
    "colab": {
      "provenance": [],
      "authorship_tag": "ABX9TyMvP2pddn/WJnaumaJy2dc5",
      "include_colab_link": true
    },
    "kernelspec": {
      "name": "python3",
      "display_name": "Python 3"
    },
    "language_info": {
      "name": "python"
    }
  },
  "cells": [
    {
      "cell_type": "markdown",
      "metadata": {
        "id": "view-in-github",
        "colab_type": "text"
      },
      "source": [
        "<a href=\"https://colab.research.google.com/github/Rashid-25/Python_Practice_beginner/blob/main/chained_comparisons_in_python.ipynb\" target=\"_parent\"><img src=\"https://colab.research.google.com/assets/colab-badge.svg\" alt=\"Open In Colab\"/></a>"
      ]
    },
    {
      "cell_type": "code",
      "execution_count": null,
      "metadata": {
        "id": "pXHCEsYaIjA6"
      },
      "outputs": [],
      "source": [
        "if True == False == True:\n",
        "    print(True)\n",
        "else:\n",
        "    print(False)"
      ]
    },
    {
      "cell_type": "markdown",
      "source": [
        "At first glance:\n",
        "\n",
        "It looks like it's checking if True == False and then if that result is == True. But in Python, this kind of expression is evaluated in a chained way:\n",
        "\n",
        "How Python reads it:\n",
        "if (True == False) and (False == True):\n",
        "\n",
        "This means:\n",
        "\n",
        "First, check if True == False → This is False.\n",
        "\n",
        "Then, check if False == True → This is also False.\n",
        "\n",
        "So overall: (False and False) → which is False.\n",
        "\n",
        "\n",
        "Final result:\n",
        "\n",
        "Since the condition is False, the else block runs, and it prints:\n",
        "\n",
        "False\n",
        "\n",
        "Summary:\n",
        "\n",
        "Python allows chained comparisons like a == b == c, and it's the same as a == b and b == c.\n",
        "\n",
        "So True == False == True is actually checking two things:\n",
        "\n",
        "1. Is True == False? → No\n",
        "\n",
        "\n",
        "2. Is False == True? → Also no\n",
        "\n",
        "\n",
        "\n",
        "Therefore, the condition is false, so the else block runs."
      ],
      "metadata": {
        "id": "now_W6tbLSsp"
      }
    },
    {
      "cell_type": "markdown",
      "source": [
        "Here are a few more examples of chained comparisons explained step by step:"
      ],
      "metadata": {
        "id": "Ko-6VL88L2Bd"
      }
    },
    {
      "cell_type": "code",
      "source": [
        "if 5 == 5 == 5:\n",
        "    print(\"All equal\")\n",
        "else:\n",
        "    print(\"Not equal\")"
      ],
      "metadata": {
        "id": "Q29xu1HrMLsx"
      },
      "execution_count": null,
      "outputs": []
    },
    {
      "cell_type": "code",
      "source": [
        "if 3 < 5 < 10:\n",
        "    print(\"In range\")\n",
        "else:\n",
        "    print(\"Out of range\")"
      ],
      "metadata": {
        "id": "_3vO0-8HMVES"
      },
      "execution_count": null,
      "outputs": []
    },
    {
      "cell_type": "code",
      "source": [
        "if True == True == False:\n",
        "    print(\"This is True\")\n",
        "else:\n",
        "    print(\"This is False\")"
      ],
      "metadata": {
        "id": "-9CI3xb0Mbtk"
      },
      "execution_count": null,
      "outputs": []
    },
    {
      "cell_type": "code",
      "source": [
        "a = 10\n",
        "if 5 < a < 15:\n",
        "    print(\"a is between 5 and 15\")"
      ],
      "metadata": {
        "id": "wGapG6DsMi8I"
      },
      "execution_count": null,
      "outputs": []
    }
  ]
}