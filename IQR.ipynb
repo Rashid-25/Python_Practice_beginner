{
  "nbformat": 4,
  "nbformat_minor": 0,
  "metadata": {
    "colab": {
      "provenance": [],
      "authorship_tag": "ABX9TyPZcyoZWVBoCb/tchvwignJ",
      "include_colab_link": true
    },
    "kernelspec": {
      "name": "python3",
      "display_name": "Python 3"
    },
    "language_info": {
      "name": "python"
    }
  },
  "cells": [
    {
      "cell_type": "markdown",
      "metadata": {
        "id": "view-in-github",
        "colab_type": "text"
      },
      "source": [
        "<a href=\"https://colab.research.google.com/github/Rashid-25/Python_Practice_beginner/blob/main/IQR.ipynb\" target=\"_parent\"><img src=\"https://colab.research.google.com/assets/colab-badge.svg\" alt=\"Open In Colab\"/></a>"
      ]
    },
    {
      "cell_type": "code",
      "execution_count": 1,
      "metadata": {
        "colab": {
          "base_uri": "https://localhost:8080/"
        },
        "id": "HPyHf79HMe-l",
        "outputId": "cf66a2f9-b432-4fc7-ee7e-cdeee8952c14"
      },
      "outputs": [
        {
          "output_type": "stream",
          "name": "stdout",
          "text": [
            "Sorted Data: [2, 5, 6, 8, 12, 15, 18, 20, 22]\n",
            "Q1 (25%): 6.0\n",
            "Q2 (Median): 12.0\n",
            "Q3 (75%): 18.0\n",
            "IQR: 12.0\n",
            "Lower Limit: -12.0\n",
            "Upper Limit: 36.0\n",
            "Outliers: []\n"
          ]
        }
      ],
      "source": [
        "import numpy as np\n",
        "\n",
        "data = [5, 2, 6, 8, 15, 12, 18, 22, 20]\n",
        "data.sort()\n",
        "\n",
        "Q1 = np.percentile(data, 25)\n",
        "Q2 = np.median(data)\n",
        "Q3 = np.percentile(data, 75)\n",
        "IQR = Q3 - Q1\n",
        "\n",
        "Lower_Limit = Q1 - 1.5 * IQR\n",
        "Upper_Limit = Q3 + 1.5 * IQR\n",
        "\n",
        "outliers = [x for x in data if x < Lower_Limit or x > Upper_Limit]\n",
        "\n",
        "print(\"Sorted Data:\", data)\n",
        "print(\"Q1 (25%):\", Q1)\n",
        "print(\"Q2 (Median):\", Q2)\n",
        "print(\"Q3 (75%):\", Q3)\n",
        "print(\"IQR:\", IQR)\n",
        "print(\"Lower Limit:\", Lower_Limit)\n",
        "print(\"Upper Limit:\", Upper_Limit)\n",
        "print(\"Outliers:\", outliers)"
      ]
    }
  ]
}