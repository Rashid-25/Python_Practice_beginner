{
  "nbformat": 4,
  "nbformat_minor": 0,
  "metadata": {
    "colab": {
      "provenance": [],
      "authorship_tag": "ABX9TyP1gUkA5Pm+/P/T0LOCkxGV",
      "include_colab_link": true
    },
    "kernelspec": {
      "name": "python3",
      "display_name": "Python 3"
    },
    "language_info": {
      "name": "python"
    }
  },
  "cells": [
    {
      "cell_type": "markdown",
      "metadata": {
        "id": "view-in-github",
        "colab_type": "text"
      },
      "source": [
        "<a href=\"https://colab.research.google.com/github/Rashid-25/Python_Practice_beginner/blob/main/local_global_variables.ipynb\" target=\"_parent\"><img src=\"https://colab.research.google.com/assets/colab-badge.svg\" alt=\"Open In Colab\"/></a>"
      ]
    },
    {
      "cell_type": "markdown",
      "source": [
        "# Practicing Local and Global Variables"
      ],
      "metadata": {
        "id": "JAZYwcfOCZEY"
      }
    },
    {
      "cell_type": "markdown",
      "source": [
        "# . Local Variables\n",
        "\n",
        "Definition:\n",
        "A local variable is declared inside a function and can only be accessed within that function. It exists only while the function is executing."
      ],
      "metadata": {
        "id": "R_tcsQy7LSyA"
      }
    },
    {
      "cell_type": "code",
      "source": [
        "def greet():\n",
        "    name = \"Alice\"  # local variable\n",
        "    print(\"Hello\", name)\n",
        "\n",
        "greet()\n",
        "# print(name)  # This would give an error: name is not defined"
      ],
      "metadata": {
        "colab": {
          "base_uri": "https://localhost:8080/"
        },
        "id": "9mq8rF4QNU9N",
        "outputId": "eb6aa42a-a5f5-4cad-ac5e-328a0aca4730"
      },
      "execution_count": 4,
      "outputs": [
        {
          "output_type": "stream",
          "name": "stdout",
          "text": [
            "Hello Alice\n"
          ]
        }
      ]
    },
    {
      "cell_type": "markdown",
      "source": [
        "# Global Variables\n",
        "\n",
        "Definition:\n",
        "A global variable is declared outside of any function and is accessible throughout the program (inside and outside functions)."
      ],
      "metadata": {
        "id": "83N74noHNkMr"
      }
    },
    {
      "cell_type": "code",
      "source": [
        "message = \"Welcome\"  # global variable\n",
        "\n",
        "def greet():\n",
        "    print(message)\n",
        "\n",
        "greet()\n",
        "print(message)"
      ],
      "metadata": {
        "id": "tUCL3C9COBhV"
      },
      "execution_count": null,
      "outputs": []
    },
    {
      "cell_type": "code",
      "execution_count": null,
      "metadata": {
        "id": "pp0xE1dgCLaF"
      },
      "outputs": [],
      "source": [
        "x = 10\n",
        "\n",
        "def my_func():\n",
        "    y = 5\n",
        "    print(\"Inside the function: \", \"x = \",x, \"y = \", y)\n",
        "\n",
        "my_func()\n",
        "print(\"Outside the function:\", \"x = \", x, \"y = \", y)"
      ]
    },
    {
      "cell_type": "markdown",
      "source": [
        "# Modifying Global Variables Inside Functions\n",
        "\n",
        "If you want to change the value of a global variable inside a function, you must use the global keyword."
      ],
      "metadata": {
        "id": "3MHK4_qHOYW0"
      }
    },
    {
      "cell_type": "code",
      "source": [
        "counter = 0\n",
        "\n",
        "def increment():\n",
        "    global counter\n",
        "    counter += 1\n",
        "\n",
        "increment()\n",
        "print(counter) # Output: 1"
      ],
      "metadata": {
        "colab": {
          "base_uri": "https://localhost:8080/"
        },
        "id": "uB9ftI2wOrHG",
        "outputId": "8c00eff3-5c5f-44a2-b3b8-60a2d0937f93"
      },
      "execution_count": 9,
      "outputs": [
        {
          "output_type": "stream",
          "name": "stdout",
          "text": [
            "1\n"
          ]
        }
      ]
    },
    {
      "cell_type": "markdown",
      "source": [
        "# More examples\n",
        "including edge cases, the nonlocal keyword, and when local and global variables can clash."
      ],
      "metadata": {
        "id": "8qRL0GLuPhaG"
      }
    },
    {
      "cell_type": "markdown",
      "source": [
        "# Local vs Global with Same Name\n",
        "\n",
        "If a local variable has the same name as a global one, the local variable takes priority within the function."
      ],
      "metadata": {
        "id": "JKNQgidGQx2p"
      }
    },
    {
      "cell_type": "code",
      "source": [
        "name = \"Global Alice\"\n",
        "\n",
        "def greet():\n",
        "    name = \"Local Alice\"\n",
        "    print(\"Hello\", name)\n",
        "\n",
        "greet()           # Output: Hello Local Alice\n",
        "print(name)       # Output: Global Alice"
      ],
      "metadata": {
        "id": "nXj_FCnWQ6Fg"
      },
      "execution_count": null,
      "outputs": []
    },
    {
      "cell_type": "markdown",
      "source": [
        "# Modifying Global Variable Without global Keyword (Causes Error)"
      ],
      "metadata": {
        "id": "MhSEQ8fhRfTh"
      }
    },
    {
      "cell_type": "code",
      "source": [
        "count = 0\n",
        "\n",
        "def increase():\n",
        "    count += 1  # Error! Python thinks this is a local variable\n",
        "\n",
        "increase()"
      ],
      "metadata": {
        "id": "w3mRibhPRxgR"
      },
      "execution_count": null,
      "outputs": []
    },
    {
      "cell_type": "markdown",
      "source": [
        "Error: UnboundLocalError: local variable 'count' referenced before assignment\n",
        "\n",
        "To fix this, use the global keyword:"
      ],
      "metadata": {
        "id": "T1_xPOiASKyv"
      }
    },
    {
      "cell_type": "code",
      "source": [
        "count = 0\n",
        "\n",
        "def increase():\n",
        "    global count\n",
        "    count += 1\n",
        "\n",
        "increase()\n",
        "print(count)  # Output: 1"
      ],
      "metadata": {
        "id": "b7XU_523SRFy"
      },
      "execution_count": null,
      "outputs": []
    },
    {
      "cell_type": "markdown",
      "source": [
        "# nonlocal Keyword (For Nested Functions)\n",
        "\n",
        "Use nonlocal to modify a variable in the enclosing (outer) function but not global scope."
      ],
      "metadata": {
        "id": "GpQdu4ElTFIb"
      }
    },
    {
      "cell_type": "code",
      "source": [
        "def outer():\n",
        "    message = \"Hello\"\n",
        "\n",
        "    def inner():\n",
        "        nonlocal message\n",
        "        message = \"Hi\"\n",
        "        print(\"Inner:\", message)\n",
        "\n",
        "    inner()\n",
        "    print(\"Outer:\", message)\n",
        "\n",
        "outer()"
      ],
      "metadata": {
        "id": "9EGfN8IbTYku"
      },
      "execution_count": null,
      "outputs": []
    },
    {
      "cell_type": "markdown",
      "source": [
        "# Mixing Local and Global Variables"
      ],
      "metadata": {
        "id": "7xWT2pATUkym"
      }
    },
    {
      "cell_type": "code",
      "source": [
        "x = 5  # global\n",
        "\n",
        "def example():\n",
        "    y = 10  # local\n",
        "    print(\"Inside function, x:\", x)\n",
        "    print(\"Inside function, y:\", y)\n",
        "\n",
        "example()\n",
        "print(\"Outside function, x:\", x)\n",
        "# print(y)  # Error: y is not defined"
      ],
      "metadata": {
        "colab": {
          "base_uri": "https://localhost:8080/"
        },
        "id": "aTPJD0inUwxq",
        "outputId": "e3b2887a-6f86-49c5-bed9-525c39e5dfc2"
      },
      "execution_count": 14,
      "outputs": [
        {
          "output_type": "stream",
          "name": "stdout",
          "text": [
            "Inside function, x: 5\n",
            "Inside function, y: 10\n",
            "Outside function, x: 5\n"
          ]
        }
      ]
    },
    {
      "cell_type": "markdown",
      "source": [
        "# Counter Using Global Variable"
      ],
      "metadata": {
        "id": "h-FiaeN0VNwm"
      }
    },
    {
      "cell_type": "code",
      "source": [
        "counter = 0\n",
        "\n",
        "def increment():\n",
        "    global counter\n",
        "    counter += 1\n",
        "    print(\"Counter is\", counter)\n",
        "\n",
        "increment()\n",
        "increment()\n",
        "increment()"
      ],
      "metadata": {
        "colab": {
          "base_uri": "https://localhost:8080/"
        },
        "id": "itF7T0StVS-k",
        "outputId": "4c95af2f-02b1-429e-819d-5e41c329e16d"
      },
      "execution_count": 16,
      "outputs": [
        {
          "output_type": "stream",
          "name": "stdout",
          "text": [
            "Counter is 1\n",
            "Counter is 2\n",
            "Counter is 3\n"
          ]
        }
      ]
    },
    {
      "cell_type": "markdown",
      "source": [
        "# Use of 'is' and '==' in python\n",
        "In Python, both is and == are comparison operators, but they behave differently:"
      ],
      "metadata": {
        "id": "e8m7EWgsWxve"
      }
    },
    {
      "cell_type": "markdown",
      "source": [
        "# == (Equality Operator)\n",
        "\n",
        "- Checks if values are equal\n",
        "\n",
        "- Compares contents"
      ],
      "metadata": {
        "id": "F5HQYvZgXUEY"
      }
    },
    {
      "cell_type": "code",
      "source": [
        "a = [1, 2, 3]\n",
        "b = [1, 2, 3]\n",
        "\n",
        "print(a == b)  # True: contents are the same"
      ],
      "metadata": {
        "colab": {
          "base_uri": "https://localhost:8080/"
        },
        "id": "n4Tsz_z-XtX6",
        "outputId": "e27ce4bb-f504-4e22-d19c-8a72e129cd5d"
      },
      "execution_count": 17,
      "outputs": [
        {
          "output_type": "stream",
          "name": "stdout",
          "text": [
            "True\n"
          ]
        }
      ]
    },
    {
      "cell_type": "markdown",
      "source": [
        "# is (Identity Operator)\n",
        "\n",
        "- Checks if two variables refer to the same object in memory (same id)\n",
        "\n",
        "- Compares identity"
      ],
      "metadata": {
        "id": "EDHO3M9nX5Z0"
      }
    },
    {
      "cell_type": "code",
      "source": [
        "a = [1, 2, 3]\n",
        "b = [1, 2, 3]\n",
        "\n",
        "print(a is b)   # False: different objects in memory\n",
        "print(a == b)   # True: same contents"
      ],
      "metadata": {
        "colab": {
          "base_uri": "https://localhost:8080/"
        },
        "id": "G8nQiUkSYF2w",
        "outputId": "ec280b5f-4f57-4f51-cba7-6c5e3022e67f"
      },
      "execution_count": 18,
      "outputs": [
        {
          "output_type": "stream",
          "name": "stdout",
          "text": [
            "False\n",
            "True\n"
          ]
        }
      ]
    },
    {
      "cell_type": "markdown",
      "source": [
        "# Example with is returning True"
      ],
      "metadata": {
        "id": "QPnPjL2lYtLr"
      }
    },
    {
      "cell_type": "code",
      "source": [
        "x = \"hello\"\n",
        "y = \"hello\"\n",
        "\n",
        "print(x is y)    # True (in some cases, due to string interning)\n",
        "print(x == y)    # True"
      ],
      "metadata": {
        "id": "R6mBHMSRY-ZY"
      },
      "execution_count": null,
      "outputs": []
    },
    {
      "cell_type": "markdown",
      "source": [
        "# Note\n",
        "For small integers and short strings, Python interns objects, so is may return True."
      ],
      "metadata": {
        "id": "JN_HSqCGZRW6"
      }
    },
    {
      "cell_type": "code",
      "source": [
        "x = 5\n",
        "y = 5\n",
        "\n",
        "print(x == y)   # True\n",
        "print(x is y)   # True (Python caches small integers)"
      ],
      "metadata": {
        "colab": {
          "base_uri": "https://localhost:8080/"
        },
        "id": "UHbhmY6vZh6f",
        "outputId": "df8c5000-5eb7-499b-acb9-cd5ac07f95a5"
      },
      "execution_count": 19,
      "outputs": [
        {
          "output_type": "stream",
          "name": "stdout",
          "text": [
            "True\n",
            "True\n"
          ]
        }
      ]
    },
    {
      "cell_type": "code",
      "source": [
        "x = [1, 2]\n",
        "y = x\n",
        "z = [1, 2]\n",
        "\n",
        "print(x is y)   # True (same object)\n",
        "print(x == y)   # True (same contents)\n",
        "\n",
        "print(x is z)   # False (different objects)\n",
        "print(x == z)   # True (same contents)"
      ],
      "metadata": {
        "colab": {
          "base_uri": "https://localhost:8080/"
        },
        "id": "9ZuftE-1Z5hD",
        "outputId": "37a871b8-59ce-48f0-9c6c-2a9675d0b271"
      },
      "execution_count": 20,
      "outputs": [
        {
          "output_type": "stream",
          "name": "stdout",
          "text": [
            "True\n",
            "True\n",
            "False\n",
            "True\n"
          ]
        }
      ]
    },
    {
      "cell_type": "markdown",
      "source": [
        "# Summary Table\n",
        "|Operator| |Compares| |Returns true if ...|\n",
        "|------| |-------| |--------|\n",
        "|==| |values| |values are the same|\n",
        "|is| |identity| |both variables point to same object|"
      ],
      "metadata": {
        "id": "8ckTZUVYaC5P"
      }
    }
  ]
}