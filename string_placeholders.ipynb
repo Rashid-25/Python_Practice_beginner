{
  "nbformat": 4,
  "nbformat_minor": 0,
  "metadata": {
    "colab": {
      "provenance": [],
      "authorship_tag": "ABX9TyNn5p36dQgs6s9Wy7v6/5i8",
      "include_colab_link": true
    },
    "kernelspec": {
      "name": "python3",
      "display_name": "Python 3"
    },
    "language_info": {
      "name": "python"
    }
  },
  "cells": [
    {
      "cell_type": "markdown",
      "metadata": {
        "id": "view-in-github",
        "colab_type": "text"
      },
      "source": [
        "<a href=\"https://colab.research.google.com/github/Rashid-25/Python_Practice_beginner/blob/main/string_placeholders.ipynb\" target=\"_parent\"><img src=\"https://colab.research.google.com/assets/colab-badge.svg\" alt=\"Open In Colab\"/></a>"
      ]
    },
    {
      "cell_type": "markdown",
      "source": [
        "In Python, string placeholders let you insert values into strings dynamically. There are 3 main ways to do this:"
      ],
      "metadata": {
        "id": "DoXeNym_RBke"
      }
    },
    {
      "cell_type": "markdown",
      "source": [
        "# 1. f-strings (Python 3.6+ — most common and recommended)"
      ],
      "metadata": {
        "id": "-ePR77NBRVSO"
      }
    },
    {
      "cell_type": "code",
      "execution_count": null,
      "metadata": {
        "id": "ZjVpumTCRAIx"
      },
      "outputs": [],
      "source": [
        "name = \"Alice\"\n",
        "age = 25\n",
        "print(f\"My name is {name} and I am {age} years old.\")"
      ]
    },
    {
      "cell_type": "markdown",
      "source": [
        "# 2. .format() method"
      ],
      "metadata": {
        "id": "-yQJDBosRpy-"
      }
    },
    {
      "cell_type": "code",
      "source": [
        "name = \"Bob\"\n",
        "age = 30\n",
        "print(\"My name is {} and I am {} years old.\".format(name, age))"
      ],
      "metadata": {
        "colab": {
          "base_uri": "https://localhost:8080/"
        },
        "id": "UFzDG5z-R01a",
        "outputId": "e8489dbf-fe66-464d-f5b9-9b136e636d5c"
      },
      "execution_count": 2,
      "outputs": [
        {
          "output_type": "stream",
          "name": "stdout",
          "text": [
            "My name is Bob and I am 30 years old.\n"
          ]
        }
      ]
    },
    {
      "cell_type": "markdown",
      "source": [
        "# 3. Old-style % formatting\n",
        "%s for string\n",
        "\n",
        "%d for integer\n",
        "\n",
        "%f for float"
      ],
      "metadata": {
        "id": "TWc2u_9YR-Ca"
      }
    },
    {
      "cell_type": "code",
      "source": [
        "name = \"Charlie\"\n",
        "age = 22\n",
        "print(\"My name is %s and I am %d years old.\" % (name, age))"
      ],
      "metadata": {
        "colab": {
          "base_uri": "https://localhost:8080/"
        },
        "id": "QRxvrd0TSOLg",
        "outputId": "def8e122-d1d4-45cc-9c2e-e241fb0156de"
      },
      "execution_count": 3,
      "outputs": [
        {
          "output_type": "stream",
          "name": "stdout",
          "text": [
            "My name is Charlie and I am 22 years old.\n"
          ]
        }
      ]
    },
    {
      "cell_type": "markdown",
      "source": [
        "# Format with rounding"
      ],
      "metadata": {
        "id": "BOIhhBdcSdWj"
      }
    },
    {
      "cell_type": "code",
      "source": [
        "price = 9.56789\n",
        "print(f\"Price is ${price:.2f}\")  # Only 2 decimal places"
      ],
      "metadata": {
        "colab": {
          "base_uri": "https://localhost:8080/"
        },
        "id": "MXMwsRZvSilD",
        "outputId": "c1907c9e-a7ac-4021-fce5-9abf6d55e22e"
      },
      "execution_count": 4,
      "outputs": [
        {
          "output_type": "stream",
          "name": "stdout",
          "text": [
            "Price is $9.57\n"
          ]
        }
      ]
    }
  ]
}