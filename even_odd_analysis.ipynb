{
  "nbformat": 4,
  "nbformat_minor": 0,
  "metadata": {
    "colab": {
      "provenance": [],
      "authorship_tag": "ABX9TyN8x/ZkeUIKbbVNPGiWY3LT",
      "include_colab_link": true
    },
    "kernelspec": {
      "name": "python3",
      "display_name": "Python 3"
    },
    "language_info": {
      "name": "python"
    }
  },
  "cells": [
    {
      "cell_type": "markdown",
      "metadata": {
        "id": "view-in-github",
        "colab_type": "text"
      },
      "source": [
        "<a href=\"https://colab.research.google.com/github/Rashid-25/Python_Practice_beginner/blob/main/even_odd_analysis.ipynb\" target=\"_parent\"><img src=\"https://colab.research.google.com/assets/colab-badge.svg\" alt=\"Open In Colab\"/></a>"
      ]
    },
    {
      "cell_type": "code",
      "source": [
        "num_list = list(map(int, input(\"Enter numbers separated by space: \").split()))\n",
        "print(\"All numbers:\", num_list)\n",
        "\n",
        "even = [x for x in num_list if x % 2 == 0]\n",
        "odd = [x for x in num_list if x % 2 != 0]\n",
        "\n",
        "print(\"Even numbers:\", even)\n",
        "print(\"Odd numbers:\", odd)\n",
        "\n",
        "# Even stats\n",
        "if even:\n",
        "    print(\"Sum of even numbers:\", sum(even))\n",
        "    print(\"Average of even numbers:\", sum(even)/len(even))\n",
        "else:\n",
        "    print(\"No even numbers.\")\n",
        "\n",
        "# Odd stats\n",
        "if odd:\n",
        "    print(\"Sum of odd numbers:\", sum(odd))\n",
        "    print(\"Average of odd numbers:\", sum(odd)/len(odd))\n",
        "else:\n",
        "    print(\"No odd numbers.\")"
      ],
      "metadata": {
        "id": "UGm_fn4f1Qty"
      },
      "execution_count": null,
      "outputs": []
    },
    {
      "cell_type": "markdown",
      "source": [
        "# Final Enhanced Version"
      ],
      "metadata": {
        "id": "fJviZaqp1usD"
      }
    },
    {
      "cell_type": "code",
      "source": [
        "num_list = list(map(int, input(\"Enter numbers separated by space: \").split()))\n",
        "print(\"All numbers:\", num_list)\n",
        "\n",
        "even = [x for x in num_list if x % 2 == 0]\n",
        "odd = [x for x in num_list if x % 2 != 0]\n",
        "\n",
        "total = len(num_list)\n",
        "\n",
        "print(\"\\nEven numbers:\", even)\n",
        "if even:\n",
        "    print(\"Count:\", len(even))\n",
        "    print(\"Sum:\", sum(even))\n",
        "    print(\"Average:\", sum(even) / len(even))\n",
        "    print(\"Max:\", max(even))\n",
        "    print(\"Min:\", min(even))\n",
        "    print(\"Percentage:\", (len(even) / total) * 100, \"%\")\n",
        "else:\n",
        "    print(\"No even numbers.\")\n",
        "\n",
        "print(\"\\nOdd numbers:\", odd)\n",
        "if odd:\n",
        "    print(\"Count:\", len(odd))\n",
        "    print(\"Sum:\", sum(odd))\n",
        "    print(\"Average:\", sum(odd) / len(odd))\n",
        "    print(\"Max:\", max(odd))\n",
        "    print(\"Min:\", min(odd))\n",
        "    print(\"Percentage:\", (len(odd) / total) * 100, \"%\")\n",
        "else:\n",
        "    print(\"No odd numbers.\")"
      ],
      "metadata": {
        "colab": {
          "base_uri": "https://localhost:8080/"
        },
        "id": "wpsOllAc10gp",
        "outputId": "68c02502-3fcc-4381-bfc9-e6bcc27d8a0f"
      },
      "execution_count": 9,
      "outputs": [
        {
          "output_type": "stream",
          "name": "stdout",
          "text": [
            "Enter numbers separated by space: 1 3 4 5 7 8 10 12 15 17 19 20\n",
            "All numbers: [1, 3, 4, 5, 7, 8, 10, 12, 15, 17, 19, 20]\n",
            "\n",
            "Even numbers: [4, 8, 10, 12, 20]\n",
            "Count: 5\n",
            "Sum: 54\n",
            "Average: 10.8\n",
            "Max: 20\n",
            "Min: 4\n",
            "Percentage: 41.66666666666667 %\n",
            "\n",
            "Odd numbers: [1, 3, 5, 7, 15, 17, 19]\n",
            "Count: 7\n",
            "Sum: 67\n",
            "Average: 9.571428571428571\n",
            "Max: 19\n",
            "Min: 1\n",
            "Percentage: 58.333333333333336 %\n"
          ]
        }
      ]
    },
    {
      "cell_type": "markdown",
      "source": [
        "# Further analysis\n",
        "Saving results to a text file"
      ],
      "metadata": {
        "id": "neKgnirG3wdz"
      }
    },
    {
      "cell_type": "code",
      "source": [
        "num_list = list(map(int, input(\"Enter numbers separated by space: \").split()))\n",
        "even = [x for x in num_list if x % 2 == 0]\n",
        "odd = [x for x in num_list if x % 2 != 0]\n",
        "total = len(num_list)\n",
        "\n",
        "with open(\"number_analysis.txt\", \"w\") as file:\n",
        "    file.write(f\"All numbers: {num_list}\\n\\n\")\n",
        "\n",
        "    # Even analysis\n",
        "    file.write(\"Even numbers:\\n\")\n",
        "    if even:\n",
        "        file.write(f\"List: {even}\\n\")\n",
        "        file.write(f\"Count: {len(even)}\\n\")\n",
        "        file.write(f\"Sum: {sum(even)}\\n\")\n",
        "        file.write(f\"Average: {sum(even)/len(even)}\\n\")\n",
        "        file.write(f\"Max: {max(even)}\\n\")\n",
        "        file.write(f\"Min: {min(even)}\\n\")\n",
        "        file.write(f\"Percentage: {(len(even)/total)*100:.2f}%\\n\\n\")\n",
        "    else:\n",
        "        file.write(\"No even numbers.\\n\\n\")\n",
        "\n",
        "    # Odd analysis\n",
        "    file.write(\"Odd numbers:\\n\")\n",
        "    if odd:\n",
        "        file.write(f\"List: {odd}\\n\")\n",
        "        file.write(f\"Count: {len(odd)}\\n\")\n",
        "        file.write(f\"Sum: {sum(odd)}\\n\")\n",
        "        file.write(f\"Average: {sum(odd)/len(odd)}\\n\")\n",
        "        file.write(f\"Max: {max(odd)}\\n\")\n",
        "        file.write(f\"Min: {min(odd)}\\n\")\n",
        "        file.write(f\"Percentage: {(len(odd)/total)*100:.2f}%\\n\")\n",
        "    else:\n",
        "        file.write(\"No odd numbers.\\n\")\n",
        "\n",
        "print(\"Analysis saved to 'number_analysis.txt'\")"
      ],
      "metadata": {
        "colab": {
          "base_uri": "https://localhost:8080/"
        },
        "id": "I0UHrLLV4DP4",
        "outputId": "540f1efd-8f20-4e7f-c44a-42d864723c2e"
      },
      "execution_count": 10,
      "outputs": [
        {
          "output_type": "stream",
          "name": "stdout",
          "text": [
            "Enter numbers separated by space: 1 3 4 5 6 8 10\n",
            "Analysis saved to 'number_analysis.txt'\n"
          ]
        }
      ]
    },
    {
      "cell_type": "markdown",
      "source": [
        "# visualization\n",
        "Display a bar chart"
      ],
      "metadata": {
        "id": "L3Reir3l4P00"
      }
    },
    {
      "cell_type": "code",
      "source": [
        "import matplotlib.pyplot as plt\n",
        "\n",
        "num_list = list(map(int, input(\"Enter numbers separated by space: \").split()))\n",
        "print(num_list)\n",
        "even = [x for x in num_list if x % 2 == 0]\n",
        "odd = [x for x in num_list if x % 2 != 0]\n",
        "\n",
        "counts = [len(even), len(odd)]\n",
        "labels = ['Even', 'Odd']\n",
        "colors = ['skyblue', 'salmon']\n",
        "\n",
        "plt.bar(labels, counts, color=colors)\n",
        "plt.title(\"Even vs Odd Number Count\")\n",
        "plt.ylabel(\"Count\")\n",
        "plt.show()"
      ],
      "metadata": {
        "colab": {
          "base_uri": "https://localhost:8080/",
          "height": 299
        },
        "id": "RDnf2HwM4a6z",
        "outputId": "3909ed29-02f3-47af-9717-8a42bc7e5566"
      },
      "execution_count": 12,
      "outputs": [
        {
          "output_type": "stream",
          "name": "stdout",
          "text": [
            "Enter numbers separated by space: 1 2 4 5 7 8 10\n",
            "[1, 2, 4, 5, 7, 8, 10]\n"
          ]
        },
        {
          "output_type": "display_data",
          "data": {
            "text/plain": [
              "<Figure size 640x480 with 1 Axes>"
            ],
            "image/png": "[encoded data removed]"
          },
          "metadata": {}
        }
      ]
    }
  ]
}